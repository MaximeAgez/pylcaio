{
 "cells": [
  {
   "cell_type": "code",
   "execution_count": 1,
   "metadata": {},
   "outputs": [],
   "source": [
    "import pandas as pd\n",
    "import numpy as np\n",
    "import pymrio\n",
    "import gzip"
   ]
  },
  {
   "cell_type": "code",
   "execution_count": 2,
   "metadata": {},
   "outputs": [],
   "source": [
    "# select the current version of ecoinvent as well the one the new one for which concordances will be updated\n",
    "current_version = '3.6'\n",
    "new_version = '3.7.1'"
   ]
  },
  {
   "cell_type": "code",
   "execution_count": 3,
   "metadata": {
    "scrolled": true
   },
   "outputs": [],
   "source": [
    "# load ecoinvent\n",
    "with gzip.open('C://Users/Maxime/Desktop/Thesis/Bdd/Ecoinvent/python/ecoinvent'+new_version+'.cutoff/ecoinvent'+new_version+'.cut-offPandas_symmNorm.gz.pickle','rb') as f:\n",
    "    ecoinvent = pd.read_pickle(f)\n",
    "# load the report of changes from ecoinvent\n",
    "change_report = pd.read_excel('C://Users/Maxime/Desktop/change_report_annex_'+current_version+'_'+new_version+'_public.xlsx','qualitative changes')\n",
    "# load previous version of concordance file\n",
    "prod_concordance = pd.read_excel('C://Users/Maxime/Desktop/Thesis/Modules_Python/pylcaio/src/Data/eco'+current_version+'_exio3/Product_Concordances.xlsx','Concordance per product')\n",
    "act_concordance = pd.read_excel('C://Users/Maxime/Desktop/Thesis/Modules_Python/pylcaio/src/Data/eco'+current_version+'_exio3/Product_Concordances.xlsx','Concordance per activity')"
   ]
  },
  {
   "cell_type": "markdown",
   "metadata": {},
   "source": [
    "#### For products"
   ]
  },
  {
   "cell_type": "code",
   "execution_count": 4,
   "metadata": {},
   "outputs": [],
   "source": [
    "# selecting processes for which the reference product changed\n",
    "try:\n",
    "    if \"FALSE\" in change_report.loc[:,'reference product different'].tolist():\n",
    "        changed_names = change_report.loc[[i for i in change_report.index if change_report.loc[i,'reference product different']=='TRUE']]\n",
    "    elif False in change_report.loc[:,'reference product different'].tolist():\n",
    "        changed_names = change_report.loc[[i for i in change_report.index if change_report.loc[i,'reference product different']==True]]\n",
    "except KeyError:\n",
    "    print('Column used got renamed.')\n",
    "    \n",
    "# extracting the changed data as a dictionary\n",
    "try:\n",
    "    names_dict = dict(zip(changed_names.loc[:,'reference product - '+current_version],changed_names.loc[:,'reference product - '+new_version]))\n",
    "except KeyError:\n",
    "    print('Column used got renamed.')\n",
    "\n",
    "# make the changes inside the file\n",
    "prod_concordance.loc[:,'productName'] = [names_dict[i] if i in names_dict else i for i in prod_concordance.productName]\n",
    "\n",
    "# get the product ids from ecoinvent\n",
    "updated_prod_concordance = prod_concordance.loc[:,['productName','Concordance']].merge(ecoinvent['PRO'].loc[:,['productId','productName']], how='left').drop_duplicates()\n",
    "\n",
    "#reordering\n",
    "updated_prod_concordance = updated_prod_concordance.reindex(['productId','productName','Concordance'],axis=1)\n",
    "\n",
    "# Now copy the Product_concordance.xlsx file and replace the tab \"Concordance per product\" with this dataframe"
   ]
  },
  {
   "cell_type": "markdown",
   "metadata": {},
   "source": [
    "#### For activities"
   ]
  },
  {
   "cell_type": "code",
   "execution_count": 5,
   "metadata": {},
   "outputs": [],
   "source": [
    "# selecting processes for which the reference product changed\n",
    "try:\n",
    "    if \"FALSE\" in change_report.loc[:,'activityName different'].tolist():\n",
    "        changed_names = change_report.loc[[i for i in change_report.index if change_report.loc[i,'activityName different']=='TRUE']]\n",
    "    elif False in change_report.loc[:,'activityName different'].tolist():\n",
    "        changed_names = change_report.loc[[i for i in change_report.index if change_report.loc[i,'activityName different']==True]]\n",
    "except KeyError:\n",
    "    print('Column used got renamed.')\n",
    "\n",
    "# extracting the changed data as a dictionary\n",
    "try:\n",
    "    names_dict = dict(zip(changed_names.loc[:,'activityName - '+current_version],changed_names.loc[:,'activityName - '+new_version]))\n",
    "except KeyError:\n",
    "    print('Column used got renamed.')\n",
    "\n",
    "# make the changes inside the file\n",
    "act_concordance.loc[:,'activityName'] = [names_dict[i] if i in names_dict else i for i in act_concordance.activityName]\n",
    "\n",
    "# get the product ids from ecoinvent\n",
    "updated_act_concordance = act_concordance.loc[:,['activityName','Concordance']].merge(ecoinvent['PRO'].loc[:,['activityNameId','activityName']], how='left').drop_duplicates()\n",
    "\n",
    "#reordering\n",
    "updated_act_concordance = updated_act_concordance.reindex(['activityNameId','activityName','Concordance'],axis=1)\n",
    "\n",
    "# Now copy the Product_concordance.xlsx file and replace the tab \"Concordance per activity\" with this dataframe"
   ]
  },
  {
   "cell_type": "markdown",
   "metadata": {},
   "source": [
    "#### New processes"
   ]
  },
  {
   "cell_type": "code",
   "execution_count": 10,
   "metadata": {},
   "outputs": [],
   "source": [
    "# load filter for hybridization\n",
    "filterhyb = pd.read_excel('C://Users/Maxime/Desktop/Thesis/Modules_Python/pylcaio/src/Data/eco'+new_version+'_exio3/Filter.xlsx')"
   ]
  },
  {
   "cell_type": "code",
   "execution_count": 11,
   "metadata": {},
   "outputs": [],
   "source": [
    "# identify new processes that will be hybridized. The ones that won't be hybridized don't matter\n",
    "new_processes = filterhyb.loc[[i for i in filterhyb.index if (filterhyb.loc[i,'productName'] not in updated_prod_concordance.productName.tolist() and\n",
    "                               filterhyb.loc[i,'activityName'] not in updated_act_concordance.activityName.tolist())]]"
   ]
  },
  {
   "cell_type": "code",
   "execution_count": 12,
   "metadata": {
    "scrolled": true
   },
   "outputs": [],
   "source": [
    "# now complete this dataframe (by hand), i.e., decide which exiobase sector corresponds to those new processes\n",
    "# and append these processes to the existing \"Concordance per product\" tab\n",
    "concordances_to_do = ecoinvent['PRO'].loc[new_processes.loc[:,'index'], ['productId','productName']].reset_index().drop(['index'],axis=1)\n",
    "concordances_to_do = concordances_to_do.drop_duplicates()"
   ]
  },
  {
   "cell_type": "code",
   "execution_count": null,
   "metadata": {},
   "outputs": [],
   "source": []
  }
 ],
 "metadata": {
  "kernelspec": {
   "display_name": "Python 3",
   "language": "python",
   "name": "python3"
  },
  "language_info": {
   "codemirror_mode": {
    "name": "ipython",
    "version": 3
   },
   "file_extension": ".py",
   "mimetype": "text/x-python",
   "name": "python",
   "nbconvert_exporter": "python",
   "pygments_lexer": "ipython3",
   "version": "3.6.10"
  }
 },
 "nbformat": 4,
 "nbformat_minor": 4
}
