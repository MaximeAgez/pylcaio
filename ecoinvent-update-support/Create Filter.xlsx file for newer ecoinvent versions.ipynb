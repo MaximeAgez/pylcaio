{
 "cells": [
  {
   "cell_type": "markdown",
   "metadata": {},
   "source": [
    "Notebook showing how to generate the Filter.xlsx file required when using a newer version of ecoinvent."
   ]
  },
  {
   "cell_type": "code",
   "execution_count": 1,
   "metadata": {},
   "outputs": [],
   "source": [
    "import pandas as pd\n",
    "import numpy as np\n",
    "import gzip\n",
    "import pickle\n",
    "import re"
   ]
  },
  {
   "cell_type": "markdown",
   "metadata": {},
   "source": [
    "Fiets, download the python version of the newer ecoinvent to-be-used"
   ]
  },
  {
   "cell_type": "code",
   "execution_count": 2,
   "metadata": {},
   "outputs": [],
   "source": [
    "with gzip.open('C://Users/Maxime/Desktop/Thesis/Bdd/Ecoinvent/python/ecoinvent3.7.1.cutoff/ecoinvent3.7.1.cut-offPandas_symmNorm.gz.pickle','rb') as f:\n",
    "    ecoinvent = pd.read_pickle(f)"
   ]
  },
  {
   "cell_type": "markdown",
   "metadata": {},
   "source": [
    "The piece of code below will determine which of the ecoinvent processes will be hybridized or not."
   ]
  },
  {
   "cell_type": "code",
   "execution_count": 3,
   "metadata": {
    "scrolled": true
   },
   "outputs": [],
   "source": [
    "list_to_hyb = []\n",
    "list_not_to_hyb = []\n",
    "dummyprocesses = []\n",
    "null_price = []\n",
    "listmarket = []\n",
    "listnottransacted = []\n",
    "listguillotine = []\n",
    "\n",
    "\n",
    "listproduct = ['sugar beet pulp', 'shavings', 'calcium chloride', 'pulverised lignite', 'heat pump, 30kW',\n",
    "               'planning', 'saw dust', 'limestone, crushed', 'water, ultrapure', 'components for',\n",
    "               'burned in refinery furnace', 'stone meal', 'grass', 'miscanthus', 'compressed',\n",
    "               'evaporation', 'for planting', 'from zinc', 'zinc concentrate',\n",
    "               'completely softened', 'tap water', 'heavy water', 'water, deionised', 'water, decarbonised',\n",
    "               'ground granulated', 'deep well', 'collection service']\n",
    "listactivity = ['basic slag', 'start-up', 'metals recovery', 'venting', 'nutrient supply',\n",
    "                'recultivation', 'extrusion', 'excavation', 'transformation',\n",
    "                'water production','thermoforming', 'blow moulding', 'sorting',\n",
    "                'natural gas pressure reduction from high to low pressure']\n",
    "listaddmarket = ['import', 'to generic market', 'to niche market', 'production mix', 'aluminium industry',\n",
    "                 'cobalt industry','to market','electricity production, high voltage, for Swiss Federal Railways']\n",
    "\n",
    "# calculating the sum of cost, we will compare it to the price and assert it's lower than the price\n",
    "A_ff = ecoinvent['A'].copy()\n",
    "A_ff = A_ff.fillna(0)\n",
    "matrix = pd.concat([ecoinvent['PRO'].price.fillna(0)]*len(ecoinvent['PRO']),axis=1)\n",
    "matrix.columns = ecoinvent['PRO'].index.tolist()\n",
    "A_ff = A_ff.multiply(matrix)\n",
    "\n",
    "for i in range(0, len(ecoinvent['PRO'])):\n",
    "    try:\n",
    "        # first, identify dummy processes, processes that do not have any inputs\n",
    "        if ecoinvent['A'].loc[:,ecoinvent['PRO'].index[i]].sum() == 0:\n",
    "            if ecoinvent['PRO'].index[i] not in list_not_to_hyb:\n",
    "                list_not_to_hyb.append(ecoinvent['PRO'].index[i])\n",
    "                dummyprocesses.append(ecoinvent['PRO'].index[i])\n",
    "        # then those that do not have any price (we obviously cannot hybridize them)\n",
    "        if ecoinvent['PRO'].price[i] == 0:\n",
    "            if ecoinvent['PRO'].index[i] not in list_not_to_hyb:\n",
    "                list_not_to_hyb.append(ecoinvent['PRO'].index[i])\n",
    "                null_price.append(ecoinvent['PRO'].index[i])\n",
    "        # market processes identification\n",
    "        if (ecoinvent['PRO'].activityType[i] == 1\n",
    "                or ecoinvent['PRO'].activityType[i] == 4\n",
    "                or ecoinvent['PRO'].activityType[i] == 10):\n",
    "            if ecoinvent['PRO'].index[i] not in list_not_to_hyb:\n",
    "                list_not_to_hyb.append(ecoinvent['PRO'].index[i])\n",
    "                listmarket.append(ecoinvent['PRO'].index[i])\n",
    "        for j in range(0,len(listaddmarket)):\n",
    "            if listaddmarket[j] in ecoinvent['PRO'].activityName[i]:\n",
    "                if ecoinvent['PRO'].index[i] not in list_not_to_hyb:\n",
    "                    list_not_to_hyb.append(ecoinvent['PRO'].index[i])\n",
    "                    listmarket.append(ecoinvent['PRO'].index[i])\n",
    "                    break\n",
    "        # non transacted goods/services identification\n",
    "        for j in range(0, len(listproduct)):\n",
    "            if listproduct[j] in ecoinvent['PRO'].productName[i]:\n",
    "                if ecoinvent['PRO'].index[i] not in list_not_to_hyb:\n",
    "                    list_not_to_hyb.append(ecoinvent['PRO'].index[i])\n",
    "                    listnottransacted.append(ecoinvent['PRO'].index[i])\n",
    "                    break\n",
    "        for k in range(0, len(listactivity)):\n",
    "            if listactivity[k] in ecoinvent['PRO'].activityName[i]:\n",
    "                if ecoinvent['PRO'].index[i] not in list_not_to_hyb:\n",
    "                    list_not_to_hyb.append(ecoinvent['PRO'].index[i])\n",
    "                    listnottransacted.append(ecoinvent['PRO'].index[i])\n",
    "                    break\n",
    "        # identify intra-sectorial processes\n",
    "        if (len(re.findall(r\"[a-z]*[i][n][g]\\b\", ecoinvent['PRO'].activityName[i], flags=0)) != 0\n",
    "            and 'production' not in ecoinvent['PRO'].activityName[i]\n",
    "            and 'treatment' not in ecoinvent['PRO'].activityName[i]\n",
    "            and 'waste' not in ecoinvent['PRO'].activityName[i]\n",
    "            and 'construction' not in ecoinvent['PRO'].activityName[i]\n",
    "            and 'installation' not in ecoinvent['PRO'].activityName[i]\n",
    "            and 'plant' not in ecoinvent['PRO'].activityName[i]\n",
    "            and 'facility' not in ecoinvent['PRO'].activityName[i]\n",
    "            and ', building' not in ecoinvent['PRO'].activityName[i]\n",
    "            and 'transport' not in ecoinvent['PRO'].activityName[i]\n",
    "            and 'capture' not in ecoinvent['PRO'].activityName[i]\n",
    "            or 'ventilation' in ecoinvent['PRO'].activityName[i]\n",
    "            and 'production' not in ecoinvent['PRO'].activityName[i]\n",
    "            and 'treatment' not in ecoinvent['PRO'].activityName[i]\n",
    "            or 'energy' in ecoinvent['PRO'].activityName[i]\n",
    "            and 'production' not in ecoinvent['PRO'].activityName[i]\n",
    "            or ecoinvent['PRO'].unitName[i] == 'ha'\n",
    "            or (ecoinvent['PRO'].unitName[i] == 'hour'\n",
    "                and 'helicopter' not in ecoinvent['PRO'].productName[i])\n",
    "            or len(re.findall(r'\\b[s][e][e][d]', ecoinvent['PRO'].productName[i])) != 0\n",
    "            or len(re.findall(r\"^[0][1][6]\", ecoinvent['PRO'].ISIC[i])) != 0\n",
    "            or ('operation' in ecoinvent['PRO'].activityName[i]\n",
    "                and ('mine' not in ecoinvent['PRO'].activityName[i]\n",
    "                     and 'petroleum' not in ecoinvent['PRO'].activityName[i]\n",
    "                     and 'quarry' not in ecoinvent['PRO'].activityName[i]\n",
    "                     and 'pit' not in ecoinvent['PRO'].activityName[i]))\n",
    "            or 'maintenance' in ecoinvent['PRO'].productName[i]\n",
    "                and ('bus' not in ecoinvent['PRO'].productName[i]\n",
    "                     and 'vehicle' not in ecoinvent['PRO'].productName[i]\n",
    "                     and 'lorry' not in ecoinvent['PRO'].productName[i]\n",
    "                     and 'passenger car' not in ecoinvent['PRO'].productName[i]\n",
    "                     and 'electric bicycle' not in ecoinvent['PRO'].productName[i]\n",
    "                     and 'scooter' not in ecoinvent['PRO'].productName[i]\n",
    "                     and 'trawler' not in ecoinvent['PRO'].productName[i])):\n",
    "            if ecoinvent['PRO'].index[i] not in list_not_to_hyb:\n",
    "                list_not_to_hyb.append(ecoinvent['PRO'].index[i])\n",
    "                listnottransacted.append(ecoinvent['PRO'].index[i])\n",
    "        # guillotines, quality of process is questionable\n",
    "        if (ecoinvent['PRO'].productName[i] != 'electricity, high voltage'\n",
    "            and ecoinvent['PRO'].productName[i] != 'electricity, medium voltage'\n",
    "            and ecoinvent['PRO'].productName[i] != 'electricity, low voltage'):\n",
    "            if (ecoinvent['PRO'].price[i] > 100000\n",
    "                    or A_ff.iloc[:, i].sum() > ecoinvent['PRO'].price[i]\n",
    "                    or A_ff.iloc[:, i].sum() < 0.01 * ecoinvent['PRO'].price[i]):\n",
    "                if ecoinvent['PRO'].index[i] not in list_not_to_hyb:\n",
    "                    list_not_to_hyb.append(ecoinvent['PRO'].index[i])\n",
    "                    listguillotine.append(ecoinvent['PRO'].index[i])\n",
    "\n",
    "    except TypeError:\n",
    "        if ecoinvent['PRO'].index[i] not in list_not_to_hyb:\n",
    "            print('by default the process: '+ecoinvent['PRO'].index[i]+\n",
    "                  ' was put in listnottransacted, because no sector has been entered.')\n",
    "            list_not_to_hyb.append(ecoinvent['PRO'].index[i])\n",
    "            listnottransacted.append(ecoinvent['PRO'].index[i])\n",
    "\n",
    "for i in range(0, len(ecoinvent['PRO'])):\n",
    "    if ecoinvent['PRO'].index[i] not in list_not_to_hyb:\n",
    "        list_to_hyb.append(ecoinvent['PRO'].index[i])"
   ]
  },
  {
   "cell_type": "markdown",
   "metadata": {},
   "source": [
    "Here we identify potential new geographies of new ecoinvent version. We only need to look at processes within list_to_hyb, others don't matter. Also, RoW has a particular status so it does not count"
   ]
  },
  {
   "cell_type": "code",
   "execution_count": 4,
   "metadata": {},
   "outputs": [
    {
     "data": {
      "text/plain": [
       "set()"
      ]
     },
     "execution_count": 4,
     "metadata": {},
     "output_type": "execute_result"
    }
   ],
   "source": [
    "dict1 = open('C://Users/Maxime/Desktop/Thesis/Modules_Python/pylcaio/src/Data/eco3.7.1_exio3/geography_replacements.txt')\n",
    "dict1 = eval(dict1.read())\n",
    "dict2 = open('C://Users/Maxime/Desktop/Thesis/Modules_Python/pylcaio/src/Data/eco3.7.1_exio3/countries_per_regions.txt')\n",
    "dict2 = eval(dict2.read())\n",
    "list3 = open('C://Users/Maxime/Desktop/Thesis/Modules_Python/pylcaio/src/Data/eco3.7.1_exio3/countries.txt')\n",
    "list3 = eval(list3.read())\n",
    "\n",
    "covered_geos = list(dict1.keys())+list(dict2.keys())+list3\n",
    "\n",
    "set(ecoinvent['PRO'].loc[[i for i in ecoinvent['PRO'].index if (\n",
    "    ecoinvent['PRO'].loc[i,'geography'] not in covered_geos and i in list_to_hyb)]].geography)-set(['RoW'])"
   ]
  },
  {
   "cell_type": "markdown",
   "metadata": {},
   "source": [
    "If the set is not empty, it means there are some new geographies used by the newer version of ecoinvent that must be linked to the geographies from exiobase. We must do this \"by hand\" and put them in the geography_replacements.txt file."
   ]
  },
  {
   "cell_type": "markdown",
   "metadata": {},
   "source": [
    "We do not hybridize processes that are matched to rest-of-the-world regions from exiobase"
   ]
  },
  {
   "cell_type": "code",
   "execution_count": 5,
   "metadata": {
    "scrolled": true
   },
   "outputs": [],
   "source": [
    "ecoinvent['PRO']['io_geo'] = [dict1[i] if i in dict1 else i for i in ecoinvent['PRO'].geography]\n",
    "uncoveredgeoDF = ecoinvent['PRO'].loc[[i for i in ecoinvent['PRO'].index if (ecoinvent['PRO'].loc[i,'io_geo'] in ['WA','WE','WF','WL','WM']\n",
    "                    and i in list_to_hyb)],['price', 'geography','productName', 'activityName']]\n",
    "# they are not hybridized anymore so remove them from the list\n",
    "for process in uncoveredgeoDF.index:\n",
    "    list_to_hyb.remove(process)"
   ]
  },
  {
   "cell_type": "markdown",
   "metadata": {},
   "source": [
    "Create the Filter.xlsx file"
   ]
  },
  {
   "cell_type": "code",
   "execution_count": 6,
   "metadata": {},
   "outputs": [],
   "source": [
    "hybridizedDF = ecoinvent['PRO'].loc[list_to_hyb,['price', 'geography','productName', 'activityName']]\n",
    "marketDF = ecoinvent['PRO'].loc[listmarket,['price', 'geography','productName', 'activityName']]\n",
    "nottransactedDF = ecoinvent['PRO'].loc[listnottransacted,['price', 'geography','productName', 'activityName']]\n",
    "guillotineDF = ecoinvent['PRO'].loc[listguillotine,['price', 'geography','productName', 'activityName']]\n",
    "dummyDF = ecoinvent['PRO'].loc[dummyprocesses,['price', 'geography','productName', 'activityName']]\n",
    "nullpriceDF = ecoinvent['PRO'].loc[null_price,['price', 'geography','productName', 'activityName']]\n",
    "\n",
    "writer = pd.ExcelWriter('C://Users/Maxime/Desktop/Thesis/Modules_Python/pylcaio/src/Data/eco3.7.1_exio3/Filter.xlsx', engine='xlsxwriter')\n",
    "hybridizedDF.to_excel(writer, sheet_name='Hybridized')\n",
    "marketDF.to_excel(writer, sheet_name='Market')\n",
    "nottransactedDF.to_excel(writer, sheet_name='Not commercialized')\n",
    "guillotineDF.to_excel(writer, sheet_name='Poor quality')\n",
    "dummyDF.to_excel(writer, sheet_name='Empty processes')\n",
    "nullpriceDF.to_excel(writer, sheet_name='No price')\n",
    "uncoveredgeoDF.to_excel(writer, sheet_name='Uncovered geography')\n",
    "writer.save()"
   ]
  },
  {
   "cell_type": "code",
   "execution_count": null,
   "metadata": {},
   "outputs": [],
   "source": []
  }
 ],
 "metadata": {
  "kernelspec": {
   "display_name": "Python 3",
   "language": "python",
   "name": "python3"
  },
  "language_info": {
   "codemirror_mode": {
    "name": "ipython",
    "version": 3
   },
   "file_extension": ".py",
   "mimetype": "text/x-python",
   "name": "python",
   "nbconvert_exporter": "python",
   "pygments_lexer": "ipython3",
   "version": "3.6.10"
  }
 },
 "nbformat": 4,
 "nbformat_minor": 4
}
