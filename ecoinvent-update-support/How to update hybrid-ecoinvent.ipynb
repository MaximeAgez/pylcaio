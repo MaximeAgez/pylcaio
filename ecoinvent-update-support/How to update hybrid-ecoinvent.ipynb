{
 "cells": [
  {
   "cell_type": "markdown",
   "metadata": {},
   "source": [
    "Only run the code below if you are looking to produce files for unspported ecoinvent versions."
   ]
  },
  {
   "cell_type": "markdown",
   "metadata": {},
   "source": [
    "The update will take place in 6 steps which are described below."
   ]
  },
  {
   "cell_type": "code",
   "execution_count": 1,
   "metadata": {},
   "outputs": [],
   "source": [
    "import pandas as pd\n",
    "import numpy as np\n",
    "import pymrio\n",
    "import gzip\n",
    "import pickle\n",
    "import re"
   ]
  },
  {
   "cell_type": "markdown",
   "metadata": {},
   "source": [
    "#### 1. ecospold2matrix"
   ]
  },
  {
   "cell_type": "markdown",
   "metadata": {},
   "source": [
    "First step, make sure you have extracted the new version of ecoinvent with ecospold2matrix as pandas dataframes."
   ]
  },
  {
   "cell_type": "markdown",
   "metadata": {},
   "source": [
    "Then load the pickle into the notebook"
   ]
  },
  {
   "cell_type": "code",
   "execution_count": 2,
   "metadata": {},
   "outputs": [],
   "source": [
    "with gzip.open('C://Users/11max/Desktop/Work/Databases/ecoinvent/python/ecoinvent3.9.cutoff/ecoinvent3.9.cutoffPandas_symmNorm.gz.pickle','rb') as f:\n",
    "    ecoinvent = pd.read_pickle(f)"
   ]
  },
  {
   "cell_type": "markdown",
   "metadata": {},
   "source": [
    "#### 2. pymrio"
   ]
  },
  {
   "cell_type": "markdown",
   "metadata": {},
   "source": [
    "Same thing with the new version of exiobase. Extract it with pymrio."
   ]
  },
  {
   "cell_type": "markdown",
   "metadata": {},
   "source": [
    "Load exiobase in the notebook too"
   ]
  },
  {
   "cell_type": "code",
   "execution_count": 4,
   "metadata": {},
   "outputs": [],
   "source": [
    "io = pymrio.parse_exiobase3('C://Users/11max/Desktop/Work/Databases/EXIOBASE/monetary/exiobase3.8.2/IOT_2019_pxp/')"
   ]
  },
  {
   "cell_type": "markdown",
   "metadata": {},
   "source": [
    "#### 3. Folder for the new version"
   ]
  },
  {
   "cell_type": "markdown",
   "metadata": {},
   "source": [
    "Create a folder within src/Data/ for the new version, e.g., for ecoinvent3.7.1 and exiobase3.8.1, create a folder eco3.7.1_exio3. No need to specify exio3.8.1 as exiobase does not change format within a same version number (and we are thankful for that!)"
   ]
  },
  {
   "cell_type": "markdown",
   "metadata": {},
   "source": [
    "#### 4. Filter.xlsx"
   ]
  },
  {
   "cell_type": "markdown",
   "metadata": {},
   "source": [
    "Next we create the Filter.xlsx file for the new version."
   ]
  },
  {
   "cell_type": "markdown",
   "metadata": {},
   "source": [
    "##### 4.1 Hybridized processes and others"
   ]
  },
  {
   "cell_type": "markdown",
   "metadata": {},
   "source": [
    "We define the processes to be hybridized and most of the ones not to be hybridized, and the reason why they are not hybridized. The piece of code below takes care of that for you."
   ]
  },
  {
   "cell_type": "code",
   "execution_count": 5,
   "metadata": {},
   "outputs": [],
   "source": [
    "list_to_hyb = []\n",
    "list_not_to_hyb = []\n",
    "dummyprocesses = []\n",
    "null_price = []\n",
    "listmarket = []\n",
    "listnottransacted = []\n",
    "listguillotine = []\n",
    "\n",
    "\n",
    "listproduct = ['sugar beet pulp', 'shavings', 'calcium chloride', 'pulverised lignite', 'heat pump, 30kW',\n",
    "               'planning', 'saw dust', 'limestone, crushed', 'water, ultrapure', 'components for',\n",
    "               'burned in refinery furnace', 'stone meal', 'grass', 'miscanthus', 'compressed',\n",
    "               'evaporation', 'for planting', 'from zinc', 'zinc concentrate',\n",
    "               'completely softened', 'tap water', 'heavy water', 'water, deionised', 'water, decarbonised',\n",
    "               'ground granulated', 'deep well', 'collection service']\n",
    "listactivity = ['basic slag', 'start-up', 'metals recovery', 'venting', 'nutrient supply',\n",
    "                'recultivation', 'extrusion', 'excavation', 'transformation',\n",
    "                'water production','thermoforming', 'blow moulding', 'sorting',\n",
    "                'natural gas pressure reduction from high to low pressure']\n",
    "listaddmarket = ['import', 'to generic market', 'to niche market', 'production mix', 'aluminium industry',\n",
    "                 'cobalt industry','to market','electricity production, high voltage, for Swiss Federal Railways']\n",
    "\n",
    "# calculating the sum of cost, we will compare it to the price and assert it's lower than the price\n",
    "A_ff = ecoinvent['A'].copy()\n",
    "A_ff = A_ff.fillna(0)\n",
    "matrix = pd.concat([ecoinvent['PRO'].price.fillna(0)]*len(ecoinvent['PRO']),axis=1)\n",
    "matrix.columns = ecoinvent['PRO'].index.tolist()\n",
    "A_ff = A_ff.multiply(matrix)\n",
    "\n",
    "for i in range(0, len(ecoinvent['PRO'])):\n",
    "    try:\n",
    "        # first, identify dummy processes, processes that do not have any inputs\n",
    "        if ecoinvent['A'].loc[:,ecoinvent['PRO'].index[i]].sum() == 0:\n",
    "            if ecoinvent['PRO'].index[i] not in list_not_to_hyb:\n",
    "                list_not_to_hyb.append(ecoinvent['PRO'].index[i])\n",
    "                dummyprocesses.append(ecoinvent['PRO'].index[i])\n",
    "        # then those that do not have any price (we obviously cannot hybridize them)\n",
    "        if ecoinvent['PRO'].price[i] == 0:\n",
    "            if ecoinvent['PRO'].index[i] not in list_not_to_hyb:\n",
    "                list_not_to_hyb.append(ecoinvent['PRO'].index[i])\n",
    "                null_price.append(ecoinvent['PRO'].index[i])\n",
    "        # market processes identification\n",
    "        if (ecoinvent['PRO'].activityType[i] == 1\n",
    "                or ecoinvent['PRO'].activityType[i] == 4\n",
    "                or ecoinvent['PRO'].activityType[i] == 10):\n",
    "            if ecoinvent['PRO'].index[i] not in list_not_to_hyb:\n",
    "                list_not_to_hyb.append(ecoinvent['PRO'].index[i])\n",
    "                listmarket.append(ecoinvent['PRO'].index[i])\n",
    "        for j in range(0,len(listaddmarket)):\n",
    "            if listaddmarket[j] in ecoinvent['PRO'].activityName[i]:\n",
    "                if ecoinvent['PRO'].index[i] not in list_not_to_hyb:\n",
    "                    list_not_to_hyb.append(ecoinvent['PRO'].index[i])\n",
    "                    listmarket.append(ecoinvent['PRO'].index[i])\n",
    "                    break\n",
    "        # non transacted goods/services identification\n",
    "        for j in range(0, len(listproduct)):\n",
    "            if listproduct[j] in ecoinvent['PRO'].productName[i]:\n",
    "                if ecoinvent['PRO'].index[i] not in list_not_to_hyb:\n",
    "                    list_not_to_hyb.append(ecoinvent['PRO'].index[i])\n",
    "                    listnottransacted.append(ecoinvent['PRO'].index[i])\n",
    "                    break\n",
    "        for k in range(0, len(listactivity)):\n",
    "            if listactivity[k] in ecoinvent['PRO'].activityName[i]:\n",
    "                if ecoinvent['PRO'].index[i] not in list_not_to_hyb:\n",
    "                    list_not_to_hyb.append(ecoinvent['PRO'].index[i])\n",
    "                    listnottransacted.append(ecoinvent['PRO'].index[i])\n",
    "                    break\n",
    "        # identify intra-sectorial processes\n",
    "        if (len(re.findall(r\"[a-z]*[i][n][g]\\b\", ecoinvent['PRO'].activityName[i], flags=0)) != 0\n",
    "            and 'production' not in ecoinvent['PRO'].activityName[i]\n",
    "            and 'treatment' not in ecoinvent['PRO'].activityName[i]\n",
    "            and 'waste' not in ecoinvent['PRO'].activityName[i]\n",
    "            and 'construction' not in ecoinvent['PRO'].activityName[i]\n",
    "            and 'installation' not in ecoinvent['PRO'].activityName[i]\n",
    "            and 'plant' not in ecoinvent['PRO'].activityName[i]\n",
    "            and 'facility' not in ecoinvent['PRO'].activityName[i]\n",
    "            and ', building' not in ecoinvent['PRO'].activityName[i]\n",
    "            and 'transport' not in ecoinvent['PRO'].activityName[i]\n",
    "            and 'capture' not in ecoinvent['PRO'].activityName[i]\n",
    "            or 'ventilation' in ecoinvent['PRO'].activityName[i]\n",
    "            and 'production' not in ecoinvent['PRO'].activityName[i]\n",
    "            and 'treatment' not in ecoinvent['PRO'].activityName[i]\n",
    "            or 'energy' in ecoinvent['PRO'].activityName[i]\n",
    "            and 'production' not in ecoinvent['PRO'].activityName[i]\n",
    "            or ecoinvent['PRO'].unitName[i] == 'ha'\n",
    "            or (ecoinvent['PRO'].unitName[i] == 'hour'\n",
    "                and 'helicopter' not in ecoinvent['PRO'].productName[i])\n",
    "            or len(re.findall(r'\\b[s][e][e][d]', ecoinvent['PRO'].productName[i])) != 0\n",
    "            or len(re.findall(r\"^[0][1][6]\", ecoinvent['PRO'].ISIC[i])) != 0\n",
    "            or ('operation' in ecoinvent['PRO'].activityName[i]\n",
    "                and ('mine' not in ecoinvent['PRO'].activityName[i]\n",
    "                     and 'petroleum' not in ecoinvent['PRO'].activityName[i]\n",
    "                     and 'quarry' not in ecoinvent['PRO'].activityName[i]\n",
    "                     and 'pit' not in ecoinvent['PRO'].activityName[i]))\n",
    "            or 'maintenance' in ecoinvent['PRO'].productName[i]\n",
    "                and ('bus' not in ecoinvent['PRO'].productName[i]\n",
    "                     and 'vehicle' not in ecoinvent['PRO'].productName[i]\n",
    "                     and 'lorry' not in ecoinvent['PRO'].productName[i]\n",
    "                     and 'passenger car' not in ecoinvent['PRO'].productName[i]\n",
    "                     and 'electric bicycle' not in ecoinvent['PRO'].productName[i]\n",
    "                     and 'scooter' not in ecoinvent['PRO'].productName[i]\n",
    "                     and 'trawler' not in ecoinvent['PRO'].productName[i])):\n",
    "            if ecoinvent['PRO'].index[i] not in list_not_to_hyb:\n",
    "                list_not_to_hyb.append(ecoinvent['PRO'].index[i])\n",
    "                listnottransacted.append(ecoinvent['PRO'].index[i])\n",
    "        # guillotines, quality of process is questionable\n",
    "        if (ecoinvent['PRO'].productName[i] != 'electricity, high voltage'\n",
    "            and ecoinvent['PRO'].productName[i] != 'electricity, medium voltage'\n",
    "            and ecoinvent['PRO'].productName[i] != 'electricity, low voltage'):\n",
    "            if (ecoinvent['PRO'].price[i] > 100000\n",
    "                    or A_ff.iloc[:, i].sum() > ecoinvent['PRO'].price[i]\n",
    "                    or A_ff.iloc[:, i].sum() < 0.01 * ecoinvent['PRO'].price[i]):\n",
    "                if ecoinvent['PRO'].index[i] not in list_not_to_hyb:\n",
    "                    list_not_to_hyb.append(ecoinvent['PRO'].index[i])\n",
    "                    listguillotine.append(ecoinvent['PRO'].index[i])\n",
    "\n",
    "    except TypeError:\n",
    "        if ecoinvent['PRO'].index[i] not in list_not_to_hyb:\n",
    "            print('by default the process: '+ecoinvent['PRO'].index[i]+\n",
    "                  ' was put in listnottransacted, because no sector has been entered.')\n",
    "            list_not_to_hyb.append(ecoinvent['PRO'].index[i])\n",
    "            listnottransacted.append(ecoinvent['PRO'].index[i])\n",
    "\n",
    "for i in range(0, len(ecoinvent['PRO'])):\n",
    "    if ecoinvent['PRO'].index[i] not in list_not_to_hyb:\n",
    "        list_to_hyb.append(ecoinvent['PRO'].index[i])"
   ]
  },
  {
   "cell_type": "markdown",
   "metadata": {},
   "source": [
    "##### 4.2 Potential new geographies"
   ]
  },
  {
   "cell_type": "markdown",
   "metadata": {},
   "source": [
    "We identify the potential new geographies of the new version of ecoinvent. Only hybridized processes are scanned, as the others ones don't matter."
   ]
  },
  {
   "cell_type": "code",
   "execution_count": 9,
   "metadata": {},
   "outputs": [
    {
     "data": {
      "text/plain": [
       "set()"
      ]
     },
     "execution_count": 9,
     "metadata": {},
     "output_type": "execute_result"
    }
   ],
   "source": [
    "dict1 = open('C://Users/11max/Desktop/Work/Modules_Python/pylcaio/src/Data/eco3.9_exio3/geography_replacements.txt')\n",
    "dict1 = eval(dict1.read())\n",
    "dict2 = open('C://Users/11max/Desktop/Work/Modules_Python/pylcaio/src/Data/eco3.9_exio3/countries_per_regions.txt')\n",
    "dict2 = eval(dict2.read())\n",
    "list3 = open('C://Users/11max/Desktop/Work/Modules_Python/pylcaio/src/Data/eco3.9_exio3/countries.txt')\n",
    "list3 = eval(list3.read())\n",
    "\n",
    "covered_geos = list(dict1.keys())+list(dict2.keys())+list3\n",
    "\n",
    "set(ecoinvent['PRO'].loc[[i for i in ecoinvent['PRO'].index if (\n",
    "    ecoinvent['PRO'].loc[i,'geography'] not in covered_geos and i in list_to_hyb)]].geography)-set(['RoW'])"
   ]
  },
  {
   "cell_type": "markdown",
   "metadata": {},
   "source": [
    "If the final set is not empty, those are new geographies that are used by ecoinvent. You then have to include those geographies in the different files used for the hybridization.\n",
    "\n",
    "- If it's a country that is aggregated in the rest-of-the-world regions of exiobase incorporate it in the \"geography_replacements.txt\" file\n",
    "- Similarly, if it's a subregion of an existing country in exiobase, (e.g., CA-QC for Quebec) incorporate it in the \"geography_replacements.txt\" file as well\n",
    "- If it's a new region (e.g., Europe without Austria) translate that new region in terms of the countries of exiobase in the \"countries_per_regions.txt\" file"
   ]
  },
  {
   "cell_type": "markdown",
   "metadata": {},
   "source": [
    "##### 4.3 Uncovered geographies"
   ]
  },
  {
   "cell_type": "markdown",
   "metadata": {},
   "source": [
    "By default, pylcaio does not hybridize processes for which the country is not in exiobase. So basically, countries that are regrouped in the different rest-of-the-world regions of exiobase (i.e., WA, WE, WF, WL, WM) are not hybridized."
   ]
  },
  {
   "cell_type": "code",
   "execution_count": 10,
   "metadata": {},
   "outputs": [],
   "source": [
    "ecoinvent['PRO']['io_geo'] = [dict1[i] if i in dict1 else i for i in ecoinvent['PRO'].geography]\n",
    "uncoveredgeoDF = ecoinvent['PRO'].loc[[i for i in ecoinvent['PRO'].index if (ecoinvent['PRO'].loc[i,'io_geo'] in ['WA','WE','WF','WL','WM']\n",
    "                    and i in list_to_hyb)],['price', 'geography','productName', 'activityName']]\n",
    "# they are not hybridized anymore so remove them from the list\n",
    "for process in uncoveredgeoDF.index:\n",
    "    list_to_hyb.remove(process)"
   ]
  },
  {
   "cell_type": "markdown",
   "metadata": {},
   "source": [
    "##### 4.4 Write the Excel file itself"
   ]
  },
  {
   "cell_type": "markdown",
   "metadata": {},
   "source": [
    "Finally we write the Excel file. The file needs to be placed within the previously created folder for the new hybrid-ecoinvent version. **_Do not change the names of the Excel tabs._**"
   ]
  },
  {
   "cell_type": "code",
   "execution_count": 12,
   "metadata": {},
   "outputs": [],
   "source": [
    "hybridizedDF = ecoinvent['PRO'].loc[list_to_hyb,['price', 'geography','productName', 'activityName']]\n",
    "marketDF = ecoinvent['PRO'].loc[listmarket,['price', 'geography','productName', 'activityName']]\n",
    "nottransactedDF = ecoinvent['PRO'].loc[listnottransacted,['price', 'geography','productName', 'activityName']]\n",
    "guillotineDF = ecoinvent['PRO'].loc[listguillotine,['price', 'geography','productName', 'activityName']]\n",
    "dummyDF = ecoinvent['PRO'].loc[dummyprocesses,['price', 'geography','productName', 'activityName']]\n",
    "nullpriceDF = ecoinvent['PRO'].loc[null_price,['price', 'geography','productName', 'activityName']]\n",
    "\n",
    "writer = pd.ExcelWriter('C://Users/11max/Desktop/Work/Modules_Python/pylcaio/src/Data/eco3.9_exio3/Filter.xlsx', engine='xlsxwriter')\n",
    "hybridizedDF.to_excel(writer, sheet_name='Hybridized')\n",
    "marketDF.to_excel(writer, sheet_name='Market')\n",
    "nottransactedDF.to_excel(writer, sheet_name='Not commercialized')\n",
    "guillotineDF.to_excel(writer, sheet_name='Poor quality')\n",
    "dummyDF.to_excel(writer, sheet_name='Empty processes')\n",
    "nullpriceDF.to_excel(writer, sheet_name='No price')\n",
    "uncoveredgeoDF.to_excel(writer, sheet_name='Uncovered geography')\n",
    "writer.save()"
   ]
  },
  {
   "cell_type": "markdown",
   "metadata": {},
   "source": [
    "#### 5. Concordances"
   ]
  },
  {
   "cell_type": "markdown",
   "metadata": {},
   "source": [
    "Here we generate the Product_concordances.xlsx file necessary to match ecoinvent processes to exiobase sectors."
   ]
  },
  {
   "cell_type": "markdown",
   "metadata": {},
   "source": [
    "##### 5.1 Update existing file"
   ]
  },
  {
   "cell_type": "markdown",
   "metadata": {},
   "source": [
    "We first update the metadata of the Product_concordances.xlsx file of the current version (i.e., not the new one)"
   ]
  },
  {
   "cell_type": "markdown",
   "metadata": {},
   "source": [
    "To do this we need to fetch a file called \"change_report_annex\" which is available on ecoinvent's website."
   ]
  },
  {
   "cell_type": "code",
   "execution_count": 14,
   "metadata": {},
   "outputs": [],
   "source": [
    "current_version = 3.8\n",
    "new_version = 3.9\n",
    "change_report = pd.read_excel('C://Users/11max/Desktop/Change Report Annex v3.8 - v3.9.xlsx','Qualitative Changes')"
   ]
  },
  {
   "cell_type": "markdown",
   "metadata": {},
   "source": [
    "Also need to load the previous Product_concordances.xlsx file"
   ]
  },
  {
   "cell_type": "code",
   "execution_count": 18,
   "metadata": {},
   "outputs": [],
   "source": [
    "codes = pd.read_excel('C://Users/11max/Desktop/Work/Modules_Python/pylcaio/src/Data/eco'+str(current_version)+'_exio3/Product_Concordances.xlsx','Description_Exiobase')\n",
    "prod_concordance = pd.read_excel('C://Users/11max/Desktop/Work/Modules_Python/pylcaio/src/Data/eco'+str(current_version)+'_exio3/Product_Concordances.xlsx','Concordance per product')\n",
    "act_concordance = pd.read_excel('C://Users/11max/Desktop/Work/Modules_Python/pylcaio/src/Data/eco'+str(current_version)+'_exio3/Product_Concordances.xlsx','Concordance per activity')"
   ]
  },
  {
   "cell_type": "markdown",
   "metadata": {},
   "source": [
    "We then update the metadata for the concordance per product tab"
   ]
  },
  {
   "cell_type": "code",
   "execution_count": 22,
   "metadata": {},
   "outputs": [],
   "source": [
    "# selecting processes for which the reference product changed\n",
    "try:\n",
    "    # we just identify what the typology used is. Either booleans are in strings or as actual booleans\n",
    "    if \"FALSE\" in change_report.loc[:,'Reference Product different'].tolist():\n",
    "        changed_names = change_report.loc[[i for i in change_report.index if change_report.loc[i,'Reference Product different']=='TRUE']]\n",
    "    elif False in change_report.loc[:,'Reference Product different'].tolist():\n",
    "        changed_names = change_report.loc[[i for i in change_report.index if change_report.loc[i,'Reference Product different']==True]]\n",
    "except KeyError:\n",
    "    print('Column used got renamed.')\n",
    "    \n",
    "# extracting the changed data as a dictionary\n",
    "try:\n",
    "    names_dict = dict(zip(changed_names.loc[:,'Reference Product - '+str(current_version)],changed_names.loc[:,'Reference Product - '+str(new_version)]))\n",
    "except KeyError:\n",
    "    print('Column used got renamed.')\n",
    "\n",
    "# make the changes inside the file\n",
    "prod_concordance.loc[:,'productName'] = [names_dict[i] if i in names_dict else i for i in prod_concordance.productName]\n",
    "\n",
    "# get the product ids from ecoinvent\n",
    "updated_prod_concordance = prod_concordance.loc[:,['productName','Concordance']].merge(ecoinvent['PRO'].loc[:,['productId','productName']], how='left').drop_duplicates()\n",
    "\n",
    "#reordering\n",
    "updated_prod_concordance = updated_prod_concordance.reindex(['productId','productName','Concordance'],axis=1)"
   ]
  },
  {
   "cell_type": "markdown",
   "metadata": {},
   "source": [
    "and for the concordance per activity tab"
   ]
  },
  {
   "cell_type": "code",
   "execution_count": 24,
   "metadata": {},
   "outputs": [],
   "source": [
    "# selecting processes for which the reference product changed\n",
    "try:\n",
    "    if \"FALSE\" in change_report.loc[:,'Activity Name different'].tolist():\n",
    "        changed_names = change_report.loc[[i for i in change_report.index if change_report.loc[i,'Activity Name different']=='TRUE']]\n",
    "    elif False in change_report.loc[:,'Activity Name different'].tolist():\n",
    "        changed_names = change_report.loc[[i for i in change_report.index if change_report.loc[i,'Activity Name different']==True]]\n",
    "except KeyError:\n",
    "    print('Column used got renamed.')\n",
    "\n",
    "# extracting the changed data as a dictionary\n",
    "try:\n",
    "    names_dict = dict(zip(changed_names.loc[:,'Activity Name - '+str(current_version)],changed_names.loc[:,'Activity Name - '+str(new_version)]))\n",
    "except KeyError:\n",
    "    print('Column used got renamed.')\n",
    "\n",
    "# make the changes inside the file\n",
    "act_concordance.loc[:,'activityName'] = [names_dict[i] if i in names_dict else i for i in act_concordance.activityName]\n",
    "\n",
    "# get the product ids from ecoinvent\n",
    "updated_act_concordance = act_concordance.loc[:,['activityName','Concordance']].merge(ecoinvent['PRO'].loc[:,['activityNameId','activityName']], how='left').drop_duplicates()\n",
    "\n",
    "#reordering\n",
    "updated_act_concordance = updated_act_concordance.reindex(['activityNameId','activityName','Concordance'],axis=1)"
   ]
  },
  {
   "cell_type": "markdown",
   "metadata": {},
   "source": [
    "Finally we rewrite the file with the updated metadata."
   ]
  },
  {
   "cell_type": "code",
   "execution_count": 25,
   "metadata": {},
   "outputs": [],
   "source": [
    "writer = pd.ExcelWriter('C://Users/11max/Desktop/Work/Modules_Python/pylcaio/src/Data/eco'+str(new_version)+'_exio3/Product_concordances.xlsx', \n",
    "                        engine='xlsxwriter')\n",
    "\n",
    "codes.to_excel(writer, sheet_name='Description_Exiobase', index=False)\n",
    "updated_prod_concordance.to_excel(writer, sheet_name='Concordance per product', index=False)\n",
    "updated_act_concordance.to_excel(writer, sheet_name='Concordance per activity', index=False)\n",
    "writer.save()"
   ]
  },
  {
   "cell_type": "markdown",
   "metadata": {},
   "source": [
    "##### 5.2 New processes"
   ]
  },
  {
   "cell_type": "markdown",
   "metadata": {},
   "source": [
    "The matching for new processes has to be performed manually. Nevertheless, here is some code that ease the process by identifying what are the new processes for which a matching is needed."
   ]
  },
  {
   "cell_type": "code",
   "execution_count": 26,
   "metadata": {},
   "outputs": [],
   "source": [
    "# load the filter we created previously\n",
    "filterhyb = pd.read_excel('C://Users/11max/Desktop/Work/Modules_Python/pylcaio/src/Data/eco'+str(new_version)+'_exio3/Filter.xlsx')\n",
    "\n",
    "# identify the new processes\n",
    "new_processes = filterhyb.loc[[i for i in filterhyb.index if (filterhyb.loc[i,'productName'] not in updated_prod_concordance.productName.tolist() and\n",
    "                               filterhyb.loc[i,'activityName'] not in updated_act_concordance.activityName.tolist())]]\n",
    "\n",
    "# isolate the concordances that need to be dealt with manually\n",
    "concordances_to_do = ecoinvent['PRO'].loc[new_processes.loc[:,'index'], ['productId','productName']].reset_index().drop(['index'],axis=1)\n",
    "concordances_to_do = concordances_to_do.drop_duplicates()"
   ]
  },
  {
   "cell_type": "markdown",
   "metadata": {},
   "source": [
    "Now you can copy and paste them to the updated Product_concordancex.xlsx file and match them manually based on the productName and on the exiobase code (see Description_Exiobase for the codes). Here is a link that can help for the matching: https://ec.europa.eu/eurostat/ramon/nomenclatures/index.cfm?TargetUrl=LST_NOM_DTL_LINEAR&StrNom=NACE_1_1&StrLanguageCode=EN"
   ]
  },
  {
   "cell_type": "code",
   "execution_count": 27,
   "metadata": {
    "scrolled": true
   },
   "outputs": [
    {
     "data": {
      "text/html": [
       "<div>\n",
       "<style scoped>\n",
       "    .dataframe tbody tr th:only-of-type {\n",
       "        vertical-align: middle;\n",
       "    }\n",
       "\n",
       "    .dataframe tbody tr th {\n",
       "        vertical-align: top;\n",
       "    }\n",
       "\n",
       "    .dataframe thead th {\n",
       "        text-align: right;\n",
       "    }\n",
       "</style>\n",
       "<table border=\"1\" class=\"dataframe\">\n",
       "  <thead>\n",
       "    <tr style=\"text-align: right;\">\n",
       "      <th></th>\n",
       "      <th>productId</th>\n",
       "      <th>productName</th>\n",
       "    </tr>\n",
       "  </thead>\n",
       "  <tbody>\n",
       "    <tr>\n",
       "      <th>0</th>\n",
       "      <td>1f097a0f-753b-501f-b9d5-df766bc97660</td>\n",
       "      <td>fava bean</td>\n",
       "    </tr>\n",
       "    <tr>\n",
       "      <th>4</th>\n",
       "      <td>7a49bec2-44cb-5445-94f2-10f0a1db868a</td>\n",
       "      <td>navy bean</td>\n",
       "    </tr>\n",
       "    <tr>\n",
       "      <th>7</th>\n",
       "      <td>629a7932-8d60-54e7-8b08-22cfa3626dfd</td>\n",
       "      <td>pinto bean</td>\n",
       "    </tr>\n",
       "    <tr>\n",
       "      <th>10</th>\n",
       "      <td>3038e290-ab4f-5049-94ff-a87bdbde106b</td>\n",
       "      <td>red kidney bean</td>\n",
       "    </tr>\n",
       "    <tr>\n",
       "      <th>13</th>\n",
       "      <td>759b89bd-3aa6-42ad-b767-5bb9ef5d331d</td>\n",
       "      <td>electricity, medium voltage</td>\n",
       "    </tr>\n",
       "    <tr>\n",
       "      <th>14</th>\n",
       "      <td>8a37912f-2853-4b11-9270-813af7080e25</td>\n",
       "      <td>containerboard, unspecified</td>\n",
       "    </tr>\n",
       "    <tr>\n",
       "      <th>18</th>\n",
       "      <td>95aedd09-379e-5ee5-b2af-d220968c898b</td>\n",
       "      <td>1-methoxy-2-propanol</td>\n",
       "    </tr>\n",
       "    <tr>\n",
       "      <th>19</th>\n",
       "      <td>e24e6570-ecf4-5e34-8d59-a9066687bf17</td>\n",
       "      <td>1-methylcyclopropene</td>\n",
       "    </tr>\n",
       "    <tr>\n",
       "      <th>20</th>\n",
       "      <td>293c4e3e-6450-5f70-8607-2624c4b48715</td>\n",
       "      <td>1-naphthylacetic acid</td>\n",
       "    </tr>\n",
       "    <tr>\n",
       "      <th>21</th>\n",
       "      <td>24369ed5-0601-530a-b117-da1d4488eb18</td>\n",
       "      <td>6-benzyladenine</td>\n",
       "    </tr>\n",
       "    <tr>\n",
       "      <th>22</th>\n",
       "      <td>399beb12-32d3-5f17-8f06-24f9132df400</td>\n",
       "      <td>adiponitrile</td>\n",
       "    </tr>\n",
       "    <tr>\n",
       "      <th>24</th>\n",
       "      <td>a2f78cb7-c806-5a2a-9264-f99a6abe8c9e</td>\n",
       "      <td>chloridazon</td>\n",
       "    </tr>\n",
       "    <tr>\n",
       "      <th>25</th>\n",
       "      <td>5622e91c-82a0-59f4-aa73-38c2c3a70d9a</td>\n",
       "      <td>chlormequat chloride</td>\n",
       "    </tr>\n",
       "    <tr>\n",
       "      <th>26</th>\n",
       "      <td>521334e0-150e-5f93-8524-1fd1c9ba370d</td>\n",
       "      <td>daminozide</td>\n",
       "    </tr>\n",
       "    <tr>\n",
       "      <th>27</th>\n",
       "      <td>fe80dfb0-af8f-5d26-ab11-98583859b48f</td>\n",
       "      <td>ethephon</td>\n",
       "    </tr>\n",
       "    <tr>\n",
       "      <th>28</th>\n",
       "      <td>824fc2a0-357b-5187-a2e4-8852a62e0573</td>\n",
       "      <td>indolylbutyric acid</td>\n",
       "    </tr>\n",
       "    <tr>\n",
       "      <th>29</th>\n",
       "      <td>ce9ab92d-460a-5d74-aa2a-d1be0af894ca</td>\n",
       "      <td>isophorondiisocyante</td>\n",
       "    </tr>\n",
       "    <tr>\n",
       "      <th>31</th>\n",
       "      <td>08893305-5670-46d8-9b4c-b0ffb3790f50</td>\n",
       "      <td>lithium sulfate</td>\n",
       "    </tr>\n",
       "    <tr>\n",
       "      <th>32</th>\n",
       "      <td>fb423247-ca26-4a05-a380-d2bb2b5a77d4</td>\n",
       "      <td>lithium iron phosphate</td>\n",
       "    </tr>\n",
       "    <tr>\n",
       "      <th>38</th>\n",
       "      <td>0de744fa-a4cb-5bf3-96b6-f0df80515a9f</td>\n",
       "      <td>maleic hydrazide</td>\n",
       "    </tr>\n",
       "    <tr>\n",
       "      <th>39</th>\n",
       "      <td>b6626c43-52ac-5c69-b93a-3d7c229c3209</td>\n",
       "      <td>maneb</td>\n",
       "    </tr>\n",
       "    <tr>\n",
       "      <th>40</th>\n",
       "      <td>ab5a7d52-e152-5e35-9f31-e92bdca9161c</td>\n",
       "      <td>metazachlor</td>\n",
       "    </tr>\n",
       "    <tr>\n",
       "      <th>41</th>\n",
       "      <td>72a2249f-d533-5808-8cb1-84992f26a734</td>\n",
       "      <td>methallylchloride</td>\n",
       "    </tr>\n",
       "    <tr>\n",
       "      <th>42</th>\n",
       "      <td>15e08bcb-75e0-4f45-ab47-d6ddff721ebc</td>\n",
       "      <td>acetone, liquid</td>\n",
       "    </tr>\n",
       "    <tr>\n",
       "      <th>44</th>\n",
       "      <td>15aa1dd8-8e47-5717-b61d-3f8980faadd6</td>\n",
       "      <td>prochloraz</td>\n",
       "    </tr>\n",
       "    <tr>\n",
       "      <th>46</th>\n",
       "      <td>7655baa9-ac88-4f13-a1e7-77bd2059a7a6</td>\n",
       "      <td>sodium ethyl xanthate</td>\n",
       "    </tr>\n",
       "    <tr>\n",
       "      <th>48</th>\n",
       "      <td>69cbcb81-5233-4753-adbe-fd3275500901</td>\n",
       "      <td>synthetic graphite, battery grade</td>\n",
       "    </tr>\n",
       "    <tr>\n",
       "      <th>49</th>\n",
       "      <td>b2e80e78-aa9c-5b8f-8276-1cbb32d8f04d</td>\n",
       "      <td>triclopyr</td>\n",
       "    </tr>\n",
       "    <tr>\n",
       "      <th>50</th>\n",
       "      <td>aff226c8-82ca-5d14-9cee-60636be3ad07</td>\n",
       "      <td>zineb</td>\n",
       "    </tr>\n",
       "    <tr>\n",
       "      <th>51</th>\n",
       "      <td>aa0f0057-073d-55b7-918d-e4d6bed420f3</td>\n",
       "      <td>NPK (15-15-15) fertiliser</td>\n",
       "    </tr>\n",
       "    <tr>\n",
       "      <th>55</th>\n",
       "      <td>08fff83a-3881-442a-8062-a7084102d9a1</td>\n",
       "      <td>electrolyte, for Li-ion battery</td>\n",
       "    </tr>\n",
       "    <tr>\n",
       "      <th>56</th>\n",
       "      <td>3889fb8e-8887-442e-823b-d420f8733d41</td>\n",
       "      <td>cement, CEM II/B-L</td>\n",
       "    </tr>\n",
       "    <tr>\n",
       "      <th>57</th>\n",
       "      <td>2dd9af9e-cc2a-4a62-bed8-f66f227b819e</td>\n",
       "      <td>chlorine, for reuse in zirconium and hafnium t...</td>\n",
       "    </tr>\n",
       "    <tr>\n",
       "      <th>58</th>\n",
       "      <td>de0844f7-1fab-44b5-8d77-2a608f26fcc0</td>\n",
       "      <td>magnesium, for reuse in hafnium sponge production</td>\n",
       "    </tr>\n",
       "    <tr>\n",
       "      <th>64</th>\n",
       "      <td>990922a0-97f0-4141-a63a-d0514daeee99</td>\n",
       "      <td>magnesium, for reuse in zirconium sponge produ...</td>\n",
       "    </tr>\n",
       "    <tr>\n",
       "      <th>69</th>\n",
       "      <td>7ff09d1a-1938-425a-b85f-a7a65bb5f0b5</td>\n",
       "      <td>titanium sponge</td>\n",
       "    </tr>\n",
       "    <tr>\n",
       "      <th>72</th>\n",
       "      <td>0904a741-a570-4438-b030-281ebd3b004e</td>\n",
       "      <td>[treatment for] non-Fe-Co-metals, from Li-ion ...</td>\n",
       "    </tr>\n",
       "    <tr>\n",
       "      <th>73</th>\n",
       "      <td>a0502158-185f-4988-9d7d-2312e2c06f43</td>\n",
       "      <td>[treatment for] non-Fe-Co-metals, from used Li...</td>\n",
       "    </tr>\n",
       "    <tr>\n",
       "      <th>74</th>\n",
       "      <td>0f1af78c-2181-438f-ab8e-5a9e3cd727fa</td>\n",
       "      <td>zirconium tetrachloride</td>\n",
       "    </tr>\n",
       "    <tr>\n",
       "      <th>77</th>\n",
       "      <td>b5b1c665-8464-44bd-a8ec-527668d782a4</td>\n",
       "      <td>battery cell, Li-ion, LFP</td>\n",
       "    </tr>\n",
       "    <tr>\n",
       "      <th>79</th>\n",
       "      <td>cbae456e-4e3a-4537-8789-e259cecf25dc</td>\n",
       "      <td>battery management system, for Li-ion battery</td>\n",
       "    </tr>\n",
       "    <tr>\n",
       "      <th>80</th>\n",
       "      <td>40d890a5-47da-4e75-b7f2-d0f98d41f1a8</td>\n",
       "      <td>battery, Li-ion, LFP, rechargeable, prismatic</td>\n",
       "    </tr>\n",
       "    <tr>\n",
       "      <th>82</th>\n",
       "      <td>87107b53-bed1-4bbf-acc4-477a5136f286</td>\n",
       "      <td>integrated battery interface system, for Li-io...</td>\n",
       "    </tr>\n",
       "    <tr>\n",
       "      <th>83</th>\n",
       "      <td>d03314df-2b13-4c27-b966-b0e6739ec2bf</td>\n",
       "      <td>aluminium collector foil, for Li-ion battery</td>\n",
       "    </tr>\n",
       "    <tr>\n",
       "      <th>84</th>\n",
       "      <td>d69294d7-8d64-4915-a896-9996a014c410</td>\n",
       "      <td>electricity, low voltage</td>\n",
       "    </tr>\n",
       "    <tr>\n",
       "      <th>144</th>\n",
       "      <td>e1a6310b-e49c-4d29-9f8e-2f3a3971b438</td>\n",
       "      <td>N2O retained, by regenerative thermal oxidation</td>\n",
       "    </tr>\n",
       "    <tr>\n",
       "      <th>146</th>\n",
       "      <td>d31cf222-d287-4d63-8c04-f2f21f45dd45</td>\n",
       "      <td>waste newspaper</td>\n",
       "    </tr>\n",
       "    <tr>\n",
       "      <th>147</th>\n",
       "      <td>8d7c013a-5aca-44d7-8fc4-193844d2953a</td>\n",
       "      <td>waste packaging paper</td>\n",
       "    </tr>\n",
       "    <tr>\n",
       "      <th>152</th>\n",
       "      <td>16fca750-330e-5aba-98f9-c87b3639c934</td>\n",
       "      <td>sewer grid, rural</td>\n",
       "    </tr>\n",
       "    <tr>\n",
       "      <th>153</th>\n",
       "      <td>4ecf1190-7028-4038-89b0-79adeb3e98cc</td>\n",
       "      <td>transport, freight, lorry 16-32 metric ton, EURO1</td>\n",
       "    </tr>\n",
       "    <tr>\n",
       "      <th>154</th>\n",
       "      <td>559d5695-102a-4beb-9f7f-3db334c9b51d</td>\n",
       "      <td>transport, freight, lorry 16-32 metric ton, EURO2</td>\n",
       "    </tr>\n",
       "    <tr>\n",
       "      <th>155</th>\n",
       "      <td>653ca70d-49a6-4c62-ae9c-56b3c00b647c</td>\n",
       "      <td>transport, freight, lorry 16-32 metric ton, un...</td>\n",
       "    </tr>\n",
       "    <tr>\n",
       "      <th>156</th>\n",
       "      <td>518404fc-5571-4fc8-80a0-67c099278772</td>\n",
       "      <td>transport, freight, lorry 3.5-7.5 metric ton, ...</td>\n",
       "    </tr>\n",
       "    <tr>\n",
       "      <th>157</th>\n",
       "      <td>bd061b71-270b-4644-9e14-6c59b2e4090d</td>\n",
       "      <td>transport, freight, lorry 3.5-7.5 metric ton, ...</td>\n",
       "    </tr>\n",
       "    <tr>\n",
       "      <th>158</th>\n",
       "      <td>cf34bfa7-b49b-4ca1-a94d-0eff5dbd23d8</td>\n",
       "      <td>transport, freight, lorry 3.5-7.5 metric ton, ...</td>\n",
       "    </tr>\n",
       "    <tr>\n",
       "      <th>159</th>\n",
       "      <td>da85af95-9191-4be6-aa68-e0a980c28785</td>\n",
       "      <td>transport, freight, lorry 7.5-16 metric ton, E...</td>\n",
       "    </tr>\n",
       "    <tr>\n",
       "      <th>160</th>\n",
       "      <td>41e4ece5-6fd3-4183-8aa7-7054d3b3b6d4</td>\n",
       "      <td>transport, freight, conveyor belt</td>\n",
       "    </tr>\n",
       "  </tbody>\n",
       "</table>\n",
       "</div>"
      ],
      "text/plain": [
       "                                productId  \\\n",
       "0    1f097a0f-753b-501f-b9d5-df766bc97660   \n",
       "4    7a49bec2-44cb-5445-94f2-10f0a1db868a   \n",
       "7    629a7932-8d60-54e7-8b08-22cfa3626dfd   \n",
       "10   3038e290-ab4f-5049-94ff-a87bdbde106b   \n",
       "13   759b89bd-3aa6-42ad-b767-5bb9ef5d331d   \n",
       "14   8a37912f-2853-4b11-9270-813af7080e25   \n",
       "18   95aedd09-379e-5ee5-b2af-d220968c898b   \n",
       "19   e24e6570-ecf4-5e34-8d59-a9066687bf17   \n",
       "20   293c4e3e-6450-5f70-8607-2624c4b48715   \n",
       "21   24369ed5-0601-530a-b117-da1d4488eb18   \n",
       "22   399beb12-32d3-5f17-8f06-24f9132df400   \n",
       "24   a2f78cb7-c806-5a2a-9264-f99a6abe8c9e   \n",
       "25   5622e91c-82a0-59f4-aa73-38c2c3a70d9a   \n",
       "26   521334e0-150e-5f93-8524-1fd1c9ba370d   \n",
       "27   fe80dfb0-af8f-5d26-ab11-98583859b48f   \n",
       "28   824fc2a0-357b-5187-a2e4-8852a62e0573   \n",
       "29   ce9ab92d-460a-5d74-aa2a-d1be0af894ca   \n",
       "31   08893305-5670-46d8-9b4c-b0ffb3790f50   \n",
       "32   fb423247-ca26-4a05-a380-d2bb2b5a77d4   \n",
       "38   0de744fa-a4cb-5bf3-96b6-f0df80515a9f   \n",
       "39   b6626c43-52ac-5c69-b93a-3d7c229c3209   \n",
       "40   ab5a7d52-e152-5e35-9f31-e92bdca9161c   \n",
       "41   72a2249f-d533-5808-8cb1-84992f26a734   \n",
       "42   15e08bcb-75e0-4f45-ab47-d6ddff721ebc   \n",
       "44   15aa1dd8-8e47-5717-b61d-3f8980faadd6   \n",
       "46   7655baa9-ac88-4f13-a1e7-77bd2059a7a6   \n",
       "48   69cbcb81-5233-4753-adbe-fd3275500901   \n",
       "49   b2e80e78-aa9c-5b8f-8276-1cbb32d8f04d   \n",
       "50   aff226c8-82ca-5d14-9cee-60636be3ad07   \n",
       "51   aa0f0057-073d-55b7-918d-e4d6bed420f3   \n",
       "55   08fff83a-3881-442a-8062-a7084102d9a1   \n",
       "56   3889fb8e-8887-442e-823b-d420f8733d41   \n",
       "57   2dd9af9e-cc2a-4a62-bed8-f66f227b819e   \n",
       "58   de0844f7-1fab-44b5-8d77-2a608f26fcc0   \n",
       "64   990922a0-97f0-4141-a63a-d0514daeee99   \n",
       "69   7ff09d1a-1938-425a-b85f-a7a65bb5f0b5   \n",
       "72   0904a741-a570-4438-b030-281ebd3b004e   \n",
       "73   a0502158-185f-4988-9d7d-2312e2c06f43   \n",
       "74   0f1af78c-2181-438f-ab8e-5a9e3cd727fa   \n",
       "77   b5b1c665-8464-44bd-a8ec-527668d782a4   \n",
       "79   cbae456e-4e3a-4537-8789-e259cecf25dc   \n",
       "80   40d890a5-47da-4e75-b7f2-d0f98d41f1a8   \n",
       "82   87107b53-bed1-4bbf-acc4-477a5136f286   \n",
       "83   d03314df-2b13-4c27-b966-b0e6739ec2bf   \n",
       "84   d69294d7-8d64-4915-a896-9996a014c410   \n",
       "144  e1a6310b-e49c-4d29-9f8e-2f3a3971b438   \n",
       "146  d31cf222-d287-4d63-8c04-f2f21f45dd45   \n",
       "147  8d7c013a-5aca-44d7-8fc4-193844d2953a   \n",
       "152  16fca750-330e-5aba-98f9-c87b3639c934   \n",
       "153  4ecf1190-7028-4038-89b0-79adeb3e98cc   \n",
       "154  559d5695-102a-4beb-9f7f-3db334c9b51d   \n",
       "155  653ca70d-49a6-4c62-ae9c-56b3c00b647c   \n",
       "156  518404fc-5571-4fc8-80a0-67c099278772   \n",
       "157  bd061b71-270b-4644-9e14-6c59b2e4090d   \n",
       "158  cf34bfa7-b49b-4ca1-a94d-0eff5dbd23d8   \n",
       "159  da85af95-9191-4be6-aa68-e0a980c28785   \n",
       "160  41e4ece5-6fd3-4183-8aa7-7054d3b3b6d4   \n",
       "\n",
       "                                           productName  \n",
       "0                                            fava bean  \n",
       "4                                            navy bean  \n",
       "7                                           pinto bean  \n",
       "10                                     red kidney bean  \n",
       "13                         electricity, medium voltage  \n",
       "14                         containerboard, unspecified  \n",
       "18                                1-methoxy-2-propanol  \n",
       "19                                1-methylcyclopropene  \n",
       "20                               1-naphthylacetic acid  \n",
       "21                                     6-benzyladenine  \n",
       "22                                        adiponitrile  \n",
       "24                                         chloridazon  \n",
       "25                                chlormequat chloride  \n",
       "26                                          daminozide  \n",
       "27                                            ethephon  \n",
       "28                                 indolylbutyric acid  \n",
       "29                                isophorondiisocyante  \n",
       "31                                     lithium sulfate  \n",
       "32                              lithium iron phosphate  \n",
       "38                                    maleic hydrazide  \n",
       "39                                               maneb  \n",
       "40                                         metazachlor  \n",
       "41                                   methallylchloride  \n",
       "42                                     acetone, liquid  \n",
       "44                                          prochloraz  \n",
       "46                               sodium ethyl xanthate  \n",
       "48                   synthetic graphite, battery grade  \n",
       "49                                           triclopyr  \n",
       "50                                               zineb  \n",
       "51                           NPK (15-15-15) fertiliser  \n",
       "55                     electrolyte, for Li-ion battery  \n",
       "56                                  cement, CEM II/B-L  \n",
       "57   chlorine, for reuse in zirconium and hafnium t...  \n",
       "58   magnesium, for reuse in hafnium sponge production  \n",
       "64   magnesium, for reuse in zirconium sponge produ...  \n",
       "69                                     titanium sponge  \n",
       "72   [treatment for] non-Fe-Co-metals, from Li-ion ...  \n",
       "73   [treatment for] non-Fe-Co-metals, from used Li...  \n",
       "74                             zirconium tetrachloride  \n",
       "77                           battery cell, Li-ion, LFP  \n",
       "79       battery management system, for Li-ion battery  \n",
       "80       battery, Li-ion, LFP, rechargeable, prismatic  \n",
       "82   integrated battery interface system, for Li-io...  \n",
       "83        aluminium collector foil, for Li-ion battery  \n",
       "84                            electricity, low voltage  \n",
       "144    N2O retained, by regenerative thermal oxidation  \n",
       "146                                    waste newspaper  \n",
       "147                              waste packaging paper  \n",
       "152                                  sewer grid, rural  \n",
       "153  transport, freight, lorry 16-32 metric ton, EURO1  \n",
       "154  transport, freight, lorry 16-32 metric ton, EURO2  \n",
       "155  transport, freight, lorry 16-32 metric ton, un...  \n",
       "156  transport, freight, lorry 3.5-7.5 metric ton, ...  \n",
       "157  transport, freight, lorry 3.5-7.5 metric ton, ...  \n",
       "158  transport, freight, lorry 3.5-7.5 metric ton, ...  \n",
       "159  transport, freight, lorry 7.5-16 metric ton, E...  \n",
       "160                  transport, freight, conveyor belt  "
      ]
     },
     "execution_count": 27,
     "metadata": {},
     "output_type": "execute_result"
    }
   ],
   "source": [
    "concordances_to_do"
   ]
  }
 ],
 "metadata": {
  "kernelspec": {
   "display_name": "Python 3 (ipykernel)",
   "language": "python",
   "name": "python3"
  },
  "language_info": {
   "codemirror_mode": {
    "name": "ipython",
    "version": 3
   },
   "file_extension": ".py",
   "mimetype": "text/x-python",
   "name": "python",
   "nbconvert_exporter": "python",
   "pygments_lexer": "ipython3",
   "version": "3.9.7"
  }
 },
 "nbformat": 4,
 "nbformat_minor": 4
}
