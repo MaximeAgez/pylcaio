{
 "cells": [
  {
   "cell_type": "markdown",
   "metadata": {},
   "source": [
    "The update will take place in 7 steps which are described below."
   ]
  },
  {
   "cell_type": "code",
   "execution_count": 4,
   "metadata": {},
   "outputs": [],
   "source": [
    "import pandas as pd\n",
    "import numpy as np\n",
    "import pymrio\n",
    "import gzip\n",
    "import pickle\n",
    "import re"
   ]
  },
  {
   "cell_type": "markdown",
   "metadata": {},
   "source": [
    "#### 1. ecospold2matrix"
   ]
  },
  {
   "cell_type": "markdown",
   "metadata": {},
   "source": [
    "First step, make sure you have extracted the new version of ecoinvent with ecospold2matrix as pandas dataframes."
   ]
  },
  {
   "cell_type": "markdown",
   "metadata": {},
   "source": [
    "Then load the pickle into the notebook"
   ]
  },
  {
   "cell_type": "code",
   "execution_count": 2,
   "metadata": {},
   "outputs": [],
   "source": [
    "with gzip.open('C://Users/Maxime/Desktop/Thesis/Bdd/Ecoinvent/python/ecoinvent3.7.1.cutoff/ecoinvent3.7.1.cut-offPandas_symmNorm.gz.pickle','rb') as f:\n",
    "    ecoinvent = pd.read_pickle(f)"
   ]
  },
  {
   "cell_type": "markdown",
   "metadata": {},
   "source": [
    "#### 2. pymrio"
   ]
  },
  {
   "cell_type": "markdown",
   "metadata": {},
   "source": [
    "Same thing with the new version of exiobase. Extract it with pymrio."
   ]
  },
  {
   "cell_type": "markdown",
   "metadata": {},
   "source": [
    "Load exiobase in the notebook too"
   ]
  },
  {
   "cell_type": "code",
   "execution_count": 5,
   "metadata": {},
   "outputs": [],
   "source": [
    "io = pymrio.parse_exiobase3('C://Users/Maxime/Desktop/Thesis/Bdd/EXIOBASE/monetary/exiobase3.8.1/IOT_2019_pxp/')"
   ]
  },
  {
   "cell_type": "markdown",
   "metadata": {},
   "source": [
    "#### 3. Folder for the new version"
   ]
  },
  {
   "cell_type": "markdown",
   "metadata": {},
   "source": [
    "Create a folder within src/Data/ for the new version, e.g., for ecoinvent3.7.1 and exiobase3.8.1, create a folder eco3.7.1_exio3. No need to specify exio3.8.1 as exiobase does not change format within a same version number (and we are thankful for that!)"
   ]
  },
  {
   "cell_type": "markdown",
   "metadata": {},
   "source": [
    "#### 4. Filter.xlsx"
   ]
  },
  {
   "cell_type": "markdown",
   "metadata": {},
   "source": [
    "Next we create the Filter.xlsx file for the new version."
   ]
  },
  {
   "cell_type": "markdown",
   "metadata": {},
   "source": [
    "##### 4.1 Hybridized processes and others"
   ]
  },
  {
   "cell_type": "markdown",
   "metadata": {},
   "source": [
    "We define the processes to be hybridized and most of the ones not to be hybridized, and the reason why they are not hybridized. The piece of code below takes care of that for you."
   ]
  },
  {
   "cell_type": "code",
   "execution_count": 6,
   "metadata": {},
   "outputs": [],
   "source": [
    "list_to_hyb = []\n",
    "list_not_to_hyb = []\n",
    "dummyprocesses = []\n",
    "null_price = []\n",
    "listmarket = []\n",
    "listnottransacted = []\n",
    "listguillotine = []\n",
    "\n",
    "\n",
    "listproduct = ['sugar beet pulp', 'shavings', 'calcium chloride', 'pulverised lignite', 'heat pump, 30kW',\n",
    "               'planning', 'saw dust', 'limestone, crushed', 'water, ultrapure', 'components for',\n",
    "               'burned in refinery furnace', 'stone meal', 'grass', 'miscanthus', 'compressed',\n",
    "               'evaporation', 'for planting', 'from zinc', 'zinc concentrate',\n",
    "               'completely softened', 'tap water', 'heavy water', 'water, deionised', 'water, decarbonised',\n",
    "               'ground granulated', 'deep well', 'collection service']\n",
    "listactivity = ['basic slag', 'start-up', 'metals recovery', 'venting', 'nutrient supply',\n",
    "                'recultivation', 'extrusion', 'excavation', 'transformation',\n",
    "                'water production','thermoforming', 'blow moulding', 'sorting',\n",
    "                'natural gas pressure reduction from high to low pressure']\n",
    "listaddmarket = ['import', 'to generic market', 'to niche market', 'production mix', 'aluminium industry',\n",
    "                 'cobalt industry','to market','electricity production, high voltage, for Swiss Federal Railways']\n",
    "\n",
    "# calculating the sum of cost, we will compare it to the price and assert it's lower than the price\n",
    "A_ff = ecoinvent['A'].copy()\n",
    "A_ff = A_ff.fillna(0)\n",
    "matrix = pd.concat([ecoinvent['PRO'].price.fillna(0)]*len(ecoinvent['PRO']),axis=1)\n",
    "matrix.columns = ecoinvent['PRO'].index.tolist()\n",
    "A_ff = A_ff.multiply(matrix)\n",
    "\n",
    "for i in range(0, len(ecoinvent['PRO'])):\n",
    "    try:\n",
    "        # first, identify dummy processes, processes that do not have any inputs\n",
    "        if ecoinvent['A'].loc[:,ecoinvent['PRO'].index[i]].sum() == 0:\n",
    "            if ecoinvent['PRO'].index[i] not in list_not_to_hyb:\n",
    "                list_not_to_hyb.append(ecoinvent['PRO'].index[i])\n",
    "                dummyprocesses.append(ecoinvent['PRO'].index[i])\n",
    "        # then those that do not have any price (we obviously cannot hybridize them)\n",
    "        if ecoinvent['PRO'].price[i] == 0:\n",
    "            if ecoinvent['PRO'].index[i] not in list_not_to_hyb:\n",
    "                list_not_to_hyb.append(ecoinvent['PRO'].index[i])\n",
    "                null_price.append(ecoinvent['PRO'].index[i])\n",
    "        # market processes identification\n",
    "        if (ecoinvent['PRO'].activityType[i] == 1\n",
    "                or ecoinvent['PRO'].activityType[i] == 4\n",
    "                or ecoinvent['PRO'].activityType[i] == 10):\n",
    "            if ecoinvent['PRO'].index[i] not in list_not_to_hyb:\n",
    "                list_not_to_hyb.append(ecoinvent['PRO'].index[i])\n",
    "                listmarket.append(ecoinvent['PRO'].index[i])\n",
    "        for j in range(0,len(listaddmarket)):\n",
    "            if listaddmarket[j] in ecoinvent['PRO'].activityName[i]:\n",
    "                if ecoinvent['PRO'].index[i] not in list_not_to_hyb:\n",
    "                    list_not_to_hyb.append(ecoinvent['PRO'].index[i])\n",
    "                    listmarket.append(ecoinvent['PRO'].index[i])\n",
    "                    break\n",
    "        # non transacted goods/services identification\n",
    "        for j in range(0, len(listproduct)):\n",
    "            if listproduct[j] in ecoinvent['PRO'].productName[i]:\n",
    "                if ecoinvent['PRO'].index[i] not in list_not_to_hyb:\n",
    "                    list_not_to_hyb.append(ecoinvent['PRO'].index[i])\n",
    "                    listnottransacted.append(ecoinvent['PRO'].index[i])\n",
    "                    break\n",
    "        for k in range(0, len(listactivity)):\n",
    "            if listactivity[k] in ecoinvent['PRO'].activityName[i]:\n",
    "                if ecoinvent['PRO'].index[i] not in list_not_to_hyb:\n",
    "                    list_not_to_hyb.append(ecoinvent['PRO'].index[i])\n",
    "                    listnottransacted.append(ecoinvent['PRO'].index[i])\n",
    "                    break\n",
    "        # identify intra-sectorial processes\n",
    "        if (len(re.findall(r\"[a-z]*[i][n][g]\\b\", ecoinvent['PRO'].activityName[i], flags=0)) != 0\n",
    "            and 'production' not in ecoinvent['PRO'].activityName[i]\n",
    "            and 'treatment' not in ecoinvent['PRO'].activityName[i]\n",
    "            and 'waste' not in ecoinvent['PRO'].activityName[i]\n",
    "            and 'construction' not in ecoinvent['PRO'].activityName[i]\n",
    "            and 'installation' not in ecoinvent['PRO'].activityName[i]\n",
    "            and 'plant' not in ecoinvent['PRO'].activityName[i]\n",
    "            and 'facility' not in ecoinvent['PRO'].activityName[i]\n",
    "            and ', building' not in ecoinvent['PRO'].activityName[i]\n",
    "            and 'transport' not in ecoinvent['PRO'].activityName[i]\n",
    "            and 'capture' not in ecoinvent['PRO'].activityName[i]\n",
    "            or 'ventilation' in ecoinvent['PRO'].activityName[i]\n",
    "            and 'production' not in ecoinvent['PRO'].activityName[i]\n",
    "            and 'treatment' not in ecoinvent['PRO'].activityName[i]\n",
    "            or 'energy' in ecoinvent['PRO'].activityName[i]\n",
    "            and 'production' not in ecoinvent['PRO'].activityName[i]\n",
    "            or ecoinvent['PRO'].unitName[i] == 'ha'\n",
    "            or (ecoinvent['PRO'].unitName[i] == 'hour'\n",
    "                and 'helicopter' not in ecoinvent['PRO'].productName[i])\n",
    "            or len(re.findall(r'\\b[s][e][e][d]', ecoinvent['PRO'].productName[i])) != 0\n",
    "            or len(re.findall(r\"^[0][1][6]\", ecoinvent['PRO'].ISIC[i])) != 0\n",
    "            or ('operation' in ecoinvent['PRO'].activityName[i]\n",
    "                and ('mine' not in ecoinvent['PRO'].activityName[i]\n",
    "                     and 'petroleum' not in ecoinvent['PRO'].activityName[i]\n",
    "                     and 'quarry' not in ecoinvent['PRO'].activityName[i]\n",
    "                     and 'pit' not in ecoinvent['PRO'].activityName[i]))\n",
    "            or 'maintenance' in ecoinvent['PRO'].productName[i]\n",
    "                and ('bus' not in ecoinvent['PRO'].productName[i]\n",
    "                     and 'vehicle' not in ecoinvent['PRO'].productName[i]\n",
    "                     and 'lorry' not in ecoinvent['PRO'].productName[i]\n",
    "                     and 'passenger car' not in ecoinvent['PRO'].productName[i]\n",
    "                     and 'electric bicycle' not in ecoinvent['PRO'].productName[i]\n",
    "                     and 'scooter' not in ecoinvent['PRO'].productName[i]\n",
    "                     and 'trawler' not in ecoinvent['PRO'].productName[i])):\n",
    "            if ecoinvent['PRO'].index[i] not in list_not_to_hyb:\n",
    "                list_not_to_hyb.append(ecoinvent['PRO'].index[i])\n",
    "                listnottransacted.append(ecoinvent['PRO'].index[i])\n",
    "        # guillotines, quality of process is questionable\n",
    "        if (ecoinvent['PRO'].productName[i] != 'electricity, high voltage'\n",
    "            and ecoinvent['PRO'].productName[i] != 'electricity, medium voltage'\n",
    "            and ecoinvent['PRO'].productName[i] != 'electricity, low voltage'):\n",
    "            if (ecoinvent['PRO'].price[i] > 100000\n",
    "                    or A_ff.iloc[:, i].sum() > ecoinvent['PRO'].price[i]\n",
    "                    or A_ff.iloc[:, i].sum() < 0.01 * ecoinvent['PRO'].price[i]):\n",
    "                if ecoinvent['PRO'].index[i] not in list_not_to_hyb:\n",
    "                    list_not_to_hyb.append(ecoinvent['PRO'].index[i])\n",
    "                    listguillotine.append(ecoinvent['PRO'].index[i])\n",
    "\n",
    "    except TypeError:\n",
    "        if ecoinvent['PRO'].index[i] not in list_not_to_hyb:\n",
    "            print('by default the process: '+ecoinvent['PRO'].index[i]+\n",
    "                  ' was put in listnottransacted, because no sector has been entered.')\n",
    "            list_not_to_hyb.append(ecoinvent['PRO'].index[i])\n",
    "            listnottransacted.append(ecoinvent['PRO'].index[i])\n",
    "\n",
    "for i in range(0, len(ecoinvent['PRO'])):\n",
    "    if ecoinvent['PRO'].index[i] not in list_not_to_hyb:\n",
    "        list_to_hyb.append(ecoinvent['PRO'].index[i])"
   ]
  },
  {
   "cell_type": "markdown",
   "metadata": {},
   "source": [
    "##### 4.2 Potential new geographies"
   ]
  },
  {
   "cell_type": "markdown",
   "metadata": {},
   "source": [
    "We identify the potential new geographies of the new version of ecoinvent. Only hybridized processes are scanned, as the others ones don't matter."
   ]
  },
  {
   "cell_type": "code",
   "execution_count": 8,
   "metadata": {},
   "outputs": [
    {
     "data": {
      "text/plain": [
       "set()"
      ]
     },
     "execution_count": 8,
     "metadata": {},
     "output_type": "execute_result"
    }
   ],
   "source": [
    "dict1 = open('C://Users/Maxime/Desktop/Thesis/Modules_Python/pylcaio/src/Data/eco3.7.1_exio3/geography_replacements.txt')\n",
    "dict1 = eval(dict1.read())\n",
    "dict2 = open('C://Users/Maxime/Desktop/Thesis/Modules_Python/pylcaio/src/Data/eco3.7.1_exio3/countries_per_regions.txt')\n",
    "dict2 = eval(dict2.read())\n",
    "list3 = open('C://Users/Maxime/Desktop/Thesis/Modules_Python/pylcaio/src/Data/eco3.7.1_exio3/countries.txt')\n",
    "list3 = eval(list3.read())\n",
    "\n",
    "covered_geos = list(dict1.keys())+list(dict2.keys())+list3\n",
    "\n",
    "set(ecoinvent['PRO'].loc[[i for i in ecoinvent['PRO'].index if (\n",
    "    ecoinvent['PRO'].loc[i,'geography'] not in covered_geos and i in list_to_hyb)]].geography)-set(['RoW'])"
   ]
  },
  {
   "cell_type": "markdown",
   "metadata": {},
   "source": [
    "If the final set is not empty, those are new geographies that are used by ecoinvent. You then have to include those geographies in the different files used for the hybridization.\n",
    "\n",
    "- If it's a country that is aggregated in the rest-of-the-world regions of exiobase incorporate it in the \"geography_replacements.txt\" file\n",
    "- Similarly, if it's a subregion of an existing country in exiobase, (e.g., CA-QC for Quebec) incorporate it in the \"geography_replacements.txt\" file as well\n",
    "- If it's a new region (e.g., Europe without Austria) translate that new region in terms of the countries of exiobase in the \"countries_per_regions.txt\" file"
   ]
  },
  {
   "cell_type": "markdown",
   "metadata": {},
   "source": [
    "##### 4.3 Uncovered geographies"
   ]
  },
  {
   "cell_type": "markdown",
   "metadata": {},
   "source": [
    "By default, pylcaio does not hybridize processes for which the country is not in exiobase. So basically, countries that are regrouped in the different rest-of-the-world regions of exiobase (i.e., WA, WE, WF, WL, WM) are not hybridized."
   ]
  },
  {
   "cell_type": "code",
   "execution_count": 9,
   "metadata": {},
   "outputs": [],
   "source": [
    "ecoinvent['PRO']['io_geo'] = [dict1[i] if i in dict1 else i for i in ecoinvent['PRO'].geography]\n",
    "uncoveredgeoDF = ecoinvent['PRO'].loc[[i for i in ecoinvent['PRO'].index if (ecoinvent['PRO'].loc[i,'io_geo'] in ['WA','WE','WF','WL','WM']\n",
    "                    and i in list_to_hyb)],['price', 'geography','productName', 'activityName']]\n",
    "# they are not hybridized anymore so remove them from the list\n",
    "for process in uncoveredgeoDF.index:\n",
    "    list_to_hyb.remove(process)"
   ]
  },
  {
   "cell_type": "markdown",
   "metadata": {},
   "source": [
    "##### 4.4 Write the Excel file itself"
   ]
  },
  {
   "cell_type": "markdown",
   "metadata": {},
   "source": [
    "Finally we write the Excel file. The file needs to be placed within the previously created folder for the new hybrid-ecoinvent version. **_Do not change the names of the Excel tabs._**"
   ]
  },
  {
   "cell_type": "code",
   "execution_count": null,
   "metadata": {},
   "outputs": [],
   "source": [
    "hybridizedDF = ecoinvent['PRO'].loc[list_to_hyb,['price', 'geography','productName', 'activityName']]\n",
    "marketDF = ecoinvent['PRO'].loc[listmarket,['price', 'geography','productName', 'activityName']]\n",
    "nottransactedDF = ecoinvent['PRO'].loc[listnottransacted,['price', 'geography','productName', 'activityName']]\n",
    "guillotineDF = ecoinvent['PRO'].loc[listguillotine,['price', 'geography','productName', 'activityName']]\n",
    "dummyDF = ecoinvent['PRO'].loc[dummyprocesses,['price', 'geography','productName', 'activityName']]\n",
    "nullpriceDF = ecoinvent['PRO'].loc[null_price,['price', 'geography','productName', 'activityName']]\n",
    "\n",
    "writer = pd.ExcelWriter('C://Users/Maxime/Desktop/Thesis/Modules_Python/pylcaio/src/Data/eco3.7.1_exio3/Filter.xlsx', engine='xlsxwriter')\n",
    "hybridizedDF.to_excel(writer, sheet_name='Hybridized')\n",
    "marketDF.to_excel(writer, sheet_name='Market')\n",
    "nottransactedDF.to_excel(writer, sheet_name='Not commercialized')\n",
    "guillotineDF.to_excel(writer, sheet_name='Poor quality')\n",
    "dummyDF.to_excel(writer, sheet_name='Empty processes')\n",
    "nullpriceDF.to_excel(writer, sheet_name='No price')\n",
    "uncoveredgeoDF.to_excel(writer, sheet_name='Uncovered geography')\n",
    "writer.save()"
   ]
  },
  {
   "cell_type": "markdown",
   "metadata": {},
   "source": [
    "#### 5. Concordances"
   ]
  },
  {
   "cell_type": "markdown",
   "metadata": {},
   "source": [
    "Here we generate the Product_concordances.xlsx file necessary to match ecoinvent processes to exiobase sectors."
   ]
  },
  {
   "cell_type": "markdown",
   "metadata": {},
   "source": [
    "##### 5.1 Update existing file"
   ]
  },
  {
   "cell_type": "markdown",
   "metadata": {},
   "source": [
    "We first update the metadata of the Product_concordances.xlsx file of the current version (i.e., not the new one)"
   ]
  },
  {
   "cell_type": "markdown",
   "metadata": {},
   "source": [
    "To do this we need to fetch a file called \"change_report_annex\" which is available on ecoinvent's website."
   ]
  },
  {
   "cell_type": "code",
   "execution_count": 10,
   "metadata": {},
   "outputs": [],
   "source": [
    "current_version = '3.6'\n",
    "new_version = '3.7.1'\n",
    "change_report = pd.read_excel('C://Users/Maxime/Desktop/change_report_annex_'+current_version+'_'+new_version+'_public.xlsx','qualitative changes')"
   ]
  },
  {
   "cell_type": "markdown",
   "metadata": {},
   "source": [
    "Also need to load the previous Product_concordances.xlsx file"
   ]
  },
  {
   "cell_type": "code",
   "execution_count": 12,
   "metadata": {},
   "outputs": [],
   "source": [
    "codes = pd.read_excel('C://Users/Maxime/Desktop/Thesis/Modules_Python/pylcaio/src/Data/eco'+current_version+'_exio3/Product_Concordances.xlsx','Description_Exiobase')\n",
    "prod_concordance = pd.read_excel('C://Users/Maxime/Desktop/Thesis/Modules_Python/pylcaio/src/Data/eco'+current_version+'_exio3/Product_Concordances.xlsx','Concordance per product')\n",
    "act_concordance = pd.read_excel('C://Users/Maxime/Desktop/Thesis/Modules_Python/pylcaio/src/Data/eco'+current_version+'_exio3/Product_Concordances.xlsx','Concordance per activity')"
   ]
  },
  {
   "cell_type": "markdown",
   "metadata": {},
   "source": [
    "We then update the metadata for the concordance per product tab"
   ]
  },
  {
   "cell_type": "code",
   "execution_count": 13,
   "metadata": {},
   "outputs": [],
   "source": [
    "# selecting processes for which the reference product changed\n",
    "try:\n",
    "    if \"FALSE\" in change_report.loc[:,'reference product different'].tolist():\n",
    "        changed_names = change_report.loc[[i for i in change_report.index if change_report.loc[i,'reference product different']=='TRUE']]\n",
    "    elif False in change_report.loc[:,'reference product different'].tolist():\n",
    "        changed_names = change_report.loc[[i for i in change_report.index if change_report.loc[i,'reference product different']==True]]\n",
    "except KeyError:\n",
    "    print('Column used got renamed.')\n",
    "    \n",
    "# extracting the changed data as a dictionary\n",
    "try:\n",
    "    names_dict = dict(zip(changed_names.loc[:,'reference product - '+current_version],changed_names.loc[:,'reference product - '+new_version]))\n",
    "except KeyError:\n",
    "    print('Column used got renamed.')\n",
    "\n",
    "# make the changes inside the file\n",
    "prod_concordance.loc[:,'productName'] = [names_dict[i] if i in names_dict else i for i in prod_concordance.productName]\n",
    "\n",
    "# get the product ids from ecoinvent\n",
    "updated_prod_concordance = prod_concordance.loc[:,['productName','Concordance']].merge(ecoinvent['PRO'].loc[:,['productId','productName']], how='left').drop_duplicates()\n",
    "\n",
    "#reordering\n",
    "updated_prod_concordance = updated_prod_concordance.reindex(['productId','productName','Concordance'],axis=1)"
   ]
  },
  {
   "cell_type": "markdown",
   "metadata": {},
   "source": [
    "and for the concordance per activity tab"
   ]
  },
  {
   "cell_type": "code",
   "execution_count": 19,
   "metadata": {},
   "outputs": [],
   "source": [
    "# selecting processes for which the reference product changed\n",
    "try:\n",
    "    if \"FALSE\" in change_report.loc[:,'activityName different'].tolist():\n",
    "        changed_names = change_report.loc[[i for i in change_report.index if change_report.loc[i,'activityName different']=='TRUE']]\n",
    "    elif False in change_report.loc[:,'activityName different'].tolist():\n",
    "        changed_names = change_report.loc[[i for i in change_report.index if change_report.loc[i,'activityName different']==True]]\n",
    "except KeyError:\n",
    "    print('Column used got renamed.')\n",
    "\n",
    "# extracting the changed data as a dictionary\n",
    "try:\n",
    "    names_dict = dict(zip(changed_names.loc[:,'activityName - '+current_version],changed_names.loc[:,'activityName - '+new_version]))\n",
    "except KeyError:\n",
    "    print('Column used got renamed.')\n",
    "\n",
    "# make the changes inside the file\n",
    "act_concordance.loc[:,'activityName'] = [names_dict[i] if i in names_dict else i for i in act_concordance.activityName]\n",
    "\n",
    "# get the product ids from ecoinvent\n",
    "updated_act_concordance = act_concordance.loc[:,['activityName','Concordance']].merge(ecoinvent['PRO'].loc[:,['activityNameId','activityName']], how='left').drop_duplicates()\n",
    "\n",
    "#reordering\n",
    "updated_act_concordance = updated_act_concordance.reindex(['activityNameId','activityName','Concordance'],axis=1)"
   ]
  },
  {
   "cell_type": "markdown",
   "metadata": {},
   "source": [
    "Finally we rewerite the file with the updated metadata."
   ]
  },
  {
   "cell_type": "code",
   "execution_count": null,
   "metadata": {},
   "outputs": [],
   "source": [
    "writer = pd.ExcelWriter('C://Users/Maxime/Desktop/Thesis/Modules_Python/pylcaio/src/Data/eco'+new_version+'_exio3/Product_concordances.xlsx', \n",
    "                        engine='xlsxwriter')\n",
    "\n",
    "codes.to_excel(writer, sheet_name='Description_Exiobase', index=False)\n",
    "updated_prod_concordance.to_excel(writer, sheet_name='Concordance per product', index=False)\n",
    "updated_act_concordance.to_excel(writer, sheet_name='Concordance per activity', index=False)\n",
    "writer.save()"
   ]
  },
  {
   "cell_type": "markdown",
   "metadata": {},
   "source": [
    "##### 5.2 New processes"
   ]
  },
  {
   "cell_type": "markdown",
   "metadata": {},
   "source": [
    "The matching for new processes has to be performed manually. Nevertheless, here is some code that ease the process by identifying what are the new processes for which a matching is needed."
   ]
  },
  {
   "cell_type": "code",
   "execution_count": 20,
   "metadata": {},
   "outputs": [],
   "source": [
    "# load the filter we created previously\n",
    "filterhyb = pd.read_excel('C://Users/Maxime/Desktop/Thesis/Modules_Python/pylcaio/src/Data/eco'+new_version+'_exio3/Filter.xlsx')\n",
    "\n",
    "# identify the new processes\n",
    "new_processes = filterhyb.loc[[i for i in filterhyb.index if (filterhyb.loc[i,'productName'] not in updated_prod_concordance.productName.tolist() and\n",
    "                               filterhyb.loc[i,'activityName'] not in updated_act_concordance.activityName.tolist())]]\n",
    "\n",
    "# isolate the concordances that need to be dealt with manually\n",
    "concordances_to_do = ecoinvent['PRO'].loc[new_processes.loc[:,'index'], ['productId','productName']].reset_index().drop(['index'],axis=1)\n",
    "concordances_to_do = concordances_to_do.drop_duplicates()"
   ]
  },
  {
   "cell_type": "markdown",
   "metadata": {},
   "source": [
    "Now you can copy and paste them to the updated Product_concordancex.xlsx file and match them manually based on the productName and on the exiobase code (see Description_Exiobase for the codes). Here is a link that can help for the matching: https://ec.europa.eu/eurostat/ramon/nomenclatures/index.cfm?TargetUrl=LST_NOM_DTL_LINEAR&StrNom=NACE_1_1&StrLanguageCode=EN"
   ]
  },
  {
   "cell_type": "code",
   "execution_count": 21,
   "metadata": {
    "scrolled": true
   },
   "outputs": [
    {
     "data": {
      "text/html": [
       "<div>\n",
       "<style scoped>\n",
       "    .dataframe tbody tr th:only-of-type {\n",
       "        vertical-align: middle;\n",
       "    }\n",
       "\n",
       "    .dataframe tbody tr th {\n",
       "        vertical-align: top;\n",
       "    }\n",
       "\n",
       "    .dataframe thead th {\n",
       "        text-align: right;\n",
       "    }\n",
       "</style>\n",
       "<table border=\"1\" class=\"dataframe\">\n",
       "  <thead>\n",
       "    <tr style=\"text-align: right;\">\n",
       "      <th></th>\n",
       "      <th>productId</th>\n",
       "      <th>productName</th>\n",
       "    </tr>\n",
       "  </thead>\n",
       "  <tbody>\n",
       "    <tr>\n",
       "      <th>0</th>\n",
       "      <td>beb1b4ef-e2ad-40e3-934f-10a2c0006eed</td>\n",
       "      <td>rare earth oxide concentrate, 50% REO</td>\n",
       "    </tr>\n",
       "    <tr>\n",
       "      <th>1</th>\n",
       "      <td>1ec16786-a836-54a3-896a-f41ea3a9f9ec</td>\n",
       "      <td>ytterbium oxide</td>\n",
       "    </tr>\n",
       "    <tr>\n",
       "      <th>3</th>\n",
       "      <td>1020c079-f3c3-5699-8fc9-72559914756a</td>\n",
       "      <td>dysprosium oxide</td>\n",
       "    </tr>\n",
       "    <tr>\n",
       "      <th>4</th>\n",
       "      <td>43df1b02-7f7b-5f66-9cc6-f93a64e4b0c3</td>\n",
       "      <td>holmium oxide</td>\n",
       "    </tr>\n",
       "    <tr>\n",
       "      <th>5</th>\n",
       "      <td>7495e6d0-60ec-5d30-9686-4dba467f8634</td>\n",
       "      <td>terbium oxide</td>\n",
       "    </tr>\n",
       "    <tr>\n",
       "      <th>6</th>\n",
       "      <td>770a59c7-501a-56a8-988a-86d8a2d8f309</td>\n",
       "      <td>lutetium oxide</td>\n",
       "    </tr>\n",
       "    <tr>\n",
       "      <th>7</th>\n",
       "      <td>90542231-d3f9-53df-ba02-2adbecf59e9c</td>\n",
       "      <td>gadolinium oxide</td>\n",
       "    </tr>\n",
       "    <tr>\n",
       "      <th>8</th>\n",
       "      <td>a392d309-fdfb-58be-93e4-8c0b843f548c</td>\n",
       "      <td>thulium oxide</td>\n",
       "    </tr>\n",
       "    <tr>\n",
       "      <th>9</th>\n",
       "      <td>e8e6fc47-a074-5f74-ab66-270ebe4e0f25</td>\n",
       "      <td>erbium oxide</td>\n",
       "    </tr>\n",
       "    <tr>\n",
       "      <th>17</th>\n",
       "      <td>9668470a-28c8-55ed-a2fd-8a6f1aeb3d68</td>\n",
       "      <td>praseodymium-neodymium oxide</td>\n",
       "    </tr>\n",
       "    <tr>\n",
       "      <th>18</th>\n",
       "      <td>e83fddb2-9a6c-43a4-8ad1-43311d7d78b8</td>\n",
       "      <td>tungsten concentrate</td>\n",
       "    </tr>\n",
       "    <tr>\n",
       "      <th>20</th>\n",
       "      <td>eadd8b3b-9c5d-5166-a244-4f4e46914133</td>\n",
       "      <td>potash salt</td>\n",
       "    </tr>\n",
       "    <tr>\n",
       "      <th>22</th>\n",
       "      <td>93015ba0-863d-4535-be49-8a1b16b71782</td>\n",
       "      <td>salt</td>\n",
       "    </tr>\n",
       "    <tr>\n",
       "      <th>23</th>\n",
       "      <td>610daa06-27af-553b-9382-71de32df4525</td>\n",
       "      <td>cross-laminated timber</td>\n",
       "    </tr>\n",
       "    <tr>\n",
       "      <th>25</th>\n",
       "      <td>84925dd9-d7ca-50b6-950e-0bbb739e0109</td>\n",
       "      <td>glued laminated timber, MUF-glue</td>\n",
       "    </tr>\n",
       "    <tr>\n",
       "      <th>26</th>\n",
       "      <td>6eabd178-3f87-5399-a0e9-1875d44bfe28</td>\n",
       "      <td>glued laminated timber, PUR-glue</td>\n",
       "    </tr>\n",
       "    <tr>\n",
       "      <th>27</th>\n",
       "      <td>ad13bd43-a99d-4d74-b4a0-63958aaca9c2</td>\n",
       "      <td>glued laminated timber, for indoor use</td>\n",
       "    </tr>\n",
       "    <tr>\n",
       "      <th>28</th>\n",
       "      <td>9240ddac-1698-5fec-a4f5-c70cd009c2cf</td>\n",
       "      <td>glued solid timber</td>\n",
       "    </tr>\n",
       "    <tr>\n",
       "      <th>30</th>\n",
       "      <td>92292ccd-ecbb-5ae6-8141-03114dd9c07c</td>\n",
       "      <td>structural timber</td>\n",
       "    </tr>\n",
       "    <tr>\n",
       "      <th>32</th>\n",
       "      <td>5cee9505-17ca-55f9-9677-6edfbeb5edb4</td>\n",
       "      <td>tubular particleboard</td>\n",
       "    </tr>\n",
       "    <tr>\n",
       "      <th>34</th>\n",
       "      <td>b0ba5ada-4b2a-4a29-b383-bdd78d6bbad6</td>\n",
       "      <td>folding boxboard carton</td>\n",
       "    </tr>\n",
       "    <tr>\n",
       "      <th>36</th>\n",
       "      <td>c5aaaecc-4f0f-50c0-85d7-9dd4c29bf269</td>\n",
       "      <td>paper sack</td>\n",
       "    </tr>\n",
       "    <tr>\n",
       "      <th>38</th>\n",
       "      <td>3b1ed771-fa76-4ee0-9e45-813909cd5538</td>\n",
       "      <td>melamine urea formaldehyde adhesive</td>\n",
       "    </tr>\n",
       "    <tr>\n",
       "      <th>39</th>\n",
       "      <td>7b6256cb-08bf-4a0b-886f-fc14039419c1</td>\n",
       "      <td>packaging, for fertilisers</td>\n",
       "    </tr>\n",
       "    <tr>\n",
       "      <th>40</th>\n",
       "      <td>a6ec2991-f0f9-42fe-b71c-995e50838b9b</td>\n",
       "      <td>glass wool mat</td>\n",
       "    </tr>\n",
       "    <tr>\n",
       "      <th>44</th>\n",
       "      <td>a95b9d49-4114-40c6-9929-0c6c79db22d1</td>\n",
       "      <td>nickel concentrate, 16% Ni</td>\n",
       "    </tr>\n",
       "    <tr>\n",
       "      <th>45</th>\n",
       "      <td>8be1b6bc-2fc3-5489-91dc-5861064039c6</td>\n",
       "      <td>nickel concentrate, 7% Ni</td>\n",
       "    </tr>\n",
       "    <tr>\n",
       "      <th>47</th>\n",
       "      <td>5c87ce58-1c14-4af2-8bb2-218b118f2240</td>\n",
       "      <td>beryllium hydroxide</td>\n",
       "    </tr>\n",
       "    <tr>\n",
       "      <th>49</th>\n",
       "      <td>a1a4f552-de0b-43a4-9b78-a587ad989f68</td>\n",
       "      <td>mixed natural gas and biomethane, high pressure</td>\n",
       "    </tr>\n",
       "    <tr>\n",
       "      <th>50</th>\n",
       "      <td>cf539ec8-6301-40d6-8a44-1c84f861fa90</td>\n",
       "      <td>heat, central or small-scale, biomethane</td>\n",
       "    </tr>\n",
       "    <tr>\n",
       "      <th>53</th>\n",
       "      <td>720d079e-242b-4d52-9268-bc9ffa6b5692</td>\n",
       "      <td>transport, freight, light commercial vehicle, ...</td>\n",
       "    </tr>\n",
       "    <tr>\n",
       "      <th>54</th>\n",
       "      <td>173bc101-dadb-4bd8-952b-41b1b6fe2d90</td>\n",
       "      <td>transport, freight, light commercial vehicle, ...</td>\n",
       "    </tr>\n",
       "    <tr>\n",
       "      <th>55</th>\n",
       "      <td>55b795a2-886f-419e-af38-fba1b83fa51b</td>\n",
       "      <td>transport, freight, light commercial vehicle, ...</td>\n",
       "    </tr>\n",
       "    <tr>\n",
       "      <th>56</th>\n",
       "      <td>999d5179-2235-493a-8bd8-d805bb71eee8</td>\n",
       "      <td>transport, freight, lorry 7.5-16 metric ton, E...</td>\n",
       "    </tr>\n",
       "    <tr>\n",
       "      <th>57</th>\n",
       "      <td>a8523835-3905-4e3f-9e2f-ae1d8cad0317</td>\n",
       "      <td>transport, freight, lorry 7.5-16 metric ton, u...</td>\n",
       "    </tr>\n",
       "    <tr>\n",
       "      <th>58</th>\n",
       "      <td>8ddc8009-4733-49e9-8a4e-a1081d05eb8b</td>\n",
       "      <td>transport, freight, lorry &gt;32 metric ton, EURO1</td>\n",
       "    </tr>\n",
       "    <tr>\n",
       "      <th>59</th>\n",
       "      <td>3a40db23-1aed-4b82-8117-32251e039134</td>\n",
       "      <td>transport, freight, lorry &gt;32 metric ton, EURO2</td>\n",
       "    </tr>\n",
       "    <tr>\n",
       "      <th>60</th>\n",
       "      <td>eee5f6b0-7c73-473a-9e27-82d38ae3661b</td>\n",
       "      <td>transport, freight, lorry &gt;32 metric ton, unre...</td>\n",
       "    </tr>\n",
       "  </tbody>\n",
       "</table>\n",
       "</div>"
      ],
      "text/plain": [
       "                               productId  \\\n",
       "0   beb1b4ef-e2ad-40e3-934f-10a2c0006eed   \n",
       "1   1ec16786-a836-54a3-896a-f41ea3a9f9ec   \n",
       "3   1020c079-f3c3-5699-8fc9-72559914756a   \n",
       "4   43df1b02-7f7b-5f66-9cc6-f93a64e4b0c3   \n",
       "5   7495e6d0-60ec-5d30-9686-4dba467f8634   \n",
       "6   770a59c7-501a-56a8-988a-86d8a2d8f309   \n",
       "7   90542231-d3f9-53df-ba02-2adbecf59e9c   \n",
       "8   a392d309-fdfb-58be-93e4-8c0b843f548c   \n",
       "9   e8e6fc47-a074-5f74-ab66-270ebe4e0f25   \n",
       "17  9668470a-28c8-55ed-a2fd-8a6f1aeb3d68   \n",
       "18  e83fddb2-9a6c-43a4-8ad1-43311d7d78b8   \n",
       "20  eadd8b3b-9c5d-5166-a244-4f4e46914133   \n",
       "22  93015ba0-863d-4535-be49-8a1b16b71782   \n",
       "23  610daa06-27af-553b-9382-71de32df4525   \n",
       "25  84925dd9-d7ca-50b6-950e-0bbb739e0109   \n",
       "26  6eabd178-3f87-5399-a0e9-1875d44bfe28   \n",
       "27  ad13bd43-a99d-4d74-b4a0-63958aaca9c2   \n",
       "28  9240ddac-1698-5fec-a4f5-c70cd009c2cf   \n",
       "30  92292ccd-ecbb-5ae6-8141-03114dd9c07c   \n",
       "32  5cee9505-17ca-55f9-9677-6edfbeb5edb4   \n",
       "34  b0ba5ada-4b2a-4a29-b383-bdd78d6bbad6   \n",
       "36  c5aaaecc-4f0f-50c0-85d7-9dd4c29bf269   \n",
       "38  3b1ed771-fa76-4ee0-9e45-813909cd5538   \n",
       "39  7b6256cb-08bf-4a0b-886f-fc14039419c1   \n",
       "40  a6ec2991-f0f9-42fe-b71c-995e50838b9b   \n",
       "44  a95b9d49-4114-40c6-9929-0c6c79db22d1   \n",
       "45  8be1b6bc-2fc3-5489-91dc-5861064039c6   \n",
       "47  5c87ce58-1c14-4af2-8bb2-218b118f2240   \n",
       "49  a1a4f552-de0b-43a4-9b78-a587ad989f68   \n",
       "50  cf539ec8-6301-40d6-8a44-1c84f861fa90   \n",
       "53  720d079e-242b-4d52-9268-bc9ffa6b5692   \n",
       "54  173bc101-dadb-4bd8-952b-41b1b6fe2d90   \n",
       "55  55b795a2-886f-419e-af38-fba1b83fa51b   \n",
       "56  999d5179-2235-493a-8bd8-d805bb71eee8   \n",
       "57  a8523835-3905-4e3f-9e2f-ae1d8cad0317   \n",
       "58  8ddc8009-4733-49e9-8a4e-a1081d05eb8b   \n",
       "59  3a40db23-1aed-4b82-8117-32251e039134   \n",
       "60  eee5f6b0-7c73-473a-9e27-82d38ae3661b   \n",
       "\n",
       "                                          productName  \n",
       "0               rare earth oxide concentrate, 50% REO  \n",
       "1                                     ytterbium oxide  \n",
       "3                                    dysprosium oxide  \n",
       "4                                       holmium oxide  \n",
       "5                                       terbium oxide  \n",
       "6                                      lutetium oxide  \n",
       "7                                    gadolinium oxide  \n",
       "8                                       thulium oxide  \n",
       "9                                        erbium oxide  \n",
       "17                       praseodymium-neodymium oxide  \n",
       "18                               tungsten concentrate  \n",
       "20                                        potash salt  \n",
       "22                                               salt  \n",
       "23                             cross-laminated timber  \n",
       "25                   glued laminated timber, MUF-glue  \n",
       "26                   glued laminated timber, PUR-glue  \n",
       "27             glued laminated timber, for indoor use  \n",
       "28                                 glued solid timber  \n",
       "30                                  structural timber  \n",
       "32                              tubular particleboard  \n",
       "34                            folding boxboard carton  \n",
       "36                                         paper sack  \n",
       "38                melamine urea formaldehyde adhesive  \n",
       "39                         packaging, for fertilisers  \n",
       "40                                     glass wool mat  \n",
       "44                         nickel concentrate, 16% Ni  \n",
       "45                          nickel concentrate, 7% Ni  \n",
       "47                                beryllium hydroxide  \n",
       "49    mixed natural gas and biomethane, high pressure  \n",
       "50           heat, central or small-scale, biomethane  \n",
       "53  transport, freight, light commercial vehicle, ...  \n",
       "54  transport, freight, light commercial vehicle, ...  \n",
       "55  transport, freight, light commercial vehicle, ...  \n",
       "56  transport, freight, lorry 7.5-16 metric ton, E...  \n",
       "57  transport, freight, lorry 7.5-16 metric ton, u...  \n",
       "58    transport, freight, lorry >32 metric ton, EURO1  \n",
       "59    transport, freight, lorry >32 metric ton, EURO2  \n",
       "60  transport, freight, lorry >32 metric ton, unre...  "
      ]
     },
     "execution_count": 21,
     "metadata": {},
     "output_type": "execute_result"
    }
   ],
   "source": [
    "concordances_to_do"
   ]
  },
  {
   "cell_type": "markdown",
   "metadata": {},
   "source": [
    "#### 7. Miscellaneous"
   ]
  },
  {
   "cell_type": "code",
   "execution_count": null,
   "metadata": {},
   "outputs": [],
   "source": []
  }
 ],
 "metadata": {
  "kernelspec": {
   "display_name": "Python 3",
   "language": "python",
   "name": "python3"
  },
  "language_info": {
   "codemirror_mode": {
    "name": "ipython",
    "version": 3
   },
   "file_extension": ".py",
   "mimetype": "text/x-python",
   "name": "python",
   "nbconvert_exporter": "python",
   "pygments_lexer": "ipython3",
   "version": "3.6.10"
  }
 },
 "nbformat": 4,
 "nbformat_minor": 4
}
