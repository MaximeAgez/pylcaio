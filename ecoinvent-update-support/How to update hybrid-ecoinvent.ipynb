{
 "cells": [
  {
   "cell_type": "markdown",
   "metadata": {},
   "source": [
    "Only run the code below if you are looking to produce files for unspported ecoinvent versions."
   ]
  },
  {
   "cell_type": "markdown",
   "metadata": {},
   "source": [
    "The update will take place in 6 steps which are described below."
   ]
  },
  {
   "cell_type": "code",
   "execution_count": 1,
   "metadata": {},
   "outputs": [],
   "source": [
    "import pandas as pd\n",
    "import numpy as np\n",
    "import pymrio\n",
    "import gzip\n",
    "import pickle\n",
    "import re"
   ]
  },
  {
   "cell_type": "markdown",
   "metadata": {},
   "source": [
    "#### 1. ecospold2matrix"
   ]
  },
  {
   "cell_type": "markdown",
   "metadata": {},
   "source": [
    "First step, make sure you have extracted the new version of ecoinvent with ecospold2matrix as pandas dataframes."
   ]
  },
  {
   "cell_type": "markdown",
   "metadata": {},
   "source": [
    "Then load the pickle into the notebook"
   ]
  },
  {
   "cell_type": "code",
   "execution_count": 4,
   "metadata": {},
   "outputs": [],
   "source": [
    "with gzip.open('C://Users/Maxime/Desktop/Thesis/Bdd/Ecoinvent/python/ecoinvent3.8.cutoff/ecoinvent3.8.cut-offPandas_symmNorm.gz.pickle','rb') as f:\n",
    "    ecoinvent = pd.read_pickle(f)"
   ]
  },
  {
   "cell_type": "markdown",
   "metadata": {},
   "source": [
    "#### 2. pymrio"
   ]
  },
  {
   "cell_type": "markdown",
   "metadata": {},
   "source": [
    "Same thing with the new version of exiobase. Extract it with pymrio."
   ]
  },
  {
   "cell_type": "markdown",
   "metadata": {},
   "source": [
    "Load exiobase in the notebook too"
   ]
  },
  {
   "cell_type": "code",
   "execution_count": 5,
   "metadata": {},
   "outputs": [],
   "source": [
    "io = pymrio.parse_exiobase3('C://Users/Maxime/Desktop/Thesis/Bdd/EXIOBASE/monetary/exiobase3.8.1/IOT_2019_pxp/')"
   ]
  },
  {
   "cell_type": "markdown",
   "metadata": {},
   "source": [
    "#### 3. Folder for the new version"
   ]
  },
  {
   "cell_type": "markdown",
   "metadata": {},
   "source": [
    "Create a folder within src/Data/ for the new version, e.g., for ecoinvent3.7.1 and exiobase3.8.1, create a folder eco3.7.1_exio3. No need to specify exio3.8.1 as exiobase does not change format within a same version number (and we are thankful for that!)"
   ]
  },
  {
   "cell_type": "markdown",
   "metadata": {},
   "source": [
    "#### 4. Filter.xlsx"
   ]
  },
  {
   "cell_type": "markdown",
   "metadata": {},
   "source": [
    "Next we create the Filter.xlsx file for the new version."
   ]
  },
  {
   "cell_type": "markdown",
   "metadata": {},
   "source": [
    "##### 4.1 Hybridized processes and others"
   ]
  },
  {
   "cell_type": "markdown",
   "metadata": {},
   "source": [
    "We define the processes to be hybridized and most of the ones not to be hybridized, and the reason why they are not hybridized. The piece of code below takes care of that for you."
   ]
  },
  {
   "cell_type": "code",
   "execution_count": 6,
   "metadata": {},
   "outputs": [],
   "source": [
    "list_to_hyb = []\n",
    "list_not_to_hyb = []\n",
    "dummyprocesses = []\n",
    "null_price = []\n",
    "listmarket = []\n",
    "listnottransacted = []\n",
    "listguillotine = []\n",
    "\n",
    "\n",
    "listproduct = ['sugar beet pulp', 'shavings', 'calcium chloride', 'pulverised lignite', 'heat pump, 30kW',\n",
    "               'planning', 'saw dust', 'limestone, crushed', 'water, ultrapure', 'components for',\n",
    "               'burned in refinery furnace', 'stone meal', 'grass', 'miscanthus', 'compressed',\n",
    "               'evaporation', 'for planting', 'from zinc', 'zinc concentrate',\n",
    "               'completely softened', 'tap water', 'heavy water', 'water, deionised', 'water, decarbonised',\n",
    "               'ground granulated', 'deep well', 'collection service']\n",
    "listactivity = ['basic slag', 'start-up', 'metals recovery', 'venting', 'nutrient supply',\n",
    "                'recultivation', 'extrusion', 'excavation', 'transformation',\n",
    "                'water production','thermoforming', 'blow moulding', 'sorting',\n",
    "                'natural gas pressure reduction from high to low pressure']\n",
    "listaddmarket = ['import', 'to generic market', 'to niche market', 'production mix', 'aluminium industry',\n",
    "                 'cobalt industry','to market','electricity production, high voltage, for Swiss Federal Railways']\n",
    "\n",
    "# calculating the sum of cost, we will compare it to the price and assert it's lower than the price\n",
    "A_ff = ecoinvent['A'].copy()\n",
    "A_ff = A_ff.fillna(0)\n",
    "matrix = pd.concat([ecoinvent['PRO'].price.fillna(0)]*len(ecoinvent['PRO']),axis=1)\n",
    "matrix.columns = ecoinvent['PRO'].index.tolist()\n",
    "A_ff = A_ff.multiply(matrix)\n",
    "\n",
    "for i in range(0, len(ecoinvent['PRO'])):\n",
    "    try:\n",
    "        # first, identify dummy processes, processes that do not have any inputs\n",
    "        if ecoinvent['A'].loc[:,ecoinvent['PRO'].index[i]].sum() == 0:\n",
    "            if ecoinvent['PRO'].index[i] not in list_not_to_hyb:\n",
    "                list_not_to_hyb.append(ecoinvent['PRO'].index[i])\n",
    "                dummyprocesses.append(ecoinvent['PRO'].index[i])\n",
    "        # then those that do not have any price (we obviously cannot hybridize them)\n",
    "        if ecoinvent['PRO'].price[i] == 0:\n",
    "            if ecoinvent['PRO'].index[i] not in list_not_to_hyb:\n",
    "                list_not_to_hyb.append(ecoinvent['PRO'].index[i])\n",
    "                null_price.append(ecoinvent['PRO'].index[i])\n",
    "        # market processes identification\n",
    "        if (ecoinvent['PRO'].activityType[i] == 1\n",
    "                or ecoinvent['PRO'].activityType[i] == 4\n",
    "                or ecoinvent['PRO'].activityType[i] == 10):\n",
    "            if ecoinvent['PRO'].index[i] not in list_not_to_hyb:\n",
    "                list_not_to_hyb.append(ecoinvent['PRO'].index[i])\n",
    "                listmarket.append(ecoinvent['PRO'].index[i])\n",
    "        for j in range(0,len(listaddmarket)):\n",
    "            if listaddmarket[j] in ecoinvent['PRO'].activityName[i]:\n",
    "                if ecoinvent['PRO'].index[i] not in list_not_to_hyb:\n",
    "                    list_not_to_hyb.append(ecoinvent['PRO'].index[i])\n",
    "                    listmarket.append(ecoinvent['PRO'].index[i])\n",
    "                    break\n",
    "        # non transacted goods/services identification\n",
    "        for j in range(0, len(listproduct)):\n",
    "            if listproduct[j] in ecoinvent['PRO'].productName[i]:\n",
    "                if ecoinvent['PRO'].index[i] not in list_not_to_hyb:\n",
    "                    list_not_to_hyb.append(ecoinvent['PRO'].index[i])\n",
    "                    listnottransacted.append(ecoinvent['PRO'].index[i])\n",
    "                    break\n",
    "        for k in range(0, len(listactivity)):\n",
    "            if listactivity[k] in ecoinvent['PRO'].activityName[i]:\n",
    "                if ecoinvent['PRO'].index[i] not in list_not_to_hyb:\n",
    "                    list_not_to_hyb.append(ecoinvent['PRO'].index[i])\n",
    "                    listnottransacted.append(ecoinvent['PRO'].index[i])\n",
    "                    break\n",
    "        # identify intra-sectorial processes\n",
    "        if (len(re.findall(r\"[a-z]*[i][n][g]\\b\", ecoinvent['PRO'].activityName[i], flags=0)) != 0\n",
    "            and 'production' not in ecoinvent['PRO'].activityName[i]\n",
    "            and 'treatment' not in ecoinvent['PRO'].activityName[i]\n",
    "            and 'waste' not in ecoinvent['PRO'].activityName[i]\n",
    "            and 'construction' not in ecoinvent['PRO'].activityName[i]\n",
    "            and 'installation' not in ecoinvent['PRO'].activityName[i]\n",
    "            and 'plant' not in ecoinvent['PRO'].activityName[i]\n",
    "            and 'facility' not in ecoinvent['PRO'].activityName[i]\n",
    "            and ', building' not in ecoinvent['PRO'].activityName[i]\n",
    "            and 'transport' not in ecoinvent['PRO'].activityName[i]\n",
    "            and 'capture' not in ecoinvent['PRO'].activityName[i]\n",
    "            or 'ventilation' in ecoinvent['PRO'].activityName[i]\n",
    "            and 'production' not in ecoinvent['PRO'].activityName[i]\n",
    "            and 'treatment' not in ecoinvent['PRO'].activityName[i]\n",
    "            or 'energy' in ecoinvent['PRO'].activityName[i]\n",
    "            and 'production' not in ecoinvent['PRO'].activityName[i]\n",
    "            or ecoinvent['PRO'].unitName[i] == 'ha'\n",
    "            or (ecoinvent['PRO'].unitName[i] == 'hour'\n",
    "                and 'helicopter' not in ecoinvent['PRO'].productName[i])\n",
    "            or len(re.findall(r'\\b[s][e][e][d]', ecoinvent['PRO'].productName[i])) != 0\n",
    "            or len(re.findall(r\"^[0][1][6]\", ecoinvent['PRO'].ISIC[i])) != 0\n",
    "            or ('operation' in ecoinvent['PRO'].activityName[i]\n",
    "                and ('mine' not in ecoinvent['PRO'].activityName[i]\n",
    "                     and 'petroleum' not in ecoinvent['PRO'].activityName[i]\n",
    "                     and 'quarry' not in ecoinvent['PRO'].activityName[i]\n",
    "                     and 'pit' not in ecoinvent['PRO'].activityName[i]))\n",
    "            or 'maintenance' in ecoinvent['PRO'].productName[i]\n",
    "                and ('bus' not in ecoinvent['PRO'].productName[i]\n",
    "                     and 'vehicle' not in ecoinvent['PRO'].productName[i]\n",
    "                     and 'lorry' not in ecoinvent['PRO'].productName[i]\n",
    "                     and 'passenger car' not in ecoinvent['PRO'].productName[i]\n",
    "                     and 'electric bicycle' not in ecoinvent['PRO'].productName[i]\n",
    "                     and 'scooter' not in ecoinvent['PRO'].productName[i]\n",
    "                     and 'trawler' not in ecoinvent['PRO'].productName[i])):\n",
    "            if ecoinvent['PRO'].index[i] not in list_not_to_hyb:\n",
    "                list_not_to_hyb.append(ecoinvent['PRO'].index[i])\n",
    "                listnottransacted.append(ecoinvent['PRO'].index[i])\n",
    "        # guillotines, quality of process is questionable\n",
    "        if (ecoinvent['PRO'].productName[i] != 'electricity, high voltage'\n",
    "            and ecoinvent['PRO'].productName[i] != 'electricity, medium voltage'\n",
    "            and ecoinvent['PRO'].productName[i] != 'electricity, low voltage'):\n",
    "            if (ecoinvent['PRO'].price[i] > 100000\n",
    "                    or A_ff.iloc[:, i].sum() > ecoinvent['PRO'].price[i]\n",
    "                    or A_ff.iloc[:, i].sum() < 0.01 * ecoinvent['PRO'].price[i]):\n",
    "                if ecoinvent['PRO'].index[i] not in list_not_to_hyb:\n",
    "                    list_not_to_hyb.append(ecoinvent['PRO'].index[i])\n",
    "                    listguillotine.append(ecoinvent['PRO'].index[i])\n",
    "\n",
    "    except TypeError:\n",
    "        if ecoinvent['PRO'].index[i] not in list_not_to_hyb:\n",
    "            print('by default the process: '+ecoinvent['PRO'].index[i]+\n",
    "                  ' was put in listnottransacted, because no sector has been entered.')\n",
    "            list_not_to_hyb.append(ecoinvent['PRO'].index[i])\n",
    "            listnottransacted.append(ecoinvent['PRO'].index[i])\n",
    "\n",
    "for i in range(0, len(ecoinvent['PRO'])):\n",
    "    if ecoinvent['PRO'].index[i] not in list_not_to_hyb:\n",
    "        list_to_hyb.append(ecoinvent['PRO'].index[i])"
   ]
  },
  {
   "cell_type": "markdown",
   "metadata": {},
   "source": [
    "##### 4.2 Potential new geographies"
   ]
  },
  {
   "cell_type": "markdown",
   "metadata": {},
   "source": [
    "We identify the potential new geographies of the new version of ecoinvent. Only hybridized processes are scanned, as the others ones don't matter."
   ]
  },
  {
   "cell_type": "code",
   "execution_count": 8,
   "metadata": {},
   "outputs": [
    {
     "data": {
      "text/plain": [
       "set()"
      ]
     },
     "execution_count": 8,
     "metadata": {},
     "output_type": "execute_result"
    }
   ],
   "source": [
    "dict1 = open('C://Users/Maxime/Desktop/Thesis/Modules_Python/pylcaio/src/Data/eco3.8_exio3/geography_replacements.txt')\n",
    "dict1 = eval(dict1.read())\n",
    "dict2 = open('C://Users/Maxime/Desktop/Thesis/Modules_Python/pylcaio/src/Data/eco3.8_exio3/countries_per_regions.txt')\n",
    "dict2 = eval(dict2.read())\n",
    "list3 = open('C://Users/Maxime/Desktop/Thesis/Modules_Python/pylcaio/src/Data/eco3.8_exio3/countries.txt')\n",
    "list3 = eval(list3.read())\n",
    "\n",
    "covered_geos = list(dict1.keys())+list(dict2.keys())+list3\n",
    "\n",
    "set(ecoinvent['PRO'].loc[[i for i in ecoinvent['PRO'].index if (\n",
    "    ecoinvent['PRO'].loc[i,'geography'] not in covered_geos and i in list_to_hyb)]].geography)-set(['RoW'])"
   ]
  },
  {
   "cell_type": "markdown",
   "metadata": {},
   "source": [
    "If the final set is not empty, those are new geographies that are used by ecoinvent. You then have to include those geographies in the different files used for the hybridization.\n",
    "\n",
    "- If it's a country that is aggregated in the rest-of-the-world regions of exiobase incorporate it in the \"geography_replacements.txt\" file\n",
    "- Similarly, if it's a subregion of an existing country in exiobase, (e.g., CA-QC for Quebec) incorporate it in the \"geography_replacements.txt\" file as well\n",
    "- If it's a new region (e.g., Europe without Austria) translate that new region in terms of the countries of exiobase in the \"countries_per_regions.txt\" file"
   ]
  },
  {
   "cell_type": "markdown",
   "metadata": {},
   "source": [
    "##### 4.3 Uncovered geographies"
   ]
  },
  {
   "cell_type": "markdown",
   "metadata": {},
   "source": [
    "By default, pylcaio does not hybridize processes for which the country is not in exiobase. So basically, countries that are regrouped in the different rest-of-the-world regions of exiobase (i.e., WA, WE, WF, WL, WM) are not hybridized."
   ]
  },
  {
   "cell_type": "code",
   "execution_count": 9,
   "metadata": {},
   "outputs": [],
   "source": [
    "ecoinvent['PRO']['io_geo'] = [dict1[i] if i in dict1 else i for i in ecoinvent['PRO'].geography]\n",
    "uncoveredgeoDF = ecoinvent['PRO'].loc[[i for i in ecoinvent['PRO'].index if (ecoinvent['PRO'].loc[i,'io_geo'] in ['WA','WE','WF','WL','WM']\n",
    "                    and i in list_to_hyb)],['price', 'geography','productName', 'activityName']]\n",
    "# they are not hybridized anymore so remove them from the list\n",
    "for process in uncoveredgeoDF.index:\n",
    "    list_to_hyb.remove(process)"
   ]
  },
  {
   "cell_type": "markdown",
   "metadata": {},
   "source": [
    "##### 4.4 Write the Excel file itself"
   ]
  },
  {
   "cell_type": "markdown",
   "metadata": {},
   "source": [
    "Finally we write the Excel file. The file needs to be placed within the previously created folder for the new hybrid-ecoinvent version. **_Do not change the names of the Excel tabs._**"
   ]
  },
  {
   "cell_type": "code",
   "execution_count": 10,
   "metadata": {},
   "outputs": [],
   "source": [
    "hybridizedDF = ecoinvent['PRO'].loc[list_to_hyb,['price', 'geography','productName', 'activityName']]\n",
    "marketDF = ecoinvent['PRO'].loc[listmarket,['price', 'geography','productName', 'activityName']]\n",
    "nottransactedDF = ecoinvent['PRO'].loc[listnottransacted,['price', 'geography','productName', 'activityName']]\n",
    "guillotineDF = ecoinvent['PRO'].loc[listguillotine,['price', 'geography','productName', 'activityName']]\n",
    "dummyDF = ecoinvent['PRO'].loc[dummyprocesses,['price', 'geography','productName', 'activityName']]\n",
    "nullpriceDF = ecoinvent['PRO'].loc[null_price,['price', 'geography','productName', 'activityName']]\n",
    "\n",
    "writer = pd.ExcelWriter('C://Users/Maxime/Desktop/Thesis/Modules_Python/pylcaio/src/Data/eco3.8_exio3/Filter.xlsx', engine='xlsxwriter')\n",
    "hybridizedDF.to_excel(writer, sheet_name='Hybridized')\n",
    "marketDF.to_excel(writer, sheet_name='Market')\n",
    "nottransactedDF.to_excel(writer, sheet_name='Not commercialized')\n",
    "guillotineDF.to_excel(writer, sheet_name='Poor quality')\n",
    "dummyDF.to_excel(writer, sheet_name='Empty processes')\n",
    "nullpriceDF.to_excel(writer, sheet_name='No price')\n",
    "uncoveredgeoDF.to_excel(writer, sheet_name='Uncovered geography')\n",
    "writer.save()"
   ]
  },
  {
   "cell_type": "markdown",
   "metadata": {},
   "source": [
    "#### 5. Concordances"
   ]
  },
  {
   "cell_type": "markdown",
   "metadata": {},
   "source": [
    "Here we generate the Product_concordances.xlsx file necessary to match ecoinvent processes to exiobase sectors."
   ]
  },
  {
   "cell_type": "markdown",
   "metadata": {},
   "source": [
    "##### 5.1 Update existing file"
   ]
  },
  {
   "cell_type": "markdown",
   "metadata": {},
   "source": [
    "We first update the metadata of the Product_concordances.xlsx file of the current version (i.e., not the new one)"
   ]
  },
  {
   "cell_type": "markdown",
   "metadata": {},
   "source": [
    "To do this we need to fetch a file called \"change_report_annex\" which is available on ecoinvent's website."
   ]
  },
  {
   "cell_type": "code",
   "execution_count": 11,
   "metadata": {},
   "outputs": [],
   "source": [
    "current_version = 3.7.1\n",
    "new_version = 3.8\n",
    "change_report = pd.read_excel('C://Users/Maxime/Desktop/Change Report Annex v3.7.1 - v3.8.xlsx','Qualitative Changes')"
   ]
  },
  {
   "cell_type": "markdown",
   "metadata": {},
   "source": [
    "Also need to load the previous Product_concordances.xlsx file"
   ]
  },
  {
   "cell_type": "code",
   "execution_count": 15,
   "metadata": {},
   "outputs": [],
   "source": [
    "codes = pd.read_excel('C://Users/Maxime/Desktop/Thesis/Modules_Python/pylcaio/src/Data/eco'+current_version+'_exio3/Product_Concordances.xlsx','Description_Exiobase')\n",
    "prod_concordance = pd.read_excel('C://Users/Maxime/Desktop/Thesis/Modules_Python/pylcaio/src/Data/eco'+current_version+'_exio3/Product_Concordances.xlsx','Concordance per product')\n",
    "act_concordance = pd.read_excel('C://Users/Maxime/Desktop/Thesis/Modules_Python/pylcaio/src/Data/eco'+current_version+'_exio3/Product_Concordances.xlsx','Concordance per activity')"
   ]
  },
  {
   "cell_type": "markdown",
   "metadata": {},
   "source": [
    "We then update the metadata for the concordance per product tab"
   ]
  },
  {
   "cell_type": "code",
   "execution_count": 26,
   "metadata": {},
   "outputs": [],
   "source": [
    "# selecting processes for which the reference product changed\n",
    "try:\n",
    "    # we just identify what the typology used is. Either booleans are in strings or as actual booleans\n",
    "    if \"FALSE\" in change_report.loc[:,'Reference Product different'].tolist():\n",
    "        changed_names = change_report.loc[[i for i in change_report.index if change_report.loc[i,'Reference Product different']=='TRUE']]\n",
    "    elif False in change_report.loc[:,'Reference Product different'].tolist():\n",
    "        changed_names = change_report.loc[[i for i in change_report.index if change_report.loc[i,'Reference Product different']==True]]\n",
    "except KeyError:\n",
    "    print('Column used got renamed.')\n",
    "    \n",
    "# extracting the changed data as a dictionary\n",
    "try:\n",
    "    names_dict = dict(zip(changed_names.loc[:,'Reference Product - '+current_version],changed_names.loc[:,'Reference Product - '+new_version]))\n",
    "except KeyError:\n",
    "    print('Column used got renamed.')\n",
    "\n",
    "# make the changes inside the file\n",
    "prod_concordance.loc[:,'productName'] = [names_dict[i] if i in names_dict else i for i in prod_concordance.productName]\n",
    "\n",
    "# get the product ids from ecoinvent\n",
    "updated_prod_concordance = prod_concordance.loc[:,['productName','Concordance']].merge(ecoinvent['PRO'].loc[:,['productId','productName']], how='left').drop_duplicates()\n",
    "\n",
    "#reordering\n",
    "updated_prod_concordance = updated_prod_concordance.reindex(['productId','productName','Concordance'],axis=1)"
   ]
  },
  {
   "cell_type": "markdown",
   "metadata": {},
   "source": [
    "and for the concordance per activity tab"
   ]
  },
  {
   "cell_type": "code",
   "execution_count": 28,
   "metadata": {},
   "outputs": [],
   "source": [
    "# selecting processes for which the reference product changed\n",
    "try:\n",
    "    if \"FALSE\" in change_report.loc[:,'Activity Name different'].tolist():\n",
    "        changed_names = change_report.loc[[i for i in change_report.index if change_report.loc[i,'Activity Name different']=='TRUE']]\n",
    "    elif False in change_report.loc[:,'Activity Name different'].tolist():\n",
    "        changed_names = change_report.loc[[i for i in change_report.index if change_report.loc[i,'Activity Name different']==True]]\n",
    "except KeyError:\n",
    "    print('Column used got renamed.')\n",
    "\n",
    "# extracting the changed data as a dictionary\n",
    "try:\n",
    "    names_dict = dict(zip(changed_names.loc[:,'Activity Name - '+current_version],changed_names.loc[:,'Activity Name - '+new_version]))\n",
    "except KeyError:\n",
    "    print('Column used got renamed.')\n",
    "\n",
    "# make the changes inside the file\n",
    "act_concordance.loc[:,'activityName'] = [names_dict[i] if i in names_dict else i for i in act_concordance.activityName]\n",
    "\n",
    "# get the product ids from ecoinvent\n",
    "updated_act_concordance = act_concordance.loc[:,['activityName','Concordance']].merge(ecoinvent['PRO'].loc[:,['activityNameId','activityName']], how='left').drop_duplicates()\n",
    "\n",
    "#reordering\n",
    "updated_act_concordance = updated_act_concordance.reindex(['activityNameId','activityName','Concordance'],axis=1)"
   ]
  },
  {
   "cell_type": "markdown",
   "metadata": {},
   "source": [
    "Finally we rewrite the file with the updated metadata."
   ]
  },
  {
   "cell_type": "code",
   "execution_count": 34,
   "metadata": {},
   "outputs": [],
   "source": [
    "writer = pd.ExcelWriter('C://Users/Maxime/Desktop/Thesis/Modules_Python/pylcaio/src/Data/eco'+new_version+'_exio3/Product_concordances.xlsx', \n",
    "                        engine='xlsxwriter')\n",
    "\n",
    "codes.to_excel(writer, sheet_name='Description_Exiobase', index=False)\n",
    "updated_prod_concordance.to_excel(writer, sheet_name='Concordance per product', index=False)\n",
    "updated_act_concordance.to_excel(writer, sheet_name='Concordance per activity', index=False)\n",
    "writer.save()"
   ]
  },
  {
   "cell_type": "markdown",
   "metadata": {},
   "source": [
    "##### 5.2 New processes"
   ]
  },
  {
   "cell_type": "markdown",
   "metadata": {},
   "source": [
    "The matching for new processes has to be performed manually. Nevertheless, here is some code that ease the process by identifying what are the new processes for which a matching is needed."
   ]
  },
  {
   "cell_type": "code",
   "execution_count": 35,
   "metadata": {},
   "outputs": [],
   "source": [
    "# load the filter we created previously\n",
    "filterhyb = pd.read_excel('C://Users/Maxime/Desktop/Thesis/Modules_Python/pylcaio/src/Data/eco'+new_version+'_exio3/Filter.xlsx')\n",
    "\n",
    "# identify the new processes\n",
    "new_processes = filterhyb.loc[[i for i in filterhyb.index if (filterhyb.loc[i,'productName'] not in updated_prod_concordance.productName.tolist() and\n",
    "                               filterhyb.loc[i,'activityName'] not in updated_act_concordance.activityName.tolist())]]\n",
    "\n",
    "# isolate the concordances that need to be dealt with manually\n",
    "concordances_to_do = ecoinvent['PRO'].loc[new_processes.loc[:,'index'], ['productId','productName']].reset_index().drop(['index'],axis=1)\n",
    "concordances_to_do = concordances_to_do.drop_duplicates()"
   ]
  },
  {
   "cell_type": "markdown",
   "metadata": {},
   "source": [
    "Now you can copy and paste them to the updated Product_concordancex.xlsx file and match them manually based on the productName and on the exiobase code (see Description_Exiobase for the codes). Here is a link that can help for the matching: https://ec.europa.eu/eurostat/ramon/nomenclatures/index.cfm?TargetUrl=LST_NOM_DTL_LINEAR&StrNom=NACE_1_1&StrLanguageCode=EN"
   ]
  },
  {
   "cell_type": "code",
   "execution_count": 36,
   "metadata": {
    "scrolled": true
   },
   "outputs": [
    {
     "data": {
      "text/html": [
       "<div>\n",
       "<style scoped>\n",
       "    .dataframe tbody tr th:only-of-type {\n",
       "        vertical-align: middle;\n",
       "    }\n",
       "\n",
       "    .dataframe tbody tr th {\n",
       "        vertical-align: top;\n",
       "    }\n",
       "\n",
       "    .dataframe thead th {\n",
       "        text-align: right;\n",
       "    }\n",
       "</style>\n",
       "<table border=\"1\" class=\"dataframe\">\n",
       "  <thead>\n",
       "    <tr style=\"text-align: right;\">\n",
       "      <th></th>\n",
       "      <th>productId</th>\n",
       "      <th>productName</th>\n",
       "    </tr>\n",
       "  </thead>\n",
       "  <tbody>\n",
       "    <tr>\n",
       "      <th>0</th>\n",
       "      <td>4783e92c-7b3b-5227-8270-18e215988fcc</td>\n",
       "      <td>lentil</td>\n",
       "    </tr>\n",
       "    <tr>\n",
       "      <th>3</th>\n",
       "      <td>51981001-f60a-4dce-ae66-c0aeef64015e</td>\n",
       "      <td>bamboo culm</td>\n",
       "    </tr>\n",
       "    <tr>\n",
       "      <th>6</th>\n",
       "      <td>8a107433-7284-4997-9d3b-17a04e0eb00e</td>\n",
       "      <td>isobutane</td>\n",
       "    </tr>\n",
       "    <tr>\n",
       "      <th>8</th>\n",
       "      <td>539dc0e7-1de1-401c-8a32-b92b00e63abd</td>\n",
       "      <td>pyrochlore concentrate</td>\n",
       "    </tr>\n",
       "    <tr>\n",
       "      <th>10</th>\n",
       "      <td>c108213f-ae8f-4b3d-9b79-be6eac0bad62</td>\n",
       "      <td>tantalum concentrate, 30% Ta2O5</td>\n",
       "    </tr>\n",
       "    <tr>\n",
       "      <th>11</th>\n",
       "      <td>50c6fdc4-c997-4a54-91fa-dd343bcfc2c9</td>\n",
       "      <td>titania slag, 94% titanium dioxide</td>\n",
       "    </tr>\n",
       "    <tr>\n",
       "      <th>12</th>\n",
       "      <td>518565e9-8537-42b5-869b-2df9bcfbb849</td>\n",
       "      <td>laterite, mineral</td>\n",
       "    </tr>\n",
       "    <tr>\n",
       "      <th>14</th>\n",
       "      <td>f31957b8-d8b1-4a37-8044-5c15c3440857</td>\n",
       "      <td>bamboo pole</td>\n",
       "    </tr>\n",
       "    <tr>\n",
       "      <th>17</th>\n",
       "      <td>96525009-1ff7-4f3c-aeb9-44ffd9a063ed</td>\n",
       "      <td>woven bamboo mat</td>\n",
       "    </tr>\n",
       "    <tr>\n",
       "      <th>20</th>\n",
       "      <td>89e28693-8517-48b2-b6bd-e5dbda067dfc</td>\n",
       "      <td>NCA oxide</td>\n",
       "    </tr>\n",
       "    <tr>\n",
       "      <th>22</th>\n",
       "      <td>fa61e123-954d-4c67-a47a-215cc17a7f00</td>\n",
       "      <td>NMC111 oxide</td>\n",
       "    </tr>\n",
       "    <tr>\n",
       "      <th>24</th>\n",
       "      <td>16492d65-da65-41ea-9c2f-acf7f938b5ab</td>\n",
       "      <td>NMC811 oxide</td>\n",
       "    </tr>\n",
       "    <tr>\n",
       "      <th>26</th>\n",
       "      <td>08182e61-7e1a-4e55-8aad-aaf8de6fa678</td>\n",
       "      <td>cobalt sulfate</td>\n",
       "    </tr>\n",
       "    <tr>\n",
       "      <th>28</th>\n",
       "      <td>2ba90adb-d6f3-48da-a9e3-e67fa98fccab</td>\n",
       "      <td>disodium disulphite</td>\n",
       "    </tr>\n",
       "    <tr>\n",
       "      <th>29</th>\n",
       "      <td>5839ffb0-438f-4a27-b082-06b0240cf020</td>\n",
       "      <td>oxalic acid</td>\n",
       "    </tr>\n",
       "    <tr>\n",
       "      <th>30</th>\n",
       "      <td>bbd262fd-3c4a-474a-afbb-f77c84c67c10</td>\n",
       "      <td>vinyl carbonate</td>\n",
       "    </tr>\n",
       "    <tr>\n",
       "      <th>31</th>\n",
       "      <td>2078f291-646e-48ee-b5d3-a5f6d69a8655</td>\n",
       "      <td>chlorine, for reuse in titanium tetrachloride ...</td>\n",
       "    </tr>\n",
       "    <tr>\n",
       "      <th>32</th>\n",
       "      <td>bef7d0b3-c9d9-46db-a67d-2c9e550f2c12</td>\n",
       "      <td>magnesium, for reuse in titanium sponge produc...</td>\n",
       "    </tr>\n",
       "    <tr>\n",
       "      <th>37</th>\n",
       "      <td>1ad880ad-6bec-4205-93dd-583f2a3cf40b</td>\n",
       "      <td>beryllium</td>\n",
       "    </tr>\n",
       "    <tr>\n",
       "      <th>39</th>\n",
       "      <td>fb0d9104-ba62-5c7b-8f4f-a0201435dfa7</td>\n",
       "      <td>electronic component, passive, mobile, earpiec...</td>\n",
       "    </tr>\n",
       "    <tr>\n",
       "      <th>40</th>\n",
       "      <td>194d960e-34dc-532f-9a04-2197659f24ca</td>\n",
       "      <td>liquid crystal display, unmounted, mobile device</td>\n",
       "    </tr>\n",
       "    <tr>\n",
       "      <th>41</th>\n",
       "      <td>68375c1a-7bdd-5a24-aec8-f68ac9ab874e</td>\n",
       "      <td>consumer electronics, mobile device, smartphone</td>\n",
       "    </tr>\n",
       "    <tr>\n",
       "      <th>42</th>\n",
       "      <td>eabc0ef6-672d-55a4-a2fa-ea3f6956b31c</td>\n",
       "      <td>consumer electronics, mobile device, tablet</td>\n",
       "    </tr>\n",
       "    <tr>\n",
       "      <th>43</th>\n",
       "      <td>3094db58-4ba5-5a4a-a549-56533c6e5985</td>\n",
       "      <td>power adapter, for smartphone</td>\n",
       "    </tr>\n",
       "    <tr>\n",
       "      <th>44</th>\n",
       "      <td>12968f44-c081-4982-94da-d447bb56150b</td>\n",
       "      <td>anode, graphite, for Li-ion battery</td>\n",
       "    </tr>\n",
       "    <tr>\n",
       "      <th>46</th>\n",
       "      <td>7310faf6-857d-4013-8fa4-043200a2c0e7</td>\n",
       "      <td>anode, silicon coated graphite, for Li-ion bat...</td>\n",
       "    </tr>\n",
       "    <tr>\n",
       "      <th>48</th>\n",
       "      <td>d661a7da-bd43-43e9-8311-da1ff4505cf6</td>\n",
       "      <td>battery cell, Li-ion, NCA</td>\n",
       "    </tr>\n",
       "    <tr>\n",
       "      <th>50</th>\n",
       "      <td>d572da99-e3a9-4868-a480-c5480f352842</td>\n",
       "      <td>battery cell, Li-ion, NMC111</td>\n",
       "    </tr>\n",
       "    <tr>\n",
       "      <th>52</th>\n",
       "      <td>758f9b3a-cfaa-40e8-918c-9fb0a2e9e879</td>\n",
       "      <td>battery cell, Li-ion, NMC811</td>\n",
       "    </tr>\n",
       "    <tr>\n",
       "      <th>54</th>\n",
       "      <td>7c08195b-a164-424c-b305-7cf357389b67</td>\n",
       "      <td>battery module packaging, Li-ion</td>\n",
       "    </tr>\n",
       "    <tr>\n",
       "      <th>56</th>\n",
       "      <td>779a79ee-7466-4a8b-8440-db906edf68e7</td>\n",
       "      <td>battery, Li-ion, NMC111, rechargeable, prismatic</td>\n",
       "    </tr>\n",
       "    <tr>\n",
       "      <th>58</th>\n",
       "      <td>2fa1e1c0-3d02-46b6-9baf-e04422951dc8</td>\n",
       "      <td>battery, Li-ion, NCA, rechargeable, prismatic</td>\n",
       "    </tr>\n",
       "    <tr>\n",
       "      <th>60</th>\n",
       "      <td>c549d0cd-57fe-43a7-911e-34b8017d67c5</td>\n",
       "      <td>battery, Li-ion, NMC811, rechargeable, prismatic</td>\n",
       "    </tr>\n",
       "    <tr>\n",
       "      <th>62</th>\n",
       "      <td>7fbe7184-9e9e-4a21-bd42-fa630266af1d</td>\n",
       "      <td>battery, lead acid, rechargeable, stationary</td>\n",
       "    </tr>\n",
       "    <tr>\n",
       "      <th>64</th>\n",
       "      <td>e2d6dd95-4200-4497-901a-eaf6eaff4276</td>\n",
       "      <td>cathode, NCA, for Li-ion battery</td>\n",
       "    </tr>\n",
       "    <tr>\n",
       "      <th>66</th>\n",
       "      <td>8b1ca0c8-3ccc-4d53-a0ec-d3438cb6cd59</td>\n",
       "      <td>cathode, NMC811, for Li-ion battery</td>\n",
       "    </tr>\n",
       "    <tr>\n",
       "      <th>68</th>\n",
       "      <td>d7eb78bc-ed18-4080-95de-728ae6d73a73</td>\n",
       "      <td>high voltage system, for Li-ion battery</td>\n",
       "    </tr>\n",
       "    <tr>\n",
       "      <th>69</th>\n",
       "      <td>0cd164f3-86b7-46e5-aab9-5192d7be6303</td>\n",
       "      <td>low voltage system, for Li-ion battery</td>\n",
       "    </tr>\n",
       "    <tr>\n",
       "      <th>70</th>\n",
       "      <td>d47b1a19-22dc-4950-bf7d-e499205bb957</td>\n",
       "      <td>copper collector foil, for Li-ion battery</td>\n",
       "    </tr>\n",
       "  </tbody>\n",
       "</table>\n",
       "</div>"
      ],
      "text/plain": [
       "                               productId  \\\n",
       "0   4783e92c-7b3b-5227-8270-18e215988fcc   \n",
       "3   51981001-f60a-4dce-ae66-c0aeef64015e   \n",
       "6   8a107433-7284-4997-9d3b-17a04e0eb00e   \n",
       "8   539dc0e7-1de1-401c-8a32-b92b00e63abd   \n",
       "10  c108213f-ae8f-4b3d-9b79-be6eac0bad62   \n",
       "11  50c6fdc4-c997-4a54-91fa-dd343bcfc2c9   \n",
       "12  518565e9-8537-42b5-869b-2df9bcfbb849   \n",
       "14  f31957b8-d8b1-4a37-8044-5c15c3440857   \n",
       "17  96525009-1ff7-4f3c-aeb9-44ffd9a063ed   \n",
       "20  89e28693-8517-48b2-b6bd-e5dbda067dfc   \n",
       "22  fa61e123-954d-4c67-a47a-215cc17a7f00   \n",
       "24  16492d65-da65-41ea-9c2f-acf7f938b5ab   \n",
       "26  08182e61-7e1a-4e55-8aad-aaf8de6fa678   \n",
       "28  2ba90adb-d6f3-48da-a9e3-e67fa98fccab   \n",
       "29  5839ffb0-438f-4a27-b082-06b0240cf020   \n",
       "30  bbd262fd-3c4a-474a-afbb-f77c84c67c10   \n",
       "31  2078f291-646e-48ee-b5d3-a5f6d69a8655   \n",
       "32  bef7d0b3-c9d9-46db-a67d-2c9e550f2c12   \n",
       "37  1ad880ad-6bec-4205-93dd-583f2a3cf40b   \n",
       "39  fb0d9104-ba62-5c7b-8f4f-a0201435dfa7   \n",
       "40  194d960e-34dc-532f-9a04-2197659f24ca   \n",
       "41  68375c1a-7bdd-5a24-aec8-f68ac9ab874e   \n",
       "42  eabc0ef6-672d-55a4-a2fa-ea3f6956b31c   \n",
       "43  3094db58-4ba5-5a4a-a549-56533c6e5985   \n",
       "44  12968f44-c081-4982-94da-d447bb56150b   \n",
       "46  7310faf6-857d-4013-8fa4-043200a2c0e7   \n",
       "48  d661a7da-bd43-43e9-8311-da1ff4505cf6   \n",
       "50  d572da99-e3a9-4868-a480-c5480f352842   \n",
       "52  758f9b3a-cfaa-40e8-918c-9fb0a2e9e879   \n",
       "54  7c08195b-a164-424c-b305-7cf357389b67   \n",
       "56  779a79ee-7466-4a8b-8440-db906edf68e7   \n",
       "58  2fa1e1c0-3d02-46b6-9baf-e04422951dc8   \n",
       "60  c549d0cd-57fe-43a7-911e-34b8017d67c5   \n",
       "62  7fbe7184-9e9e-4a21-bd42-fa630266af1d   \n",
       "64  e2d6dd95-4200-4497-901a-eaf6eaff4276   \n",
       "66  8b1ca0c8-3ccc-4d53-a0ec-d3438cb6cd59   \n",
       "68  d7eb78bc-ed18-4080-95de-728ae6d73a73   \n",
       "69  0cd164f3-86b7-46e5-aab9-5192d7be6303   \n",
       "70  d47b1a19-22dc-4950-bf7d-e499205bb957   \n",
       "\n",
       "                                          productName  \n",
       "0                                              lentil  \n",
       "3                                         bamboo culm  \n",
       "6                                           isobutane  \n",
       "8                              pyrochlore concentrate  \n",
       "10                    tantalum concentrate, 30% Ta2O5  \n",
       "11                 titania slag, 94% titanium dioxide  \n",
       "12                                  laterite, mineral  \n",
       "14                                        bamboo pole  \n",
       "17                                   woven bamboo mat  \n",
       "20                                          NCA oxide  \n",
       "22                                       NMC111 oxide  \n",
       "24                                       NMC811 oxide  \n",
       "26                                     cobalt sulfate  \n",
       "28                                disodium disulphite  \n",
       "29                                        oxalic acid  \n",
       "30                                    vinyl carbonate  \n",
       "31  chlorine, for reuse in titanium tetrachloride ...  \n",
       "32  magnesium, for reuse in titanium sponge produc...  \n",
       "37                                          beryllium  \n",
       "39  electronic component, passive, mobile, earpiec...  \n",
       "40   liquid crystal display, unmounted, mobile device  \n",
       "41    consumer electronics, mobile device, smartphone  \n",
       "42        consumer electronics, mobile device, tablet  \n",
       "43                      power adapter, for smartphone  \n",
       "44                anode, graphite, for Li-ion battery  \n",
       "46  anode, silicon coated graphite, for Li-ion bat...  \n",
       "48                          battery cell, Li-ion, NCA  \n",
       "50                       battery cell, Li-ion, NMC111  \n",
       "52                       battery cell, Li-ion, NMC811  \n",
       "54                   battery module packaging, Li-ion  \n",
       "56   battery, Li-ion, NMC111, rechargeable, prismatic  \n",
       "58      battery, Li-ion, NCA, rechargeable, prismatic  \n",
       "60   battery, Li-ion, NMC811, rechargeable, prismatic  \n",
       "62       battery, lead acid, rechargeable, stationary  \n",
       "64                   cathode, NCA, for Li-ion battery  \n",
       "66                cathode, NMC811, for Li-ion battery  \n",
       "68            high voltage system, for Li-ion battery  \n",
       "69             low voltage system, for Li-ion battery  \n",
       "70          copper collector foil, for Li-ion battery  "
      ]
     },
     "execution_count": 36,
     "metadata": {},
     "output_type": "execute_result"
    }
   ],
   "source": [
    "concordances_to_do"
   ]
  },
  {
   "cell_type": "code",
   "execution_count": null,
   "metadata": {},
   "outputs": [],
   "source": []
  }
 ],
 "metadata": {
  "kernelspec": {
   "display_name": "Python 3",
   "language": "python",
   "name": "python3"
  },
  "language_info": {
   "codemirror_mode": {
    "name": "ipython",
    "version": 3
   },
   "file_extension": ".py",
   "mimetype": "text/x-python",
   "name": "python",
   "nbconvert_exporter": "python",
   "pygments_lexer": "ipython3",
   "version": "3.6.10"
  }
 },
 "nbformat": 4,
 "nbformat_minor": 4
}
