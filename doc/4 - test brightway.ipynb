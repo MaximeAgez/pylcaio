{
 "cells": [
  {
   "cell_type": "code",
   "execution_count": 1,
   "metadata": {
    "collapsed": true
   },
   "outputs": [],
   "source": [
    "import os\n",
    "os.environ['BRIGHTWAY2_DIR'] = os.path.join(os.getcwd(), 'data/brightway')"
   ]
  },
  {
   "cell_type": "code",
   "execution_count": 2,
   "outputs": [
    {
     "name": "stdout",
     "output_type": "stream",
     "text": [
      "Using environment variable BRIGHTWAY2_DIR for data directory:\n",
      "/home/lele/git/pylcaio_raw_raw/doc/data/brightway\n"
     ]
    }
   ],
   "source": [
    "from brightway2 import *"
   ],
   "metadata": {
    "collapsed": false
   }
  },
  {
   "cell_type": "code",
   "execution_count": 3,
   "outputs": [
    {
     "data": {
      "text/plain": "Brightway2 projects manager with 2 objects:\n\tdefault\n\texio3_eco38_project\nUse `projects.report()` to get a report on all projects."
     },
     "execution_count": 3,
     "metadata": {},
     "output_type": "execute_result"
    }
   ],
   "source": [
    "projects"
   ],
   "metadata": {
    "collapsed": false
   }
  },
  {
   "cell_type": "code",
   "execution_count": 4,
   "outputs": [],
   "source": [
    "projects.set_current('exio3_eco38_project')"
   ],
   "metadata": {
    "collapsed": false
   }
  },
  {
   "cell_type": "code",
   "execution_count": 5,
   "outputs": [
    {
     "data": {
      "text/plain": "Databases dictionary with 2 object(s):\n\tbiosphere3\n\texio3_eco38_database"
     },
     "execution_count": 5,
     "metadata": {},
     "output_type": "execute_result"
    }
   ],
   "source": [
    "databases"
   ],
   "metadata": {
    "collapsed": false
   }
  },
  {
   "cell_type": "code",
   "execution_count": 6,
   "outputs": [],
   "source": [
    "exio_eco = Database(\"exio3_eco38_database\")\n",
    "#exio = Database(\"exiobase\")"
   ],
   "metadata": {
    "collapsed": false
   }
  },
  {
   "cell_type": "code",
   "execution_count": 9,
   "outputs": [
    {
     "data": {
      "text/plain": "['land use change, paddy rice' (hectare, CN, None),\n 'market for land use change, paddy rice' (hectare, CN, None),\n 'market for land use change, paddy rice' (hectare, IN, None),\n 'land use change, paddy rice' (hectare, IN, None)]"
     },
     "execution_count": 9,
     "metadata": {},
     "output_type": "execute_result"
    }
   ],
   "source": [
    "[a for a in exio_eco if 'paddy rice' in a.get('name').lower()]"
   ],
   "metadata": {
    "collapsed": false
   }
  },
  {
   "cell_type": "code",
   "execution_count": 8,
   "outputs": [
    {
     "ename": "NameError",
     "evalue": "name 'exio' is not defined",
     "output_type": "error",
     "traceback": [
      "\u001B[0;31m---------------------------------------------------------------------------\u001B[0m",
      "\u001B[0;31mNameError\u001B[0m                                 Traceback (most recent call last)",
      "Cell \u001B[0;32mIn[8], line 1\u001B[0m\n\u001B[0;32m----> 1\u001B[0m [a \u001B[38;5;28;01mfor\u001B[39;00m a \u001B[38;5;129;01min\u001B[39;00m \u001B[43mexio\u001B[49m \u001B[38;5;28;01mif\u001B[39;00m \u001B[38;5;124m'\u001B[39m\u001B[38;5;124mceramic goods\u001B[39m\u001B[38;5;124m'\u001B[39m \u001B[38;5;129;01min\u001B[39;00m a\u001B[38;5;241m.\u001B[39mget(\u001B[38;5;124m'\u001B[39m\u001B[38;5;124mname\u001B[39m\u001B[38;5;124m'\u001B[39m)\u001B[38;5;241m.\u001B[39mlower()]\n",
      "\u001B[0;31mNameError\u001B[0m: name 'exio' is not defined"
     ]
    }
   ],
   "source": [
    "#[a for a in exio if 'ceramic goods' in a.get('name').lower()]"
   ],
   "metadata": {
    "collapsed": false
   }
  },
  {
   "cell_type": "code",
   "execution_count": 20,
   "outputs": [],
   "source": [
    "act = [a for a in exio if 'ceramic goods' in a.get('name').lower()][0]"
   ],
   "metadata": {
    "collapsed": false
   }
  },
  {
   "cell_type": "code",
   "execution_count": 24,
   "outputs": [
    {
     "name": "stdout",
     "output_type": "stream",
     "text": [
      "Exchange: 0.6961982210130148 PDF.m2.yr 'Unit impact for ('IMPACTWorld+ (Default_Recommended_Damage 1.46)', 'Climate change, ecosystem quality, long term')' (PDF.m2.yr, GLO, ('undefined',)) to 'Ceramic goods' (euro, WM, None)>\n",
      "Exchange: 0.23558484860048015 PDF.m2.yr 'Unit impact for ('IMPACTWorld+ (Default_Recommended_Damage 1.46)', 'Climate change, ecosystem quality, short term')' (PDF.m2.yr, GLO, ('undefined',)) to 'Ceramic goods' (euro, WM, None)>\n",
      "Exchange: 3.1682260221714697e-06 DALY 'Unit impact for ('IMPACTWorld+ (Default_Recommended_Damage 1.46)', 'Climate change, human health, long term')' (DALY, GLO, ('undefined',)) to 'Ceramic goods' (euro, WM, None)>\n",
      "Exchange: 1.0888542664227427e-06 DALY 'Unit impact for ('IMPACTWorld+ (Default_Recommended_Damage 1.46)', 'Climate change, human health, short term')' (DALY, GLO, ('undefined',)) to 'Ceramic goods' (euro, WM, None)>\n",
      "Exchange: 1.1940519279810837 kg CO2 eq (long) 'Unit impact for ('IMPACTWorld+ (Default_Recommended_Midpoint 1.28)', 'Climate change, long term')' (kg CO2 eq (long), GLO, ('undefined',)) to 'Ceramic goods' (euro, WM, None)>\n",
      "Exchange: 1.331503325744761 kg CO2 eq (short) 'Unit impact for ('IMPACTWorld+ (Default_Recommended_Midpoint 1.28)', 'Climate change, short term')' (kg CO2 eq (short), GLO, ('undefined',)) to 'Ceramic goods' (euro, WM, None)>\n",
      "Exchange: 0.014642361694323654 PDF.m2.yr 'Unit impact for ('IMPACTWorld+ (Default_Recommended_Damage 1.46)', 'Freshwater acidification')' (PDF.m2.yr, GLO, ('undefined',)) to 'Ceramic goods' (euro, WM, None)>\n",
      "Exchange: 1.7566612466833295e-08 kg SO2 eq 'Unit impact for ('IMPACTWorld+ (Default_Recommended_Midpoint 1.28)', 'Freshwater acidification')' (kg SO2 eq, GLO, ('undefined',)) to 'Ceramic goods' (euro, WM, None)>\n",
      "Exchange: 10.167224633762437 CTUe 'Unit impact for ('IMPACTWorld+ (Default_Recommended_Midpoint 1.28)', 'Freshwater ecotoxicity')' (CTUe, GLO, ('undefined',)) to 'Ceramic goods' (euro, WM, None)>\n",
      "Exchange: 0.004675225048079447 PDF.m2.yr 'Unit impact for ('IMPACTWorld+ (Default_Recommended_Damage 1.46)', 'Freshwater ecotoxicity, long term')' (PDF.m2.yr, GLO, ('undefined',)) to 'Ceramic goods' (euro, WM, None)>\n",
      "Exchange: 0.0008959014610612202 PDF.m2.yr 'Unit impact for ('IMPACTWorld+ (Default_Recommended_Damage 1.46)', 'Freshwater ecotoxicity, short term')' (PDF.m2.yr, GLO, ('undefined',)) to 'Ceramic goods' (euro, WM, None)>\n",
      "Exchange: 9.848149870114916e-05 PDF.m2.yr 'Unit impact for ('IMPACTWorld+ (Default_Recommended_Damage 1.46)', 'Freshwater eutrophication')' (PDF.m2.yr, GLO, ('undefined',)) to 'Ceramic goods' (euro, WM, None)>\n",
      "Exchange: 8.638727956241323e-06 kg PO4 P-lim eq 'Unit impact for ('IMPACTWorld+ (Default_Recommended_Midpoint 1.28)', 'Freshwater eutrophication')' (kg PO4 P-lim eq, GLO, ('undefined',)) to 'Ceramic goods' (euro, WM, None)>\n",
      "Exchange: 8.698742181295446e-09 CTUh 'Unit impact for ('IMPACTWorld+ (Default_Recommended_Midpoint 1.28)', 'Human toxicity cancer')' (CTUh, GLO, ('undefined',)) to 'Ceramic goods' (euro, WM, None)>\n",
      "Exchange: 4.919833244181594e-08 DALY 'Unit impact for ('IMPACTWorld+ (Default_Recommended_Damage 1.46)', 'Human toxicity cancer, long term')' (DALY, GLO, ('undefined',)) to 'Ceramic goods' (euro, WM, None)>\n",
      "Exchange: 5.083720264308098e-08 DALY 'Unit impact for ('IMPACTWorld+ (Default_Recommended_Damage 1.46)', 'Human toxicity cancer, short term')' (DALY, GLO, ('undefined',)) to 'Ceramic goods' (euro, WM, None)>\n",
      "Exchange: 2.1393682576782944e-06 DALY 'Unit impact for ('IMPACTWorld+ (Default_Recommended_Damage 1.46)', 'Human toxicity non-cancer, long term')' (DALY, GLO, ('undefined',)) to 'Ceramic goods' (euro, WM, None)>\n",
      "Exchange: 5.604081011433178e-07 DALY 'Unit impact for ('IMPACTWorld+ (Default_Recommended_Damage 1.46)', 'Human toxicity non-cancer, short term')' (DALY, GLO, ('undefined',)) to 'Ceramic goods' (euro, WM, None)>\n",
      "Exchange: 0.16354737159010505 PDF.m2.yr 'Unit impact for ('IMPACTWorld+ (Default_Recommended_Damage 1.46)', 'Marine acidification, long term')' (PDF.m2.yr, GLO, ('undefined',)) to 'Ceramic goods' (euro, WM, None)>\n",
      "Exchange: 0.017753178877122026 PDF.m2.yr 'Unit impact for ('IMPACTWorld+ (Default_Recommended_Damage 1.46)', 'Marine acidification, short term')' (PDF.m2.yr, GLO, ('undefined',)) to 'Ceramic goods' (euro, WM, None)>\n",
      "Exchange: 0.008312738463035365 PDF.m2.yr 'Unit impact for ('IMPACTWorld+ (Default_Recommended_Damage 1.46)', 'Marine eutrophication')' (PDF.m2.yr, GLO, ('undefined',)) to 'Ceramic goods' (euro, WM, None)>\n",
      "Exchange: 0.0006650190770428263 kg N N-lim eq 'Unit impact for ('IMPACTWorld+ (Default_Recommended_Midpoint 1.28)', 'Marine eutrophication')' (kg N N-lim eq, GLO, ('undefined',)) to 'Ceramic goods' (euro, WM, None)>\n",
      "Exchange: 4.30303224087878e-06 DALY 'Unit impact for ('IMPACTWorld+ (Default_Recommended_Damage 1.46)', 'Particulate matter formation')' (DALY, GLO, ('undefined',)) to 'Ceramic goods' (euro, WM, None)>\n",
      "Exchange: 0.003585860200732332 kg PM2.5 eq 'Unit impact for ('IMPACTWorld+ (Default_Recommended_Midpoint 1.28)', 'Particulate matter formation')' (kg PM2.5 eq, GLO, ('undefined',)) to 'Ceramic goods' (euro, WM, None)>\n",
      "Exchange: 2.0584572724199212e-10 DALY 'Unit impact for ('IMPACTWorld+ (Default_Recommended_Damage 1.46)', 'Photochemical oxidant formation')' (DALY, GLO, ('undefined',)) to 'Ceramic goods' (euro, WM, None)>\n",
      "Exchange: 0.0053553607432129365 kg NMVOC eq 'Unit impact for ('IMPACTWorld+ (Default_Recommended_Midpoint 1.28)', 'Photochemical oxidant formation')' (kg NMVOC eq, GLO, ('undefined',)) to 'Ceramic goods' (euro, WM, None)>\n",
      "Exchange: 0.11056726206343011 PDF.m2.yr 'Unit impact for ('IMPACTWorld+ (Default_Recommended_Damage 1.46)', 'Terrestrial acidification')' (PDF.m2.yr, GLO, ('undefined',)) to 'Ceramic goods' (euro, WM, None)>\n",
      "Exchange: 1.6936241562191547e-05 kg SO2 eq 'Unit impact for ('IMPACTWorld+ (Default_Recommended_Midpoint 1.28)', 'Terrestrial acidification')' (kg SO2 eq, GLO, ('undefined',)) to 'Ceramic goods' (euro, WM, None)>\n",
      "Exchange: 0.5706754928538507 m2 arable land eq .yr 'Unit impact for ('IMPACTWorld+ (Default_Recommended_Midpoint 1.28)', 'Land occupation, biodiversity')' (m2 arable land eq .yr, GLO, ('undefined',)) to 'Ceramic goods' (euro, WM, None)>\n",
      "Exchange: 0.39984181809097746 PDF.m2.yr 'Unit impact for ('IMPACTWorld+ (Default_Recommended_Damage 1.46)', 'Land occupation, biodiversity')' (PDF.m2.yr, GLO, ('undefined',)) to 'Ceramic goods' (euro, WM, None)>\n",
      "Exchange: 63.85943826845507 MJ deprived 'Unit impact for ('IMPACTWorld+ (Default_Recommended_Midpoint 1.28)', 'Fossil and nuclear energy use')' (MJ deprived, GLO, ('undefined',)) to 'Ceramic goods' (euro, WM, None)>\n",
      "Exchange: 0.16569895240856203 kg deprived 'Unit impact for ('IMPACTWorld+ (Default_Recommended_Midpoint 1.28)', 'Mineral resources use')' (kg deprived, GLO, ('undefined',)) to 'Ceramic goods' (euro, WM, None)>\n",
      "Exchange: 2.1490931134704447 m3 world-eq 'Unit impact for ('IMPACTWorld+ (Default_Recommended_Midpoint 1.28)', 'Water scarcity')' (m3 world-eq, GLO, ('undefined',)) to 'Ceramic goods' (euro, WM, None)>\n"
     ]
    }
   ],
   "source": [
    "for e in act.biosphere():\n",
    "    print(e)"
   ],
   "metadata": {
    "collapsed": false
   }
  },
  {
   "cell_type": "code",
   "execution_count": 8,
   "outputs": [
    {
     "data": {
      "text/plain": "1.0121365785598755"
     },
     "execution_count": 8,
     "metadata": {},
     "output_type": "execute_result"
    }
   ],
   "source": [
    "lca = LCA(\n",
    "    {paddy_rice_kr: 1},\n",
    "    ('IMPACTWorld+ (Default_Recommended_Midpoint 1.28)', 'Climate change, long term', )\n",
    ")\n",
    "lca.lci()\n",
    "lca.lcia()\n",
    "lca.score"
   ],
   "metadata": {
    "collapsed": false
   }
  },
  {
   "cell_type": "code",
   "execution_count": 10,
   "outputs": [
    {
     "data": {
      "text/plain": "[Exchange: 0.3507402317845475 PDF.m2.yr 'Unit impact for ('IMPACTWorld+ (Default_Recommended_Damage 1.46)', 'Climate change, ecosystem quality, long term')' (PDF.m2.yr, GLO, ('undefined',)) to 'Paddy rice' (euro, KR, None)>,\n Exchange: 0.33815126948378627 PDF.m2.yr 'Unit impact for ('IMPACTWorld+ (Default_Recommended_Damage 1.46)', 'Climate change, ecosystem quality, short term')' (PDF.m2.yr, GLO, ('undefined',)) to 'Paddy rice' (euro, KR, None)>,\n Exchange: 1.5831450695740275e-06 DALY 'Unit impact for ('IMPACTWorld+ (Default_Recommended_Damage 1.46)', 'Climate change, human health, long term')' (DALY, GLO, ('undefined',)) to 'Paddy rice' (euro, KR, None)>,\n Exchange: 1.5632417139146763e-06 DALY 'Unit impact for ('IMPACTWorld+ (Default_Recommended_Damage 1.46)', 'Climate change, human health, short term')' (DALY, GLO, ('undefined',)) to 'Paddy rice' (euro, KR, None)>,\n Exchange: 1.0121366279799406 kg CO2 eq (long) 'Unit impact for ('IMPACTWorld+ (Default_Recommended_Midpoint 1.28)', 'Climate change, long term')' (kg CO2 eq (long), GLO, ('undefined',)) to 'Paddy rice' (euro, KR, None)>,\n Exchange: 1.9133195785644825 kg CO2 eq (short) 'Unit impact for ('IMPACTWorld+ (Default_Recommended_Midpoint 1.28)', 'Climate change, short term')' (kg CO2 eq (short), GLO, ('undefined',)) to 'Paddy rice' (euro, KR, None)>,\n Exchange: 0.009238990401726687 PDF.m2.yr 'Unit impact for ('IMPACTWorld+ (Default_Recommended_Damage 1.46)', 'Freshwater acidification')' (PDF.m2.yr, GLO, ('undefined',)) to 'Paddy rice' (euro, KR, None)>,\n Exchange: 1.0465806916472844e-08 kg SO2 eq 'Unit impact for ('IMPACTWorld+ (Default_Recommended_Midpoint 1.28)', 'Freshwater acidification')' (kg SO2 eq, GLO, ('undefined',)) to 'Paddy rice' (euro, KR, None)>,\n Exchange: 3.394877861005092 CTUe 'Unit impact for ('IMPACTWorld+ (Default_Recommended_Midpoint 1.28)', 'Freshwater ecotoxicity')' (CTUe, GLO, ('undefined',)) to 'Paddy rice' (euro, KR, None)>,\n Exchange: 0.0015710274340190909 PDF.m2.yr 'Unit impact for ('IMPACTWorld+ (Default_Recommended_Damage 1.46)', 'Freshwater ecotoxicity, long term')' (PDF.m2.yr, GLO, ('undefined',)) to 'Paddy rice' (euro, KR, None)>,\n Exchange: 0.00028918785757598374 PDF.m2.yr 'Unit impact for ('IMPACTWorld+ (Default_Recommended_Damage 1.46)', 'Freshwater ecotoxicity, short term')' (PDF.m2.yr, GLO, ('undefined',)) to 'Paddy rice' (euro, KR, None)>,\n Exchange: 0.0007568087125300874 PDF.m2.yr 'Unit impact for ('IMPACTWorld+ (Default_Recommended_Damage 1.46)', 'Freshwater eutrophication')' (PDF.m2.yr, GLO, ('undefined',)) to 'Paddy rice' (euro, KR, None)>,\n Exchange: 6.638672916930672e-05 kg PO4 P-lim eq 'Unit impact for ('IMPACTWorld+ (Default_Recommended_Midpoint 1.28)', 'Freshwater eutrophication')' (kg PO4 P-lim eq, GLO, ('undefined',)) to 'Paddy rice' (euro, KR, None)>,\n Exchange: 1.0802957027121822e-08 CTUh 'Unit impact for ('IMPACTWorld+ (Default_Recommended_Midpoint 1.28)', 'Human toxicity cancer')' (CTUh, GLO, ('undefined',)) to 'Paddy rice' (euro, KR, None)>,\n Exchange: 6.569170519490445e-09 DALY 'Unit impact for ('IMPACTWorld+ (Default_Recommended_Damage 1.46)', 'Human toxicity cancer, long term')' (DALY, GLO, ('undefined',)) to 'Paddy rice' (euro, KR, None)>,\n Exchange: 1.1766483529241021e-07 DALY 'Unit impact for ('IMPACTWorld+ (Default_Recommended_Damage 1.46)', 'Human toxicity cancer, short term')' (DALY, GLO, ('undefined',)) to 'Paddy rice' (euro, KR, None)>,\n Exchange: 2.010255054075885e-07 DALY 'Unit impact for ('IMPACTWorld+ (Default_Recommended_Damage 1.46)', 'Human toxicity non-cancer, long term')' (DALY, GLO, ('undefined',)) to 'Paddy rice' (euro, KR, None)>,\n Exchange: 4.963927404447374e-08 DALY 'Unit impact for ('IMPACTWorld+ (Default_Recommended_Damage 1.46)', 'Human toxicity non-cancer, short term')' (DALY, GLO, ('undefined',)) to 'Paddy rice' (euro, KR, None)>,\n Exchange: 0.07596330012319816 PDF.m2.yr 'Unit impact for ('IMPACTWorld+ (Default_Recommended_Damage 1.46)', 'Marine acidification, long term')' (PDF.m2.yr, GLO, ('undefined',)) to 'Paddy rice' (euro, KR, None)>,\n Exchange: 0.008245862366043605 PDF.m2.yr 'Unit impact for ('IMPACTWorld+ (Default_Recommended_Damage 1.46)', 'Marine acidification, short term')' (PDF.m2.yr, GLO, ('undefined',)) to 'Paddy rice' (euro, KR, None)>,\n Exchange: 0.05920573589237516 PDF.m2.yr 'Unit impact for ('IMPACTWorld+ (Default_Recommended_Damage 1.46)', 'Marine eutrophication')' (PDF.m2.yr, GLO, ('undefined',)) to 'Paddy rice' (euro, KR, None)>,\n Exchange: 0.004736458871390004 kg N N-lim eq 'Unit impact for ('IMPACTWorld+ (Default_Recommended_Midpoint 1.28)', 'Marine eutrophication')' (kg N N-lim eq, GLO, ('undefined',)) to 'Paddy rice' (euro, KR, None)>,\n Exchange: 1.1511374182616515e-06 DALY 'Unit impact for ('IMPACTWorld+ (Default_Recommended_Damage 1.46)', 'Particulate matter formation')' (DALY, GLO, ('undefined',)) to 'Paddy rice' (euro, KR, None)>,\n Exchange: 0.0009592811818847107 kg PM2.5 eq 'Unit impact for ('IMPACTWorld+ (Default_Recommended_Midpoint 1.28)', 'Particulate matter formation')' (kg PM2.5 eq, GLO, ('undefined',)) to 'Paddy rice' (euro, KR, None)>,\n Exchange: 1.0021801462894976e-10 DALY 'Unit impact for ('IMPACTWorld+ (Default_Recommended_Damage 1.46)', 'Photochemical oxidant formation')' (DALY, GLO, ('undefined',)) to 'Paddy rice' (euro, KR, None)>,\n Exchange: 0.0029684060180583957 kg NMVOC eq 'Unit impact for ('IMPACTWorld+ (Default_Recommended_Midpoint 1.28)', 'Photochemical oxidant formation')' (kg NMVOC eq, GLO, ('undefined',)) to 'Paddy rice' (euro, KR, None)>,\n Exchange: 0.10217854748387774 PDF.m2.yr 'Unit impact for ('IMPACTWorld+ (Default_Recommended_Damage 1.46)', 'Terrestrial acidification')' (PDF.m2.yr, GLO, ('undefined',)) to 'Paddy rice' (euro, KR, None)>,\n Exchange: 1.5798088572953364e-05 kg SO2 eq 'Unit impact for ('IMPACTWorld+ (Default_Recommended_Midpoint 1.28)', 'Terrestrial acidification')' (kg SO2 eq, GLO, ('undefined',)) to 'Paddy rice' (euro, KR, None)>,\n Exchange: 1.1654790466606977 m2 arable land eq .yr 'Unit impact for ('IMPACTWorld+ (Default_Recommended_Midpoint 1.28)', 'Land occupation, biodiversity')' (m2 arable land eq .yr, GLO, ('undefined',)) to 'Paddy rice' (euro, KR, None)>,\n Exchange: 0.8165888789675011 PDF.m2.yr 'Unit impact for ('IMPACTWorld+ (Default_Recommended_Damage 1.46)', 'Land occupation, biodiversity')' (PDF.m2.yr, GLO, ('undefined',)) to 'Paddy rice' (euro, KR, None)>,\n Exchange: 53.76538555553451 MJ deprived 'Unit impact for ('IMPACTWorld+ (Default_Recommended_Midpoint 1.28)', 'Fossil and nuclear energy use')' (MJ deprived, GLO, ('undefined',)) to 'Paddy rice' (euro, KR, None)>,\n Exchange: 0.014469468140022881 kg deprived 'Unit impact for ('IMPACTWorld+ (Default_Recommended_Midpoint 1.28)', 'Mineral resources use')' (kg deprived, GLO, ('undefined',)) to 'Paddy rice' (euro, KR, None)>,\n Exchange: 4.063987716162966 m3 world-eq 'Unit impact for ('IMPACTWorld+ (Default_Recommended_Midpoint 1.28)', 'Water scarcity')' (m3 world-eq, GLO, ('undefined',)) to 'Paddy rice' (euro, KR, None)>]"
     },
     "execution_count": 10,
     "metadata": {},
     "output_type": "execute_result"
    }
   ],
   "source": [
    "[e for e in paddy_rice_kr.exchanges()]"
   ],
   "metadata": {
    "collapsed": false
   }
  },
  {
   "cell_type": "code",
   "execution_count": null,
   "outputs": [],
   "source": [],
   "metadata": {
    "collapsed": false
   }
  }
 ],
 "metadata": {
  "kernelspec": {
   "display_name": "Python 3",
   "language": "python",
   "name": "python3"
  },
  "language_info": {
   "codemirror_mode": {
    "name": "ipython",
    "version": 2
   },
   "file_extension": ".py",
   "mimetype": "text/x-python",
   "name": "python",
   "nbconvert_exporter": "python",
   "pygments_lexer": "ipython2",
   "version": "2.7.6"
  }
 },
 "nbformat": 4,
 "nbformat_minor": 0
}
