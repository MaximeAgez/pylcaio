{
 "cells": [
  {
   "cell_type": "markdown",
   "metadata": {},
   "source": [
    "This notebook shows how to export the obtained hybrid database to brightway2, a mainstream, open-source LCA software. Furthermore, brightway2 now also include a GUI for easier manipulation (https://github.com/LCA-ActivityBrowser/activity-browser), which I personally encourage to use "
   ]
  },
  {
   "cell_type": "markdown",
   "metadata": {},
   "source": [
    "Make sure to have brightway and bw2agg installed in your environment now (use pip install -r requirements.txt)"
   ]
  },
  {
   "cell_type": "markdown",
   "metadata": {},
   "source": [
    "First, let's load the hybrid database generated with pylcaio into the Analysis class."
   ]
  },
  {
   "cell_type": "code",
   "execution_count": null,
   "metadata": {},
   "outputs": [],
   "source": [
    "import pylcaio\n",
    "\n",
    "path_to_saved_hybrid_system = '/.../hybrid_system.pickle'\n",
    "Analysis = pylcaio.Analysis(path_to_saved_hybrid_system)"
   ]
  },
  {
   "cell_type": "markdown",
   "metadata": {},
   "source": [
    "Then simply call the method .export_to_brightway2() which will do all the work. There are 4 arguments:\n",
    "- bw2_project_name let's you decide how to name the brightway2 project\n",
    "- created_database_name let's you decide the name the imported hybrid database will have in brightway2\n",
    "- path_to_ecoinvent_ecospold_datasets is the path leading to the ecospold files of the ecoinvent3.5 cut-off version that you can import directly from ecoinvent's website (you should already have them from using ecospold2matrix)\n",
    "- aggregated is a boolean letting you choose if you want the hybrid complements to be aggregated or not"
   ]
  },
  {
   "cell_type": "code",
   "execution_count": null,
   "metadata": {
    "scrolled": true
   },
   "outputs": [],
   "source": [
    "bw2_project_name='my_project'\n",
    "created_database_name='hybrid-ecoinvent'\n",
    "path_to_ecoinvent_ecospold_datasets='.../ecoinvent3.5.cutoff/datasets/',\n",
    "\n",
    "Analysis.export_to_brightway2(bw2_project_name=bw2_project_name,\n",
    "                              created_database_name=created_database_name,\n",
    "                              path_to_ecoinvent_ecospold_datasets=path_to_ecoinvent_ecospold_datasets\n",
    "                              aggregated=False)"
   ]
  },
  {
   "cell_type": "markdown",
   "metadata": {},
   "source": [
    "Note that aggregating or not heavily impacts the run time of the export (1-1h30 to 4-5h) but that contribution analyses with the hybrid complements aggregated will give much less information. This export is required everytime you want to import the hybrid database into a new project, although you can cheat it out by simply moving the brightway2 database from your AppData files to a newly created bw2 project."
   ]
  },
  {
   "cell_type": "markdown",
   "metadata": {},
   "source": [
    "For more information on brightway2 (e.g. what's a project?, how do I perform a LCA using bw2?) here is the link to the documentation: https://2.docs.brightway.dev/intro.html"
   ]
  },
  {
   "cell_type": "markdown",
   "metadata": {},
   "source": [
    "Choosing the disaggregated version will allow you to have your hybrid complements (red circle below) compared to typical ecoinvent inputs in contribution analyses."
   ]
  },
  {
   "cell_type": "markdown",
   "metadata": {},
   "source": [
    "<img src=\"images/prtsc7.png\">"
   ]
  },
  {
   "cell_type": "markdown",
   "metadata": {},
   "source": [
    "When choosing the aggregated version (which is much faster to import), the impact of the hybrid complements is aggregated and entered as an exchange (brightway2 term) with the biosphere (see below)."
   ]
  },
  {
   "cell_type": "markdown",
   "metadata": {},
   "source": [
    "<img src=\"images/prtsc8.png\">"
   ]
  },
  {
   "cell_type": "markdown",
   "metadata": {},
   "source": [
    "The downside is that when looking at inputs from the technosphere, the hybrid complements cannot be separated from ecoinvent inputs."
   ]
  },
  {
   "attachments": {},
   "cell_type": "markdown",
   "metadata": {},
   "source": [
    "<img src=\"images/prtsc9.png\">"
   ]
  },
  {
   "cell_type": "markdown",
   "metadata": {},
   "source": [
    "## Notes"
   ]
  },
  {
   "cell_type": "markdown",
   "metadata": {},
   "source": [
    "- Only hybrid databases generated with EXIOBASE3 can be imported to brightway2\n",
    "- Additional environmental extensions and capital endogenization does not hinder the importation as results are aggregated as LCIA scores.\n",
    "-\tThe imported hybrid-ecoinvent database can only operate with the IMPACT World+ LCIA method, because emissions from EXIOBASE are only linked to the IW+ LCIA method. If you use other LCIA methods, only the impacts from the lifecycle emissions of the original ecoinvent will be accounted for. \n",
    "-\tThe exiobase database loaded alongside the disaggregated hybrid database is in an aggregated format and thus directly links to LCIA impacts. Loading the disaggregated version of exiobase would overload the SQLite database used by brightway2.\n",
    "-\tFor contribution analyses, the “aggregation by database” feature of the activity-browser does not seem to work for some reason.\n",
    "-\tThere were no tests to see if the common LCA operations with brightway2 (e.g., uncertainties, Monte Carlo analyses, parameters) work properly with the hybrid-ecoinvent database.\n",
    "- If you notice any uncharacteristic behaviours, feel free to drop an issue in the project so I can look it up and see if I can solve the issue."
   ]
  },
  {
   "cell_type": "code",
   "execution_count": null,
   "metadata": {},
   "outputs": [],
   "source": []
  }
 ],
 "metadata": {
  "kernelspec": {
   "display_name": "Python 3",
   "language": "python",
   "name": "python3"
  },
  "language_info": {
   "codemirror_mode": {
    "name": "ipython",
    "version": 3
   },
   "file_extension": ".py",
   "mimetype": "text/x-python",
   "name": "python",
   "nbconvert_exporter": "python",
   "pygments_lexer": "ipython3",
   "version": "3.6.8"
  }
 },
 "nbformat": 4,
 "nbformat_minor": 4
}
