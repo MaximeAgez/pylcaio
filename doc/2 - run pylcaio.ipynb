{
 "cells": [
  {
   "cell_type": "code",
   "execution_count": null,
   "outputs": [],
   "source": [
    "import os\n",
    "os.environ['BRIGHTWAY2_DIR'] = os.path.join(os.getcwd(), 'data/brightway')"
   ],
   "metadata": {
    "collapsed": false
   }
  },
  {
   "cell_type": "code",
   "execution_count": null,
   "outputs": [],
   "source": [
    "import sys\n",
    "sys.path.append(os.path.join(os.path.dirname(os.getcwd()), 'src'))"
   ],
   "metadata": {
    "collapsed": false
   }
  },
  {
   "cell_type": "code",
   "execution_count": null,
   "outputs": [],
   "source": [
    "import gzip\n",
    "import pandas as pd\n",
    "import pymrio\n",
    "import pylcaio"
   ],
   "metadata": {
    "collapsed": false
   }
  },
  {
   "cell_type": "code",
   "execution_count": null,
   "outputs": [],
   "source": [
    "with gzip.open(\n",
    "        os.path.join(os.getcwd(), 'data/ecospold2matrix_matrices/ecoinvent38/ecoinvent38Pandas_symmNorm.gz.pickle'),\n",
    "        'rb') as f:\n",
    "    ecoinvent = pd.read_pickle(f)"
   ],
   "metadata": {
    "collapsed": false
   }
  },
  {
   "cell_type": "code",
   "execution_count": null,
   "outputs": [],
   "source": [
    "io = pymrio.parse_exiobase3(path=os.path.join(os.getcwd(), 'data/pymrio_downloads/IOT_2022_pxp.zip')).calc_all()"
   ],
   "metadata": {
    "collapsed": false
   }
  },
  {
   "cell_type": "code",
   "execution_count": null,
   "outputs": [],
   "source": [
    "database_loader = pylcaio.DatabaseLoader(\n",
    "    lca_database_processed=ecoinvent,\n",
    "    io_database_processed=io,\n",
    "    lca_database_name_and_version='ecoinvent3.8',\n",
    "    io_database_name_and_version='exiobase3'\n",
    ")"
   ],
   "metadata": {
    "collapsed": false
   }
  },
  {
   "cell_type": "code",
   "execution_count": null,
   "outputs": [],
   "source": [
    "lcaio_object = database_loader.combine_ecoinvent_exiobase(\n",
    "    complete_extensions=False,\n",
    "    impact_world=True,\n",
    "    regionalized=False\n",
    ")"
   ],
   "metadata": {
    "collapsed": false
   }
  },
  {
   "cell_type": "code",
   "execution_count": null,
   "outputs": [],
   "source": [
    "lcaio_object.hybridize('STAM')"
   ],
   "metadata": {
    "collapsed": false
   }
  },
  {
   "cell_type": "code",
   "execution_count": null,
   "outputs": [],
   "source": [
    "lcaio_object.save_system('pickle')"
   ],
   "metadata": {
    "collapsed": false
   }
  }
 ],
 "metadata": {
  "kernelspec": {
   "display_name": "Python 3",
   "language": "python",
   "name": "python3"
  },
  "language_info": {
   "codemirror_mode": {
    "name": "ipython",
    "version": 2
   },
   "file_extension": ".py",
   "mimetype": "text/x-python",
   "name": "python",
   "nbconvert_exporter": "python",
   "pygments_lexer": "ipython2",
   "version": "2.7.6"
  }
 },
 "nbformat": 4,
 "nbformat_minor": 0
}
