{
 "cells": [
  {
   "cell_type": "code",
   "execution_count": 1,
   "metadata": {},
   "outputs": [],
   "source": [
    "import os\n",
    "os.environ['BRIGHTWAY2_DIR'] = os.path.join(os.getcwd(), 'data/brightway')"
   ]
  },
  {
   "cell_type": "code",
   "execution_count": 2,
   "metadata": {},
   "outputs": [],
   "source": [
    "import sys\n",
    "sys.path.append(os.path.join(os.path.dirname(os.getcwd()), 'src'))"
   ]
  },
  {
   "cell_type": "code",
   "execution_count": 3,
   "metadata": {},
   "outputs": [
    {
     "name": "stdout",
     "output_type": "stream",
     "text": [
      "Using environment variable BRIGHTWAY2_DIR for data directory:\n",
      "/home/lele/git/pylcaio_raw_raw/doc/data/brightway\n"
     ]
    }
   ],
   "source": [
    "import pylcaio"
   ]
  },
  {
   "cell_type": "code",
   "execution_count": 4,
   "metadata": {},
   "outputs": [],
   "source": [
    "Analysis = pylcaio.Analysis(\n",
    "    os.path.join(os.path.dirname(os.getcwd()), 'src/Databases/ecoinvent3.8_exiobase3/hybrid_system.pickle')\n",
    ")"
   ]
  },
  {
   "cell_type": "code",
   "execution_count": 5,
   "metadata": {},
   "outputs": [
    {
     "name": "stdout",
     "output_type": "stream",
     "text": [
      "Creating default biosphere\n",
      "\n",
      "Applying strategy: normalize_units\n",
      "Applying strategy: drop_unspecified_subcategories\n",
      "Applying strategy: ensure_categories_are_tuples\n",
      "Applied 3 strategies in 0.01 seconds\n",
      "Warning: No valid output stream.\n",
      "Title: Writing activities to SQLite3 database:\n",
      "  Started: 01/24/2023 22:40:13\n",
      "  Finished: 01/24/2023 22:40:13\n",
      "  Total time elapsed: 00:00:00\n",
      "  CPU %: 76.20\n",
      "  Memory %: 2.67\n",
      "Created database: biosphere3\n",
      "Creating default LCIA methods\n",
      "\n",
      "Applying strategy: normalize_units\n",
      "Applying strategy: set_biosphere_type\n",
      "Applying strategy: fix_ecoinvent_38_lcia_implementation\n",
      "Applying strategy: drop_unspecified_subcategories\n",
      "Applying strategy: link_iterable_by_fields\n",
      "Applied 5 strategies in 0.81 seconds\n",
      "Wrote 975 LCIA methods with 254388 characterization factors\n",
      "Creating core data migrations\n",
      "\n",
      "Extracting XML data from 19565 datasets\n",
      "Extracted 19565 datasets in 34.12 seconds\n",
      "Applying strategy: normalize_units\n",
      "Applying strategy: update_ecoinvent_locations\n",
      "Applying strategy: remove_zero_amount_coproducts\n",
      "Applying strategy: remove_zero_amount_inputs_with_no_activity\n",
      "Applying strategy: remove_unnamed_parameters\n",
      "Applying strategy: es2_assign_only_product_with_amount_as_reference_product\n",
      "Applying strategy: assign_single_product_as_activity\n",
      "Applying strategy: create_composite_code\n",
      "Applying strategy: drop_unspecified_subcategories\n",
      "Applying strategy: fix_ecoinvent_flows_pre35\n",
      "Applying strategy: drop_temporary_outdated_biosphere_flows\n",
      "Applying strategy: link_biosphere_by_flow_uuid\n",
      "Applying strategy: link_internal_technosphere_by_composite_code\n",
      "Applying strategy: delete_exchanges_missing_activity\n",
      "Applying strategy: delete_ghost_exchanges\n",
      "Applying strategy: remove_uncertainty_from_negative_loss_exchanges\n",
      "Applying strategy: fix_unreasonably_high_lognormal_uncertainties\n",
      "Applying strategy: set_lognormal_loc_value\n",
      "Applying strategy: convert_activity_parameters_to_list\n",
      "Applying strategy: add_cpc_classification_from_single_reference_product\n",
      "Applying strategy: delete_none_synonyms\n",
      "Applied 21 strategies in 6.98 seconds\n",
      "Warning: No valid output stream.\n",
      "Title: Writing activities to SQLite3 database:\n",
      "  Started: 01/24/2023 22:42:13\n",
      "  Finished: 01/24/2023 22:43:00\n",
      "  Total time elapsed: 00:00:46\n",
      "  CPU %: 70.90\n",
      "  Memory %: 14.73\n",
      "Created database: hybrid-ecoinvent\n",
      "Starting import of hybrid data\n",
      "Aggregating data\n",
      "Formating hybrid data\n",
      "Adding unit score biosphere exchanges and characterization factors to all 1020 methods in project\n",
      "Warning: No valid output stream.\n",
      "Matching ecoinvent data with hybrid data\n",
      "Deleting hybrid-ecoinvent database\n",
      "Vacuuming database \n",
      "Writing exio3_eco38_database database\n",
      "Warning: No valid output stream.\n",
      "Title: Writing activities to SQLite3 database:\n",
      "  Started: 01/24/2023 22:46:04\n",
      "  Finished: 01/24/2023 22:47:03\n",
      "  Total time elapsed: 00:00:58\n",
      "  CPU %: 71.70\n",
      "  Memory %: 34.69\n",
      "exio3_eco38_database successfully imported\n"
     ]
    }
   ],
   "source": [
    "Analysis.export_to_brightway2(\n",
    "    bw2_project_name='exio3_eco38_project',\n",
    "    created_database_name='exio3_eco38_database',\n",
    "    path_to_ecoinvent_ecospold_datasets=os.path.join(os.getcwd(), 'data/ecoinvent 3.8_cutoff_ecoSpold02/datasets'),\n",
    "    aggregated=True\n",
    ")"
   ]
  },
  {
   "cell_type": "code",
   "execution_count": null,
   "metadata": {},
   "outputs": [],
   "source": []
  }
 ],
 "metadata": {
  "kernelspec": {
   "display_name": "Python 3 (ipykernel)",
   "language": "python",
   "name": "python3"
  },
  "language_info": {
   "codemirror_mode": {
    "name": "ipython",
    "version": 3
   },
   "file_extension": ".py",
   "mimetype": "text/x-python",
   "name": "python",
   "nbconvert_exporter": "python",
   "pygments_lexer": "ipython3",
   "version": "3.9.7"
  }
 },
 "nbformat": 4,
 "nbformat_minor": 1
}
