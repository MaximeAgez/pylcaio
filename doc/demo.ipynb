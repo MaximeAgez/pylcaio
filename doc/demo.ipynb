{
 "cells": [
  {
   "cell_type": "markdown",
   "id": "472f5c08-0942-46a0-8816-f0e07894798d",
   "metadata": {},
   "source": [
    "## How to use pyLCAIO"
   ]
  },
  {
   "cell_type": "markdown",
   "id": "c45b89fb-67fa-49f8-89e3-6e8d2e54c708",
   "metadata": {},
   "source": [
    "This module shows how to run the pyLCAIO python library which hybridizes an existing ecoinvent database that you have installed in a brightway2 project, with the exiobase database. unning the whole notebook should take 1 to 2h."
   ]
  },
  {
   "cell_type": "markdown",
   "id": "ba410731-5b6c-4626-afc4-fa31ed5b8975",
   "metadata": {},
   "source": [
    "To be able to use pyLCAIO you will need:\n",
    "- to install the brightway2 Python library (brightway2 and NOT brightway2.5), easier is to get it through activity-browser: https://github.com/LCA-ActivityBrowser/activity-browser\n",
    "- a brightway project within which there is an ecoinvent database with either the version 3.9 or 3.10 cutoff\n",
    "- download the latest version of exiobase (https://doi.org/10.5281/zenodo.3583070). Take an IOT/pxp version of the reference year of your choosing."
   ]
  },
  {
   "cell_type": "code",
   "execution_count": null,
   "id": "df2dc3cc-7c47-48c7-b9d3-4e5912fdebb4",
   "metadata": {},
   "outputs": [],
   "source": [
    "import sys\n",
    "# change the path here to wherever you stored the pylcaio Python package\n",
    "sys.path.append('C://Users/.../pylcaio/src')\n",
    "import pylcaio"
   ]
  },
  {
   "cell_type": "markdown",
   "id": "f2cc2df6-f149-4b20-ae6c-7811650e83a6",
   "metadata": {},
   "source": [
    "The initialization of the Hybridize class requires 4 arguments:\n",
    "- the name of your brightway2 project where you have an ecoinvent database stored that you wish to hybridize\n",
    "- the name of the ecoinvent database you wih to hybridize\n",
    "- the version of your ecoinvent database. Supported versions are '3.9', '3.9.1', '3.10' and '3.10.1'\n",
    "- the path to the folder where you have stored exiobase files"
   ]
  },
  {
   "cell_type": "code",
   "execution_count": null,
   "id": "afc98670-468a-4560-abce-37629ddfb716",
   "metadata": {},
   "outputs": [],
   "source": [
    "lcaio = pylcaio.Hybridize(bw2_project_name='ecoinvent3.9.1', \n",
    "                           ecoinvent_db_name='ecoinvent-3.9.1-cutoff',\n",
    "                           ecoinvent_version='3.9.1'\n",
    "                           path_to_exiobase='C://Users/.../exiobase3.8.2/IOT_2019_pxp/')"
   ]
  },
  {
   "cell_type": "markdown",
   "id": "3ae94ab0-e1ea-44cc-9954-354a48fcd868",
   "metadata": {},
   "source": [
    "The initialization simply loads exiobase and parses ecoinvent in the wurst format.\n",
    "\n",
    "The next step involves getting the uncorrected upstream cutoffs matrix."
   ]
  },
  {
   "cell_type": "code",
   "execution_count": null,
   "id": "0e419265-da2a-4e94-a25f-99e7232ca23d",
   "metadata": {},
   "outputs": [],
   "source": [
    "lcaio.get_uncorrected_upstream_cutoff_matrix()"
   ]
  },
  {
   "cell_type": "markdown",
   "id": "046a92d9-9526-4555-82d5-c5d295151a02",
   "metadata": {},
   "source": [
    "The to correct for double counting incidents."
   ]
  },
  {
   "cell_type": "code",
   "execution_count": null,
   "id": "1fc068ab-1f62-437d-a450-5e1a765a86bf",
   "metadata": {},
   "outputs": [],
   "source": [
    "lcaio.correct_double_counting(method='STAM')"
   ]
  },
  {
   "cell_type": "markdown",
   "id": "2292df5d-2b0b-47b3-917f-fc6e10b3ee4f",
   "metadata": {},
   "source": [
    "The hybridization is finished. Now we need to export everything to brightway2.\n",
    "\n",
    "First we export the exiobase database to your brightway2 project."
   ]
  },
  {
   "cell_type": "code",
   "execution_count": null,
   "id": "e740405e-68c0-4628-8f92-8f17735f4f77",
   "metadata": {},
   "outputs": [],
   "source": [
    "lcaio.import_exiobase_in_bw2()"
   ]
  },
  {
   "cell_type": "markdown",
   "id": "be768d9c-a53f-45a5-b2be-5972d114765a",
   "metadata": {},
   "source": [
    "Then the hybridized version of ecoinvent"
   ]
  },
  {
   "cell_type": "code",
   "execution_count": null,
   "id": "22a523c7-386f-45b4-9f05-e5801f4205ae",
   "metadata": {},
   "outputs": [],
   "source": [
    "lcaio.import_hybridized_database()"
   ]
  },
  {
   "cell_type": "markdown",
   "id": "e2e33cd7-6b7d-4e51-b5ed-b19b6611c17b",
   "metadata": {},
   "source": [
    "And finally an LCIA method which can conveniently work with the hybridized database"
   ]
  },
  {
   "cell_type": "code",
   "execution_count": null,
   "id": "88710b74-ba21-468e-b07c-fd1c8bbe4e25",
   "metadata": {},
   "outputs": [],
   "source": [
    "lcaio.import_lcia_method_for_hybrid_lca()"
   ]
  },
  {
   "cell_type": "markdown",
   "id": "94c66b41-a6c3-4cbf-a763-6163fba83ce4",
   "metadata": {},
   "source": [
    "Now you can perform your LCAs using the hybridized version of ecoinvent either through the activity-browser or through brightway2."
   ]
  },
  {
   "cell_type": "code",
   "execution_count": null,
   "id": "ba4bb3de-7484-4923-ab77-07c02776ae08",
   "metadata": {},
   "outputs": [],
   "source": []
  }
 ],
 "metadata": {
  "kernelspec": {
   "display_name": "Python 3 (ipykernel)",
   "language": "python",
   "name": "python3"
  },
  "language_info": {
   "codemirror_mode": {
    "name": "ipython",
    "version": 3
   },
   "file_extension": ".py",
   "mimetype": "text/x-python",
   "name": "python",
   "nbconvert_exporter": "python",
   "pygments_lexer": "ipython3",
   "version": "3.11.8"
  }
 },
 "nbformat": 4,
 "nbformat_minor": 5
}
