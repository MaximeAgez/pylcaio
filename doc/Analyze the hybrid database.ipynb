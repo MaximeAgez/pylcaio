{
 "cells": [
  {
   "cell_type": "markdown",
   "metadata": {},
   "source": [
    "# Analyze the hybrid database"
   ]
  },
  {
   "cell_type": "markdown",
   "metadata": {},
   "source": [
    "This tutorial will show you how to use the methods of the Analysis class of pyLCAIO, to perform life cycle calculations and contribution analyses."
   ]
  },
  {
   "cell_type": "markdown",
   "metadata": {},
   "source": [
    "To begin this tutorial, you need to have created your hybrid database and saved it (go check the notebook \"Running_pyLCAIO\"). You should therefore have a hybrid database stored in your src/Databases pyLCAIO folder."
   ]
  },
  {
   "cell_type": "markdown",
   "metadata": {},
   "source": [
    "Begin with import statements:"
   ]
  },
  {
   "cell_type": "code",
   "execution_count": null,
   "metadata": {},
   "outputs": [],
   "source": [
    "import pandas as pd\n",
    "import sys\n",
    "sys.path.append('path_to_pylcaio/src/')\n",
    "import pylcaio"
   ]
  },
  {
   "cell_type": "markdown",
   "metadata": {},
   "source": [
    "To create an object of the Analysis you only need to provide the path to the folder containing the hybrid database."
   ]
  },
  {
   "cell_type": "code",
   "execution_count": null,
   "metadata": {},
   "outputs": [],
   "source": [
    "analysis_object = pylcaio.Analysis('C://Users/Maxime/Desktop/Thesis/Modules_Python/pylcaio/src/Databases/'+\n",
    "                                   'ecoinvent3.5_exiobase3/STAM_capitals_extended_IW/hybrid_system.pickle')"
   ]
  },
  {
   "cell_type": "markdown",
   "metadata": {},
   "source": [
    "Two main methods in the Analysis class:\n",
    "* calc_lifecycle(), performing life cycle calculations\n",
    "* contribution_analysis(), performing contribution analyses"
   ]
  },
  {
   "cell_type": "markdown",
   "metadata": {},
   "source": [
    "# Life cycle calculations"
   ]
  },
  {
   "cell_type": "code",
   "execution_count": null,
   "metadata": {},
   "outputs": [],
   "source": [
    "analysis_object.calc_lifecycle()"
   ]
  },
  {
   "cell_type": "markdown",
   "metadata": {},
   "source": [
    "Calculations should take from 5 to 30 minutes depending on the calculation power of your machine and the features of the hybrid database. Results of the calculations are contained within the D matrix."
   ]
  },
  {
   "cell_type": "code",
   "execution_count": null,
   "metadata": {},
   "outputs": [],
   "source": [
    "analysis_object.D"
   ]
  },
  {
   "cell_type": "markdown",
   "metadata": {},
   "source": [
    "analysis_object.D is a pandas dataframe, you can therefore manipulate it as any dataframe or if you are not comfortable with pandas, you can export the results to excel:"
   ]
  },
  {
   "cell_type": "code",
   "execution_count": null,
   "metadata": {},
   "outputs": [],
   "source": [
    "analysis_object.D.to_excel('put_the_path_where_you_want_the_excel_sheet_to_be/name_of_the_excel_sheet.xlsx')"
   ]
  },
  {
   "cell_type": "markdown",
   "metadata": {},
   "source": [
    "All objects of the Analysis module linked with ecoinvent work with UUIDs. To associate an ID to its features, use the PRO_f and STR matrices:"
   ]
  },
  {
   "cell_type": "code",
   "execution_count": null,
   "metadata": {},
   "outputs": [],
   "source": [
    "metadata_economic_flows = pd.DataFrame.from_dict(analysis_object.PRO_f)\n",
    "metadata_environmental_flows = pd.DataFrame.from_dict(analysis_object.STR)"
   ]
  },
  {
   "cell_type": "markdown",
   "metadata": {},
   "source": [
    "# Contribution analyses"
   ]
  },
  {
   "cell_type": "markdown",
   "metadata": {},
   "source": [
    "To perform contribution analyses, call the appropriate method along with the UUID of the process you wish the examine. To find the process you want, use the metadata_economic_flows dataframe we just created before."
   ]
  },
  {
   "cell_type": "code",
   "execution_count": null,
   "metadata": {},
   "outputs": [],
   "source": [
    "contribution_analysis = analysis_object.contributions(UUID)"
   ]
  },
  {
   "cell_type": "markdown",
   "metadata": {},
   "source": [
    "If you struggle to manipulate dataframes, you can rely on the .navite_through_PRO_f() method. You can enter a product, an activity, a geography or a combination of the three to pin down the process you wish to analyze. Say you want to take a look at a process of hybroelectricity of France:"
   ]
  },
  {
   "cell_type": "code",
   "execution_count": null,
   "metadata": {},
   "outputs": [],
   "source": [
    "analysis_object.navigate_through_PRO_f(product='electricity',geography='FR',activity='hydro')"
   ]
  },
  {
   "cell_type": "markdown",
   "metadata": {},
   "source": [
    "contributions() returns multiple items. The diagonalized total demand for the selected process (X), the normalized emissions for each process (F) and the characterization matrix (C)."
   ]
  },
  {
   "cell_type": "code",
   "execution_count": null,
   "metadata": {},
   "outputs": [],
   "source": [
    "X = contribution_analysis[0]\n",
    "F = contribution_analysis[1]\n",
    "C = contribution_analysis[2]"
   ]
  },
  {
   "cell_type": "markdown",
   "metadata": {},
   "source": [
    "You can then execute the operation you want to either obtain total emissions or total impacts:"
   ]
  },
  {
   "cell_type": "code",
   "execution_count": null,
   "metadata": {},
   "outputs": [],
   "source": [
    "total_emissions = F.dot(X)\n",
    "total_impacts = C.dot(F).dot(X)"
   ]
  },
  {
   "cell_type": "markdown",
   "metadata": {},
   "source": [
    "Note that if you a reusing a regionalized version, there are 2 additional matrices:"
   ]
  },
  {
   "cell_type": "code",
   "execution_count": null,
   "metadata": {},
   "outputs": [],
   "source": [
    "X = contribution_analysis[0]\n",
    "F = contribution_analysis[1]\n",
    "C = contribution_analysis[2]\n",
    "F_regio = contribution_analysis[3]\n",
    "C_regio = contribution_analysis[4]"
   ]
  },
  {
   "cell_type": "markdown",
   "metadata": {},
   "source": [
    "And the calculation therefore goes like this:"
   ]
  },
  {
   "cell_type": "code",
   "execution_count": null,
   "metadata": {},
   "outputs": [],
   "source": [
    "total_emissions = F.dot(X)\n",
    "total_impacts = C.dot(F).dot(X)\n",
    "total_emissions_regio = F_regio.dot(X)\n",
    "total_impacts_regio = C_regio.dot(F_regio).dot(X)"
   ]
  }
 ],
 "metadata": {
  "kernelspec": {
   "display_name": "Python 3",
   "language": "python",
   "name": "python3"
  },
  "language_info": {
   "codemirror_mode": {
    "name": "ipython",
    "version": 3
   },
   "file_extension": ".py",
   "mimetype": "text/x-python",
   "name": "python",
   "nbconvert_exporter": "python",
   "pygments_lexer": "ipython3",
   "version": "3.6.10"
  }
 },
 "nbformat": 4,
 "nbformat_minor": 2
}
