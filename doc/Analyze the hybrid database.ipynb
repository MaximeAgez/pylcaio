{
 "cells": [
  {
   "cell_type": "markdown",
   "metadata": {},
   "source": [
    "# Analyze the hybrid database"
   ]
  },
  {
   "cell_type": "markdown",
   "metadata": {},
   "source": [
    "This tutorial will show you how to use the methods of the Analysis class of pyLCAIO, to perform life cycle calculations and contribution analyses."
   ]
  },
  {
   "cell_type": "markdown",
   "metadata": {},
   "source": [
    "To begin this tutorial, you need to have created your hybrid database and saved it (go check the notebook \"Running_pyLCAIO\"). You should therefore have a hybrid database stored in your src/Databases pyLCAIO folder. The name of the file will depend on the parameters used to create the hybrid database. For example, in the \"Running_pyLCAIO\" notebook, we used ecoinvent3.5 and exiobase3 and relied on the STAM method to corrected double counting."
   ]
  },
  {
   "cell_type": "markdown",
   "metadata": {},
   "source": [
    "Begin with import statements:"
   ]
  },
  {
   "cell_type": "code",
   "execution_count": null,
   "metadata": {},
   "outputs": [],
   "source": [
    "import pandas as pd\n",
    "import sys\n",
    "sys.path.append('path_to_pylcaio/src/')\n",
    "import pylcaio"
   ]
  },
  {
   "cell_type": "markdown",
   "metadata": {},
   "source": [
    "To create an object of the Analysis class 3 parameters are required: the name and version of both databases and the method to correct double counting. This object will then go to the src/Databases/ folder and select the hybrid system corresponding to the parameters entered. In this hybrid system are included all the important matrices created during the hybridization process."
   ]
  },
  {
   "cell_type": "code",
   "execution_count": null,
   "metadata": {},
   "outputs": [],
   "source": [
    "analysis_object = pylcaio.Analysis('ecoinvent3.5','exiobase3',method_double_counting='STAM')"
   ]
  },
  {
   "cell_type": "markdown",
   "metadata": {},
   "source": [
    "Two main methods in the Analysis class:\n",
    "* calc_lifecycle(), performing life cycle calculations\n",
    "* contribution_analysis(), performing contribution analyses"
   ]
  },
  {
   "cell_type": "markdown",
   "metadata": {},
   "source": [
    "# Life cycle calculations"
   ]
  },
  {
   "cell_type": "code",
   "execution_count": null,
   "metadata": {},
   "outputs": [],
   "source": [
    "analysis_object.calc_lifecycle()"
   ]
  },
  {
   "cell_type": "markdown",
   "metadata": {},
   "source": [
    "Calculations should take between 5 and 10 minutes depending on the calculation power of your machine. Results of the calculations are contained within the d matrix."
   ]
  },
  {
   "cell_type": "code",
   "execution_count": null,
   "metadata": {},
   "outputs": [],
   "source": [
    "analysis_object.d"
   ]
  },
  {
   "cell_type": "markdown",
   "metadata": {},
   "source": [
    "To manipulate the results you can either rely on pandas (and by extension on pyLCAIO) or export the matrix to excel using the following command:"
   ]
  },
  {
   "cell_type": "code",
   "execution_count": null,
   "metadata": {},
   "outputs": [],
   "source": [
    "analysis_object.d.to_excel('put_the_path_where_you_want_the_excel_sheet_to_be/name_of_the_excel_sheet.xlsx')"
   ]
  },
  {
   "cell_type": "markdown",
   "metadata": {},
   "source": [
    "The following section describes the manipulation of the results using pyLCAIO. \n",
    "\n",
    "To navigate within the matrix use the .loc command, where the first argument looks at the rows (in this case impact methods) and the second argument looks at the columns (in this case the UUIDs of processes of ecoinvent). "
   ]
  },
  {
   "cell_type": "code",
   "execution_count": null,
   "metadata": {},
   "outputs": [],
   "source": [
    "analysis_object.d.loc['CML 2001; climate change; GWP 100a; kg CO2-Eq','a96cb241-a4a9-4980-a16a-ba4b6a80175e_aeaf5266-3f9c-4074-bd34-eba76a61760c']"
   ]
  },
  {
   "cell_type": "markdown",
   "metadata": {},
   "source": [
    "__How do I scroll through the available impact methods to select the one I want?__"
   ]
  },
  {
   "cell_type": "markdown",
   "metadata": {},
   "source": [
    "First, know that only CML2001 is implemented in Exiobase. While adding CO2 characterized with ReCiPe (for the ecoinvent part) to CO2 characterized with CML2001 (for the exiobase part) will obviously work, we recommend limiting the use of other impact methods.\n",
    "\n",
    "To get the exact name of the method, use the get_available_impact_methods() method. Say we want to see the names of the CML2001 methods for Global Warming Potential. The method returns two elements. The first one (i.e., the element indexed as 0 using Python logic) is the name of the method as used by __ecoinvent__ while the second (the element indexed as 1) is the name as used by __exiobase__."
   ]
  },
  {
   "cell_type": "code",
   "execution_count": null,
   "metadata": {},
   "outputs": [],
   "source": [
    "#for ecoinvent\n",
    "analysis_object.get_available_impact_methods('GWP')[0]"
   ]
  },
  {
   "cell_type": "code",
   "execution_count": null,
   "metadata": {},
   "outputs": [],
   "source": [
    "#for exiobase\n",
    "analysis_object.get_available_impact_methods('GWP')[1]"
   ]
  },
  {
   "cell_type": "markdown",
   "metadata": {},
   "source": [
    "__How do I match a UUID to the name and other characteristics of the process?__"
   ]
  },
  {
   "cell_type": "markdown",
   "metadata": {},
   "source": [
    "The link between UUIDs and the metadata of processes is made in the PRO_f matrix. To facilitate the research of the correct UUID, use the method navigate_through_PRO_f(). The method has three arguments product, geography and activity, depending if you enter a product, a geography, an activity or a combination of those.\n",
    "\n",
    "If we are looking for every process producing 'barley' and happening in Quebec:"
   ]
  },
  {
   "cell_type": "code",
   "execution_count": null,
   "metadata": {},
   "outputs": [],
   "source": [
    "analysis_object.navigate_through_PRO_f(product='barley',geography='CA-QC')"
   ]
  },
  {
   "cell_type": "markdown",
   "metadata": {},
   "source": [
    "Just need to copy/paste the index after that."
   ]
  },
  {
   "cell_type": "markdown",
   "metadata": {},
   "source": [
    "To determine the percentage of increase in GWP due to hybridization of the barley process of Quebec for example, you just need to execute basic operation, now that you can access the data using the .loc command. Here I use variables to make the calculation clearer:"
   ]
  },
  {
   "cell_type": "code",
   "execution_count": null,
   "metadata": {},
   "outputs": [],
   "source": [
    "GWP_traditional_ecoinvent = analysis_object.d.loc[analysis_object.get_available_impact_methods('GWP')[0],'a96cb241-a4a9-4980-a16a-ba4b6a80175e_aeaf5266-3f9c-4074-bd34-eba76a61760c']\n",
    "GWP_added_emissions_through_hybridization = analysis_object.d.loc[analysis_object.get_available_impact_methods('GWP')[1],'a96cb241-a4a9-4980-a16a-ba4b6a80175e_aeaf5266-3f9c-4074-bd34-eba76a61760c'][0]\n",
    "\n",
    "GWP_hybrid_database = GWP_traditional_ecoinvent + GWP_added_emissions_through_hybridization\n",
    "\n",
    "increase = GWP_added_emissions_through_hybridization / GWP_traditional_ecoinvent *100\n",
    "increase"
   ]
  },
  {
   "cell_type": "markdown",
   "metadata": {},
   "source": [
    "# Contribution analyses"
   ]
  },
  {
   "cell_type": "markdown",
   "metadata": {},
   "source": [
    "The contribution_analysis method has three arguments. \n",
    "\n",
    "First, specify the type of contribution analysis wanted. It can be only on the original ecoinvent inputs (origin), only on the inputs added by the hybridization (added) or on both (both).\n",
    "\n",
    "UUID corresponds to the UUID of the process to analyze. (use navigate_through_PRO_F() again)\n",
    "\n",
    "impact_category corresponds to the impact category to analyze (GWP100, Acidification, Eutrohpication or Human toxicity)"
   ]
  },
  {
   "cell_type": "code",
   "execution_count": null,
   "metadata": {},
   "outputs": [],
   "source": [
    "df = analysis_object.contribution_analysis(type_of_analysis='both',\n",
    "                                           UUID='a96cb241-a4a9-4980-a16a-ba4b6a80175e_aeaf5266-3f9c-4074-bd34-eba76a61760c',\n",
    "                                           impact_category='GWP100')"
   ]
  },
  {
   "cell_type": "markdown",
   "metadata": {},
   "source": [
    "The calculation will take around 10-15 minutes. Then you can either manipulate the dataframe (df) through pandas if you are accustomed to using it or export the results to an excel sheet."
   ]
  },
  {
   "cell_type": "code",
   "execution_count": null,
   "metadata": {},
   "outputs": [],
   "source": [
    "df.to_excel('put_the_path_where_you_want_the_excel_sheet_to_be/name_of_the_excel_sheet.xlsx')"
   ]
  }
 ],
 "metadata": {
  "kernelspec": {
   "display_name": "Python 3",
   "language": "python",
   "name": "python3"
  },
  "language_info": {
   "codemirror_mode": {
    "name": "ipython",
    "version": 3
   },
   "file_extension": ".py",
   "mimetype": "text/x-python",
   "name": "python",
   "nbconvert_exporter": "python",
   "pygments_lexer": "ipython3",
   "version": "3.6.8"
  }
 },
 "nbformat": 4,
 "nbformat_minor": 2
}
