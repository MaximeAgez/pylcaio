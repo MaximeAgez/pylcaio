{
 "cells": [
  {
   "cell_type": "code",
   "execution_count": null,
   "outputs": [],
   "source": [
    "import os"
   ],
   "metadata": {
    "collapsed": false
   }
  },
  {
   "cell_type": "code",
   "execution_count": null,
   "outputs": [],
   "source": [
    "import ecospold2matrix as e2m"
   ],
   "metadata": {
    "collapsed": false
   }
  },
  {
   "cell_type": "code",
   "execution_count": null,
   "metadata": {},
   "outputs": [],
   "source": [
    "parser = e2m.Ecospold2Matrix(\n",
    "    sys_dir=os.path.join(os.getcwd(), 'data/ecoinvent 3.8_cutoff_ecoSpold02'),\n",
    "    project_name='ecoinvent38',\n",
    "    out_dir=os.path.join(os.getcwd(), 'data/ecospold2matrix_matrices/ecoinvent38'),\n",
    "    lci_dir=os.path.join(os.getcwd(), 'data/ecoinvent 3.8_cutoff_ecoSpold02/datasets'),\n",
    "    positive_waste=True,\n",
    "    nan2null=True,\n",
    "    version_name='3.8',\n",
    "    characterisation_file=os.path.join(os.getcwd(), 'data/ecoinvent 3.8_LCIA_implementation/LCIA Implementation v3.8.xlsx')\n",
    ")"
   ]
  },
  {
   "cell_type": "code",
   "execution_count": null,
   "metadata": {
    "pycharm": {
     "is_executing": true
    }
   },
   "outputs": [],
   "source": [
    "parser.ecospold_to_Leontief(fileformats='Pandas', with_absolute_flows=False)"
   ]
  }
 ],
 "metadata": {
  "kernelspec": {
   "display_name": "Python 3 (ipykernel)",
   "language": "python",
   "name": "python3"
  },
  "language_info": {
   "codemirror_mode": {
    "name": "ipython",
    "version": 3
   },
   "file_extension": ".py",
   "mimetype": "text/x-python",
   "name": "python",
   "nbconvert_exporter": "python",
   "pygments_lexer": "ipython3",
   "version": "3.9.16"
  }
 },
 "nbformat": 4,
 "nbformat_minor": 2
}
